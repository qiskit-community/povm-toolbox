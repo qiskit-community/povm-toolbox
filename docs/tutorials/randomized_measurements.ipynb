{
 "cells": [
  {
   "cell_type": "markdown",
   "metadata": {},
   "source": [
    "# Randomized measurements\n",
    "\n",
    "This tutorial shows the different randomized measurements of the `povm_toolbox`."
   ]
  },
  {
   "cell_type": "code",
   "execution_count": 1,
   "metadata": {},
   "outputs": [],
   "source": [
    "%load_ext autoreload\n",
    "%autoreload 2"
   ]
  },
  {
   "cell_type": "markdown",
   "metadata": {},
   "source": [
    "## Circuit and Observables\n",
    "\n",
    "We first look at a random the 2-qubit circuit, with depth 3."
   ]
  },
  {
   "cell_type": "code",
   "execution_count": 2,
   "metadata": {},
   "outputs": [
    {
     "data": {
      "image/png": "[encoded data removed]",
      "text/plain": [
       "<Figure size 454.517x284.278 with 1 Axes>"
      ]
     },
     "execution_count": 2,
     "metadata": {},
     "output_type": "execute_result"
    }
   ],
   "source": [
    "from qiskit.circuit import ClassicalRegister, QuantumCircuit\n",
    "from qiskit.circuit.library import XXMinusYYGate\n",
    "\n",
    "num_qubits = 2\n",
    "\n",
    "# circuit originally generated by\n",
    "# `random_circuit(num_qubits=num_qubits, depth=3, measure=False, seed=0)`\n",
    "\n",
    "qc_random = QuantumCircuit(2)\n",
    "qc_random.append(XXMinusYYGate(1.7, 0.257), [0, 1])\n",
    "qc_random.rx(5.74, qubit=0)\n",
    "qc_random.id(qubit=1)\n",
    "qc_random.ch(control_qubit=1, target_qubit=0)\n",
    "\n",
    "creg = ClassicalRegister(1)\n",
    "qc_random.add_register(creg)\n",
    "qc_random.draw(\"mpl\", style=\"iqp\")"
   ]
  },
  {
   "cell_type": "markdown",
   "metadata": {},
   "source": [
    "We also draw 3 random observables."
   ]
  },
  {
   "cell_type": "code",
   "execution_count": 3,
   "metadata": {},
   "outputs": [],
   "source": [
    "from qiskit.quantum_info import SparsePauliOp\n",
    "\n",
    "set_observables = [\n",
    "    SparsePauliOp([\"II\", \"XX\", \"YY\", \"ZY\"], coeffs=[1, 1, -4, 1]),\n",
    "    SparsePauliOp([\"XI\", \"ZX\", \"YI\"], coeffs=[1, -1, 2.5]),\n",
    "    SparsePauliOp([\"II\", \"XI\", \"ZI\", \"IX\", \"IY\", \"YX\"], coeffs=[0.4, 4, -1, 1, -0.5, 1.8]),\n",
    "]"
   ]
  },
  {
   "cell_type": "markdown",
   "metadata": {},
   "source": [
    "For reference, we compute the true final state and the exact expectation values for the different observables."
   ]
  },
  {
   "cell_type": "code",
   "execution_count": 4,
   "metadata": {},
   "outputs": [],
   "source": [
    "import numpy as np\n",
    "from qiskit.quantum_info import Statevector\n",
    "\n",
    "exact_state = Statevector(qc_random)\n",
    "exp_val = np.real_if_close(\n",
    "    np.array([exact_state.expectation_value(obs) for obs in set_observables])\n",
    ")"
   ]
  },
  {
   "cell_type": "markdown",
   "metadata": {},
   "source": [
    "## Classical Shadows\n",
    "\n",
    "We now look at the implementation of Classical Shadows measurement."
   ]
  },
  {
   "cell_type": "code",
   "execution_count": 5,
   "metadata": {},
   "outputs": [],
   "source": [
    "from povm_toolbox.library import ClassicalShadows\n",
    "\n",
    "# By default, the Classical Shadows (CS) measurement uses Z-,X-,Y-measurements with equal probability.\n",
    "cs_implementation = ClassicalShadows(num_qubits=num_qubits, seed=23)\n",
    "# Define the default shot budget.\n",
    "cs_shots = 4096\n",
    "# Construct the `POVMSamplerPub`.\n",
    "cs_pub = (qc_random, None, cs_shots, cs_implementation)"
   ]
  },
  {
   "cell_type": "markdown",
   "metadata": {},
   "source": [
    "## Locally-Biased Classical Shadows\n",
    "We now look at Classical Shadows that can be locally-biased."
   ]
  },
  {
   "cell_type": "code",
   "execution_count": 6,
   "metadata": {},
   "outputs": [],
   "source": [
    "from povm_toolbox.library import LocallyBiasedClassicalShadows\n",
    "\n",
    "# Set the distributions of the shots among the Z-,X-,Y-measurements (in this order).\n",
    "bias = np.array(\n",
    "    [\n",
    "        [\n",
    "            0.0000000028,  # bias for Z-measurements on first qubit\n",
    "            0.4408677642,  # bias for X-measurements on first qubit\n",
    "            0.5591322330,  # bias for Y-measurements on first qubit\n",
    "        ],\n",
    "        [\n",
    "            0.1989721524,  # bias for Z-measurements on second qubit\n",
    "            0.3190601952,  # bias for X-measurements on second qubit\n",
    "            0.4819676524,  # bias for Y-measurements on second qubit\n",
    "        ],\n",
    "    ]\n",
    ")\n",
    "\n",
    "# The Locally-Biased Classical Shadows (LBCS) measurement uses Z-,X-,Y-measurements with different probabilities.\n",
    "lbcs_implementation = LocallyBiasedClassicalShadows(num_qubits=num_qubits, bias=bias, seed=24)\n",
    "# Define the default shot budget.\n",
    "lbcs_shots = 4096\n",
    "# Construct the `POVMSamplerPub`.\n",
    "lbcs_pub = (qc_random, None, lbcs_shots, lbcs_implementation)"
   ]
  },
  {
   "cell_type": "markdown",
   "metadata": {},
   "source": [
    "## Mutually-Unbiased-Bases POVM\n",
    "We now look at POVMs that are rotated locally-biased Classical Shadows."
   ]
  },
  {
   "cell_type": "code",
   "execution_count": 7,
   "metadata": {},
   "outputs": [],
   "source": [
    "from povm_toolbox.library import MutuallyUnbiasedBasesMeasurements\n",
    "\n",
    "# Define the Euler angles to rotate the measurement.\n",
    "angles = np.array(\n",
    "    [\n",
    "        [0.0000027222, 0.0000000910, 0.3],\n",
    "        [0.0000022917, 0.0000002655, 0.0],\n",
    "    ]\n",
    ")\n",
    "\n",
    "# Set the distributions of the shots among the PMs.\n",
    "bias = np.array(\n",
    "    [\n",
    "        [0.0000372719, 0.4377084332, 0.5622542949],\n",
    "        [0.2002136793, 0.3192036469, 0.4805826738],\n",
    "    ]\n",
    ")\n",
    "\n",
    "# Define the PM-simulable POVM.\n",
    "mub_implementation = MutuallyUnbiasedBasesMeasurements(\n",
    "    num_qubits=num_qubits, bias=bias, angles=angles, seed=12\n",
    ")\n",
    "# Define the default shot budget.\n",
    "mub_shots = 4100\n",
    "# Construct the `POVMSamplerPub`.\n",
    "mub_pub = (qc_random, None, mub_shots, mub_implementation)"
   ]
  },
  {
   "cell_type": "markdown",
   "metadata": {},
   "source": [
    "## PM-simulable POVM\n",
    "We now look at POVMs that are simulable (through randomization) with only single-qubit projective measurements (PMs)."
   ]
  },
  {
   "cell_type": "code",
   "execution_count": 8,
   "metadata": {},
   "outputs": [],
   "source": [
    "from povm_toolbox.library import RandomizedProjectiveMeasurements\n",
    "\n",
    "# Define our projective measurements acting on each qubit.\n",
    "angles = np.array(\n",
    "    [\n",
    "        [0.0000027222, 0.0000000910, 1.5707688831, 0.0000235665, 1.5707519773, 1.5707694998],\n",
    "        [0.0000022917, 0.0000002655, 1.5707961328, 0.0000069500, 1.5707958682, 1.5708006931],\n",
    "    ]\n",
    ")\n",
    "\n",
    "# Set the distributions of the shots among the PMs.\n",
    "bias = np.array(\n",
    "    [\n",
    "        [0.0000372719, 0.4377084332, 0.5622542949],\n",
    "        [0.2002136793, 0.3192036469, 0.4805826738],\n",
    "    ]\n",
    ")\n",
    "\n",
    "# Define the PM-simulable POVM.\n",
    "pmsim_implementation = RandomizedProjectiveMeasurements(\n",
    "    num_qubits=num_qubits, bias=bias, angles=angles, seed=25\n",
    ")\n",
    "# Define the default shot budget.\n",
    "pmsim_shots = 4100\n",
    "# Construct the `POVMSamplerPub`.\n",
    "pmsim_pub = (qc_random, None, pmsim_shots, pmsim_implementation)"
   ]
  },
  {
   "cell_type": "markdown",
   "metadata": {},
   "source": [
    "## POVM Sampler\n",
    "\n",
    "We now instantiate the `POVMSampler` that will use the different POVM measurements."
   ]
  },
  {
   "cell_type": "code",
   "execution_count": 9,
   "metadata": {},
   "outputs": [],
   "source": [
    "from numpy.random import default_rng\n",
    "from povm_toolbox.sampler.povm_sampler import POVMSampler\n",
    "from qiskit.primitives import StatevectorSampler\n",
    "\n",
    "# First define a standard sampler (that will be used under the hood).\n",
    "sampler = StatevectorSampler(seed=default_rng(0))\n",
    "# Then define the POVM sampler, which takes BaseSampler as an argument.\n",
    "povm_sampler = POVMSampler(sampler)\n",
    "# Submit the job by specifying which POVM to use, which circuit(s) to measure and the shot budget.\n",
    "job = povm_sampler.run([cs_pub, lbcs_pub, mub_pub, pmsim_pub])"
   ]
  },
  {
   "cell_type": "markdown",
   "metadata": {},
   "source": [
    "### Results\n",
    "We retrieve the result object, which contains the POVM used and from which we can query the counts of each outcome."
   ]
  },
  {
   "cell_type": "code",
   "execution_count": 10,
   "metadata": {},
   "outputs": [
    {
     "name": "stdout",
     "output_type": "stream",
     "text": [
      "\n",
      "--------------------------------------------------------------------------------------\n",
      "\n",
      "PUB number : 0\n",
      "POVM class: ClassicalShadows(num_qubits=2)\n",
      "Number of shots : 4096\n",
      "\n",
      "   Exact         Estimate       Error      Estimated std     z-score\n",
      "    1.470e+00      1.347e+00       8.4%          0.19243       -0.64\n",
      "   -1.420e+00     -1.294e+00       8.8%          0.08414        1.49\n",
      "    2.947e+00      3.072e+00       4.2%          0.12670        0.98\n",
      "\n",
      "--------------------------------------------------------------------------------------\n",
      "\n",
      "PUB number : 1\n",
      "POVM class: LocallyBiasedClassicalShadows(num_qubits=2, bias=array([[2.80000000e-09, 4.40867764e-01, 5.59132233e-01],\n",
      "       [1.98972152e-01, 3.19060195e-01, 4.81967652e-01]]))\n",
      "Number of shots : 4096\n",
      "\n",
      "   Exact         Estimate       Error      Estimated std     z-score\n",
      "    1.470e+00      1.533e+00       4.3%          0.13764        0.46\n",
      "   -1.420e+00     -1.532e+00       7.9%          0.07798       -1.44\n",
      "    2.947e+00      2.920e+00       0.9%          0.11659       -0.24\n",
      "\n",
      "--------------------------------------------------------------------------------------\n",
      "\n",
      "PUB number : 2\n",
      "POVM class: MutuallyUnbiasedBasesMeasurements(num_qubits=2, bias=array([[3.72719000e-05, 4.37708433e-01, 5.62254295e-01],\n",
      "       [2.00213679e-01, 3.19203647e-01, 4.80582674e-01]]), angles=array([[2.7222e-06, 9.1000e-08, 3.0000e-01],\n",
      "       [2.2917e-06, 2.6550e-07, 0.0000e+00]]))\n",
      "Number of shots : 4100\n",
      "\n",
      "   Exact         Estimate       Error      Estimated std     z-score\n",
      "    1.470e+00      1.495e+00       1.7%          0.13698        0.18\n",
      "   -1.420e+00     -1.497e+00       5.5%          0.07997       -0.97\n",
      "    2.947e+00      2.826e+00       4.1%          0.11678       -1.04\n",
      "\n",
      "--------------------------------------------------------------------------------------\n",
      "\n",
      "PUB number : 3\n",
      "POVM class: RandomizedProjectiveMeasurements(num_qubits=2, bias=array([[3.72719000e-05, 4.37708433e-01, 5.62254295e-01],\n",
      "       [2.00213679e-01, 3.19203647e-01, 4.80582674e-01]]), angles=array([[[2.72220000e-06, 9.10000000e-08],\n",
      "        [1.57076888e+00, 2.35665000e-05],\n",
      "        [1.57075198e+00, 1.57076950e+00]],\n",
      "\n",
      "       [[2.29170000e-06, 2.65500000e-07],\n",
      "        [1.57079613e+00, 6.95000000e-06],\n",
      "        [1.57079587e+00, 1.57080069e+00]]]))\n",
      "Number of shots : 4100\n",
      "\n",
      "   Exact         Estimate       Error      Estimated std     z-score\n",
      "    1.470e+00      1.521e+00       3.4%          0.13332        0.38\n",
      "   -1.420e+00     -1.495e+00       5.3%          0.07798       -0.97\n",
      "    2.947e+00      3.054e+00       3.6%          0.11699        0.91\n",
      "\n",
      "--------------------------------------------------------------------------------------\n",
      "\n"
     ]
    }
   ],
   "source": [
    "from povm_toolbox.post_processor.povm_post_processor import POVMPostProcessor\n",
    "\n",
    "# Retrieve the `PrimitiveResult` object, which contains 3 `POVMPubResult` objects.\n",
    "result = job.result()\n",
    "print(f'\\n{\"-\":-<85}-\\n')\n",
    "\n",
    "# Loop through the different PUB results\n",
    "for k, pub_result in enumerate(result):\n",
    "    # Instantiate the post-processor from the PUB result.\n",
    "    post_processor = POVMPostProcessor(pub_result)\n",
    "    print(f\"PUB number : {k}\")\n",
    "    # If one wants to explicitly retrieve the POVM used for a specific PUB,\n",
    "    # it can be accessed through the metadata of the PUB result.\n",
    "    print(f\"POVM class: {pub_result.metadata.povm_implementation}\")\n",
    "    print(f\"Number of shots : {sum(post_processor.counts[0].values())}\\n\")\n",
    "\n",
    "    print(\"   Exact         Estimate       Error      Estimated std     z-score\")\n",
    "    for i, obs in enumerate(set_observables):\n",
    "        cs_est_exp_val, std = post_processor.get_expectation_value(obs)\n",
    "        print(\n",
    "            f\"   {np.real(exp_val[i]):>10.3e}   {cs_est_exp_val:>12.3e}   {abs(cs_est_exp_val-np.real(exp_val[i]))/abs(np.real(exp_val[i])):>8.1%}\",\n",
    "            end=\" \",\n",
    "        )\n",
    "        print(f\"        {std:> 8.5f} {(cs_est_exp_val-np.real(exp_val[i]))/std:> 11.2f}\")\n",
    "    print(f'\\n{\"-\":-<85}-\\n')"
   ]
  },
  {
   "cell_type": "code",
   "execution_count": 11,
   "metadata": {},
   "outputs": [
    {
     "data": {
      "image/png": "[encoded data removed]",
      "text/plain": [
       "<Figure size 1630.58x367.889 with 1 Axes>"
      ]
     },
     "execution_count": 11,
     "metadata": {},
     "output_type": "execute_result"
    }
   ],
   "source": [
    "# Inspect one of the circuit sent to the internal `BaseSamplerV2` sampler:\n",
    "\n",
    "lbcs_composed_circuit = result[1].metadata.composed_circuit\n",
    "lbcs_composed_circuit.draw(\"mpl\", style=\"iqp\")"
   ]
  }
 ],
 "metadata": {
  "kernelspec": {
   "display_name": ".venv",
   "language": "python",
   "name": "python3"
  },
  "language_info": {
   "codemirror_mode": {
    "name": "ipython",
    "version": 3
   },
   "file_extension": ".py",
   "mimetype": "text/x-python",
   "name": "python",
   "nbconvert_exporter": "python",
   "pygments_lexer": "ipython3",
   "version": "3.12.2"
  }
 },
 "nbformat": 4,
 "nbformat_minor": 2
}
