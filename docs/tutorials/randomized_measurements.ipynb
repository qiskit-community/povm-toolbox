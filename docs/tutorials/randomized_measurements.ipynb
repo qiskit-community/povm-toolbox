{
 "cells": [
  {
   "cell_type": "markdown",
   "metadata": {},
   "source": [
    "# Randomized measurements\n",
    "\n",
    "This tutorial shows the different randomized measurements of the `povm_toolbox`."
   ]
  },
  {
   "cell_type": "code",
   "execution_count": 1,
   "metadata": {},
   "outputs": [],
   "source": [
    "%load_ext autoreload\n",
    "%autoreload 2"
   ]
  },
  {
   "cell_type": "markdown",
   "metadata": {},
   "source": [
    "## Circuit and Observables\n",
    "\n",
    "We first look at a random the 2-qubit circuit, with depth 3."
   ]
  },
  {
   "cell_type": "code",
   "execution_count": 2,
   "metadata": {},
   "outputs": [],
   "source": [
    "from qiskit.circuit.random import random_circuit\n",
    "\n",
    "num_qubits = 2\n",
    "qc_random = random_circuit(num_qubits=num_qubits, depth=3, measure=False, seed=0)"
   ]
  },
  {
   "cell_type": "code",
   "execution_count": 3,
   "metadata": {},
   "outputs": [
    {
     "data": {
      "image/png": "[encoded data removed]",
      "text/plain": [
       "<Figure size 454.517x284.278 with 1 Axes>"
      ]
     },
     "execution_count": 3,
     "metadata": {},
     "output_type": "execute_result"
    }
   ],
   "source": [
    "from qiskit.circuit import ClassicalRegister\n",
    "\n",
    "creg = ClassicalRegister(1)\n",
    "qc_random.add_register(creg)\n",
    "qc_random.draw(\"mpl\", style=\"iqp\")"
   ]
  },
  {
   "cell_type": "code",
   "execution_count": 4,
   "metadata": {},
   "outputs": [],
   "source": [
    "from qiskit.transpiler.preset_passmanagers import generate_preset_pass_manager\n",
    "from qiskit_aer import AerSimulator\n",
    "\n",
    "# Use AerSimulator as backend.\n",
    "backend = AerSimulator()\n",
    "pm = generate_preset_pass_manager(optimization_level=1, backend=backend)\n",
    "\n",
    "# Transpile the circuit to an \"Instruction Set Architecture\" (ISA) circuit\n",
    "qc_random_isa = pm.run(qc_random)"
   ]
  },
  {
   "cell_type": "markdown",
   "metadata": {},
   "source": [
    "We also draw 3 random observables."
   ]
  },
  {
   "cell_type": "code",
   "execution_count": 5,
   "metadata": {},
   "outputs": [],
   "source": [
    "from qiskit.quantum_info import SparsePauliOp\n",
    "\n",
    "set_observables = [\n",
    "    SparsePauliOp([\"II\", \"XX\", \"YY\", \"ZY\"], coeffs=[1, 1, -4, 1]),\n",
    "    SparsePauliOp([\"XI\", \"ZX\", \"YI\"], coeffs=[1, -1, 2.5]),\n",
    "    SparsePauliOp([\"II\", \"XI\", \"ZI\", \"IX\", \"IY\", \"YX\"], coeffs=[0.4, 4, -1, 1, -0.5, 1.8]),\n",
    "]"
   ]
  },
  {
   "cell_type": "markdown",
   "metadata": {},
   "source": [
    "For reference, we compute the true final state and the exact expectation values for the different observables."
   ]
  },
  {
   "cell_type": "code",
   "execution_count": 6,
   "metadata": {},
   "outputs": [],
   "source": [
    "import numpy as np\n",
    "from qiskit.quantum_info import Statevector\n",
    "\n",
    "exact_state = Statevector(qc_random)\n",
    "exp_val = np.real_if_close(\n",
    "    np.array([exact_state.expectation_value(obs) for obs in set_observables])\n",
    ")"
   ]
  },
  {
   "cell_type": "markdown",
   "metadata": {},
   "source": [
    "## Classical Shadows\n",
    "\n",
    "We now look at the implementation of Classical Shadows measurement."
   ]
  },
  {
   "cell_type": "code",
   "execution_count": 7,
   "metadata": {},
   "outputs": [],
   "source": [
    "from povm_toolbox.library import ClassicalShadows\n",
    "\n",
    "# By default, the Classical Shadows (CS) measurement uses X,Y,Z measurements with equal probability.\n",
    "cs_implementation = ClassicalShadows(num_qubits=num_qubits, seed=23)\n",
    "# Define the default shot budget.\n",
    "cs_shots = 4096\n",
    "# Construct the `POVMSamplerPub`.\n",
    "cs_pub = (qc_random_isa, None, cs_shots, cs_implementation)"
   ]
  },
  {
   "cell_type": "markdown",
   "metadata": {},
   "source": [
    "## Locally-Biased Classical Shadows\n",
    "We now look at Classical Shadows that can be locally-biased."
   ]
  },
  {
   "cell_type": "code",
   "execution_count": 8,
   "metadata": {},
   "outputs": [],
   "source": [
    "from povm_toolbox.library import LocallyBiasedClassicalShadows\n",
    "\n",
    "# Set the distributions of the shots among the X,Y,Z measurements.\n",
    "bias = np.array(\n",
    "    [\n",
    "        [0.0000000028, 0.4408677642, 0.5591322330],  # bias for first qubit\n",
    "        [0.1989721524, 0.3190601952, 0.4819676524],  # bias for second qubit\n",
    "    ]\n",
    ")\n",
    "\n",
    "# The Locally-Biased Classical Shadows (LBCS) measurement uses X,Y,Z measurements with different probabilities.\n",
    "lbcs_implementation = LocallyBiasedClassicalShadows(num_qubits=num_qubits, bias=bias, seed=24)\n",
    "# Define the default shot budget.\n",
    "lbcs_shots = 4096\n",
    "# Construct the `POVMSamplerPub`.\n",
    "lbcs_pub = (qc_random_isa, None, lbcs_shots, lbcs_implementation)"
   ]
  },
  {
   "cell_type": "markdown",
   "metadata": {},
   "source": [
    "## Mutually-Unbiased-Bases POVM\n",
    "We now look at POVMs that are rotated locally-biased Classical Shadows."
   ]
  },
  {
   "cell_type": "code",
   "execution_count": 9,
   "metadata": {},
   "outputs": [],
   "source": [
    "from povm_toolbox.library import MutuallyUnbiasedBasesMeasurements\n",
    "\n",
    "# Define the Euler angles to rotate the measurement.\n",
    "angles = np.array(\n",
    "    [\n",
    "        [0.0000027222, 0.0000000910, 0.3],\n",
    "        [0.0000022917, 0.0000002655, 0.0],\n",
    "    ]\n",
    ")\n",
    "\n",
    "# Set the distributions of the shots among the PMs.\n",
    "bias = np.array(\n",
    "    [\n",
    "        [0.0000372719, 0.4377084332, 0.5622542949],\n",
    "        [0.2002136793, 0.3192036469, 0.4805826738],\n",
    "    ]\n",
    ")\n",
    "\n",
    "# Define the PM-simulable POVM.\n",
    "mub_implementation = MutuallyUnbiasedBasesMeasurements(\n",
    "    num_qubits=num_qubits, bias=bias, angles=angles, seed=12\n",
    ")\n",
    "# Define the default shot budget.\n",
    "mub_shots = 4100\n",
    "# Construct the `POVMSamplerPub`.\n",
    "mub_pub = (qc_random_isa, None, mub_shots, mub_implementation)"
   ]
  },
  {
   "cell_type": "markdown",
   "metadata": {},
   "source": [
    "## PM-simulable POVM\n",
    "We now look at POVMs that are simulable (through randomization) with only single-qubit projective measurements (PMs)."
   ]
  },
  {
   "cell_type": "code",
   "execution_count": 10,
   "metadata": {},
   "outputs": [],
   "source": [
    "from povm_toolbox.library import RandomizedProjectiveMeasurements\n",
    "\n",
    "# Define our projective measurements acting on each qubit.\n",
    "angles = np.array(\n",
    "    [\n",
    "        [0.0000027222, 0.0000000910, 1.5707688831, 0.0000235665, 1.5707519773, 1.5707694998],\n",
    "        [0.0000022917, 0.0000002655, 1.5707961328, 0.0000069500, 1.5707958682, 1.5708006931],\n",
    "    ]\n",
    ")\n",
    "\n",
    "# Set the distributions of the shots among the PMs.\n",
    "bias = np.array(\n",
    "    [\n",
    "        [0.0000372719, 0.4377084332, 0.5622542949],\n",
    "        [0.2002136793, 0.3192036469, 0.4805826738],\n",
    "    ]\n",
    ")\n",
    "\n",
    "# Define the PM-simulable POVM.\n",
    "pmsim_implementation = RandomizedProjectiveMeasurements(\n",
    "    num_qubits=num_qubits, bias=bias, angles=angles, seed=25\n",
    ")\n",
    "# Define the default shot budget.\n",
    "pmsim_shots = 4100\n",
    "# Construct the `POVMSamplerPub`.\n",
    "pmsim_pub = (qc_random_isa, None, pmsim_shots, pmsim_implementation)"
   ]
  },
  {
   "cell_type": "markdown",
   "metadata": {},
   "source": [
    "## POVM Sampler\n",
    "\n",
    "We now instantiate the `POVMSampler` that will use the different POVM measurements."
   ]
  },
  {
   "cell_type": "code",
   "execution_count": 11,
   "metadata": {},
   "outputs": [],
   "source": [
    "from povm_toolbox.sampler.povm_sampler import POVMSampler\n",
    "from qiskit_aer.primitives import SamplerV2 as AerSampler\n",
    "\n",
    "# First define a standard sampler (that will be used under the hood).\n",
    "aer_sampler = AerSampler(seed=26)\n",
    "# Then define the POVM sampler, which takes BaseSampler as an argument.\n",
    "povm_sampler = POVMSampler(aer_sampler)\n",
    "# Submit the job by specifying which POVM to use, which circuit(s) to measure and the shot budget.\n",
    "job = povm_sampler.run([cs_pub, lbcs_pub, mub_pub, pmsim_pub])"
   ]
  },
  {
   "cell_type": "markdown",
   "metadata": {},
   "source": [
    "### Results\n",
    "We retrieve the result object, which contains the POVM used and from which we can query the counts of each outcome."
   ]
  },
  {
   "cell_type": "code",
   "execution_count": 12,
   "metadata": {},
   "outputs": [
    {
     "name": "stdout",
     "output_type": "stream",
     "text": [
      "\n",
      "--------------------------------------------------------------------------------------\n",
      "\n",
      "PUB number : 0\n",
      "POVM class: ClassicalShadows(num_qubits=2)\n",
      "Number of shots : 4096\n",
      "\n",
      "   Exact         Estimate       Error      Estimated std     z-score\n",
      "    1.483e+00      1.207e+00      18.6%          0.19248       -1.43\n",
      "   -1.411e+00     -1.393e+00       1.3%          0.08375        0.21\n",
      "    2.955e+00      3.004e+00       1.6%          0.12675        0.38\n",
      "\n",
      "--------------------------------------------------------------------------------------\n",
      "\n",
      "PUB number : 1\n",
      "POVM class: LocallyBiasedClassicalShadows(num_qubits=2)\n",
      "Number of shots : 4096\n",
      "\n",
      "   Exact         Estimate       Error      Estimated std     z-score\n",
      "    1.483e+00      1.529e+00       3.1%          0.13765        0.34\n",
      "   -1.411e+00     -1.396e+00       1.1%          0.07860        0.19\n",
      "    2.955e+00      2.803e+00       5.1%          0.11713       -1.30\n",
      "\n",
      "--------------------------------------------------------------------------------------\n",
      "\n",
      "PUB number : 2\n",
      "POVM class: MutuallyUnbiasedBasesPOVM(num_qubits=2)\n",
      "Number of shots : 4100\n",
      "\n",
      "   Exact         Estimate       Error      Estimated std     z-score\n",
      "    1.483e+00      1.381e+00       6.8%          0.13707       -0.74\n",
      "   -1.411e+00     -1.356e+00       3.9%          0.08058        0.69\n",
      "    2.955e+00      2.992e+00       1.2%          0.11604        0.31\n",
      "\n",
      "--------------------------------------------------------------------------------------\n",
      "\n",
      "PUB number : 3\n",
      "POVM class: RandomizedProjectiveMeasurements(num_qubits=2)\n",
      "Number of shots : 4100\n",
      "\n",
      "   Exact         Estimate       Error      Estimated std     z-score\n",
      "    1.483e+00      1.588e+00       7.1%          0.13325        0.79\n",
      "   -1.411e+00     -1.465e+00       3.8%          0.07812       -0.69\n",
      "    2.955e+00      3.007e+00       1.8%          0.11808        0.44\n",
      "\n",
      "--------------------------------------------------------------------------------------\n",
      "\n"
     ]
    }
   ],
   "source": [
    "from povm_toolbox.post_processor.povm_post_processor import POVMPostProcessor\n",
    "\n",
    "# Retrieve the `PrimitiveResult` object, which contains 3 `POVMPubResult` objects.\n",
    "result = job.result()\n",
    "print(f'\\n{\"-\":-<85}-\\n')\n",
    "\n",
    "# Loop through the different PUB results\n",
    "for k, pub_result in enumerate(result):\n",
    "    # Instantiate the post-processor from the PUB result.\n",
    "    post_processor = POVMPostProcessor(pub_result)\n",
    "    print(f\"PUB number : {k}\")\n",
    "    # If one wants to explicitly retrieve the POVM used for a specific PUB,\n",
    "    # it can be accessed through the metadata of the PUB result.\n",
    "    print(f\"POVM class: {pub_result.metadata.povm_implementation}\")\n",
    "    print(f\"Number of shots : {sum(post_processor.counts[0].values())}\\n\")\n",
    "\n",
    "    print(\"   Exact         Estimate       Error      Estimated std     z-score\")\n",
    "    for i, obs in enumerate(set_observables):\n",
    "        cs_est_exp_val, std = post_processor.get_expectation_value(obs)\n",
    "        print(\n",
    "            f\"   {np.real(exp_val[i]):>10.3e}   {cs_est_exp_val:>12.3e}   {abs(cs_est_exp_val-np.real(exp_val[i]))/abs(np.real(exp_val[i])):>8.1%}\",\n",
    "            end=\" \",\n",
    "        )\n",
    "        print(f\"        {std:> 8.5f} {(cs_est_exp_val-np.real(exp_val[i]))/std:> 11.2f}\")\n",
    "    print(f'\\n{\"-\":-<85}-\\n')"
   ]
  },
  {
   "cell_type": "code",
   "execution_count": 13,
   "metadata": {},
   "outputs": [
    {
     "data": {
      "image/png": "[encoded data removed]",
      "text/plain": [
       "<Figure size 1965.02x367.889 with 1 Axes>"
      ]
     },
     "execution_count": 13,
     "metadata": {},
     "output_type": "execute_result"
    }
   ],
   "source": [
    "# Inspect one of the circuit sent to the internal `BaseSamplerV2` sampler:\n",
    "\n",
    "lbcs_composed_circuit = result[1].metadata.composed_circuit\n",
    "lbcs_composed_circuit.draw(\"mpl\", style=\"iqp\")"
   ]
  }
 ],
 "metadata": {
  "kernelspec": {
   "display_name": ".venv",
   "language": "python",
   "name": "python3"
  },
  "language_info": {
   "codemirror_mode": {
    "name": "ipython",
    "version": 3
   },
   "file_extension": ".py",
   "mimetype": "text/x-python",
   "name": "python",
   "nbconvert_exporter": "python",
   "pygments_lexer": "ipython3",
   "version": "3.12.2"
  }
 },
 "nbformat": 4,
 "nbformat_minor": 2
}
