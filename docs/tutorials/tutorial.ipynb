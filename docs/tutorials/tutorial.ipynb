{
 "cells": [
  {
   "cell_type": "markdown",
   "metadata": {},
   "source": [
    "# Getting started\n",
    "\n",
    "This tutorial shows you how to get started with the `povm_toolbox`."
   ]
  },
  {
   "cell_type": "code",
   "execution_count": 1,
   "metadata": {},
   "outputs": [],
   "source": [
    "%load_ext autoreload\n",
    "%autoreload 2"
   ]
  },
  {
   "cell_type": "code",
   "execution_count": 2,
   "metadata": {},
   "outputs": [],
   "source": [
    "import numpy as np\n",
    "from povm_toolbox.library.pm_sim_implementation import ClassicalShadows, RandomizedPMs\n",
    "from povm_toolbox.post_processor.povm_post_processor import POVMPostprocessor\n",
    "from povm_toolbox.sampler.povm_sampler import POVMSampler\n",
    "from qiskit.circuit.random import random_circuit\n",
    "from qiskit.quantum_info import (\n",
    "    Operator,\n",
    "    SparsePauliOp,\n",
    "    Statevector,\n",
    "    random_hermitian,\n",
    ")\n",
    "from qiskit_aer import AerSimulator\n",
    "from qiskit_ibm_runtime import SamplerV2 as Sampler\n",
    "from qiskit_ibm_runtime import Session"
   ]
  },
  {
   "cell_type": "markdown",
   "metadata": {},
   "source": [
    "## Random Circuit\n",
    "\n",
    "We first llok at a random the 2-qubit circuit, with depth 3."
   ]
  },
  {
   "cell_type": "code",
   "execution_count": 3,
   "metadata": {},
   "outputs": [
    {
     "data": {
      "text/html": [
       "<pre style=\"word-wrap: normal;white-space: pre;background: #fff0;line-height: 1.1;font-family: &quot;Courier New&quot;,Courier,monospace\">          ┌──────┐┌──────┐                                                \n",
       "q_0: ─────┤1     ├┤0     ├──────────────────────────────■─────────────────\n",
       "     ┌───┐│      ││      │    ┌───┐    ┌────────────────┴────────────────┐\n",
       "q_1: ┤ H ├┤  Dcx ├┤  Ecr ├────┤ S ├────┤ U(3.4168,2.3054,0.68636,1.6934) ├\n",
       "     └───┘│      ││      │┌───┴───┴───┐└─────────────────────────────────┘\n",
       "q_2: ─────┤0     ├┤1     ├┤ P(5.0287) ├───────────────────────────────────\n",
       "          └──────┘└──────┘└───────────┘                                   </pre>"
      ],
      "text/plain": [
       "          ┌──────┐┌──────┐                                                \n",
       "q_0: ─────┤1     ├┤0     ├──────────────────────────────■─────────────────\n",
       "     ┌───┐│      ││      │    ┌───┐    ┌────────────────┴────────────────┐\n",
       "q_1: ┤ H ├┤  Dcx ├┤  Ecr ├────┤ S ├────┤ U(3.4168,2.3054,0.68636,1.6934) ├\n",
       "     └───┘│      ││      │┌───┴───┴───┐└─────────────────────────────────┘\n",
       "q_2: ─────┤0     ├┤1     ├┤ P(5.0287) ├───────────────────────────────────\n",
       "          └──────┘└──────┘└───────────┘                                   "
      ]
     },
     "execution_count": 3,
     "metadata": {},
     "output_type": "execute_result"
    }
   ],
   "source": [
    "n_qubit = 3\n",
    "n_cicuits = 5\n",
    "np.random.seed(10)\n",
    "seeds= np.random.randint(0,10000000,size=n_cicuits)\n",
    "qc_random = [random_circuit(num_qubits=n_qubit, depth = 3, measure=False, seed=seed) for seed in seeds]\n",
    "qc_random[0].draw()"
   ]
  },
  {
   "cell_type": "markdown",
   "metadata": {},
   "source": [
    "We also draw some random observables "
   ]
  },
  {
   "cell_type": "code",
   "execution_count": 4,
   "metadata": {},
   "outputs": [],
   "source": [
    "set_observables = [SparsePauliOp.from_operator(random_hermitian(2**n_qubit)) for _ in range(10)]"
   ]
  },
  {
   "cell_type": "markdown",
   "metadata": {},
   "source": [
    "For reference, we compute the true final state and the exact expectation values for the different observables."
   ]
  },
  {
   "cell_type": "code",
   "execution_count": 5,
   "metadata": {},
   "outputs": [],
   "source": [
    "exp_val = np.zeros((len(qc_random), len(set_observables)), dtype=complex)\n",
    "for i, qc in enumerate(qc_random):\n",
    "    exact_state = Statevector(np.array(Operator(qc).data[:,0]).squeeze())\n",
    "    exp_val[i] = np.array([exact_state.expectation_value(obs) for obs in set_observables])\n",
    "exp_val = np.real_if_close(exp_val)"
   ]
  },
  {
   "cell_type": "markdown",
   "metadata": {},
   "source": [
    "## Classical Shadows\n",
    "\n",
    "We now look at the implementation of Classical Shaodws measurement"
   ]
  },
  {
   "cell_type": "code",
   "execution_count": 6,
   "metadata": {},
   "outputs": [],
   "source": [
    "# By default, the Classical Shadows (CS) measurement uses X,Y,Z measurements with equal probability.\n",
    "cs_implementation = ClassicalShadows(n_qubit=n_qubit)\n",
    "# Define the default shot budget.\n",
    "cs_shots = 4096"
   ]
  },
  {
   "cell_type": "code",
   "execution_count": 7,
   "metadata": {},
   "outputs": [
    {
     "name": "stdout",
     "output_type": "stream",
     "text": [
      "[(<qiskit.circuit.quantumcircuit.QuantumCircuit object at 0x120c886a0>, None, None, <povm_toolbox.library.pm_sim_implementation.ClassicalShadows object at 0x144b715d0>), (<qiskit.circuit.quantumcircuit.QuantumCircuit object at 0x144b71a80>, None, 5829, <povm_toolbox.library.pm_sim_implementation.ClassicalShadows object at 0x144b715d0>), (<qiskit.circuit.quantumcircuit.QuantumCircuit object at 0x144b72290>, None, 7400, <povm_toolbox.library.pm_sim_implementation.ClassicalShadows object at 0x144b715d0>), (<qiskit.circuit.quantumcircuit.QuantumCircuit object at 0x144b723e0>, None, 6648, <povm_toolbox.library.pm_sim_implementation.ClassicalShadows object at 0x144b715d0>), (<qiskit.circuit.quantumcircuit.QuantumCircuit object at 0x144b718a0>, None, 1239, <povm_toolbox.library.pm_sim_implementation.ClassicalShadows object at 0x144b715d0>)]\n"
     ]
    }
   ],
   "source": [
    "pubs = []\n",
    "for qcr in qc_random:\n",
    "    pubs.append((qcr, None, np.random.randint(1000,10000) if np.random.randint(2)==0 else None, cs_implementation))\n",
    "print(pubs)"
   ]
  },
  {
   "cell_type": "code",
   "execution_count": 8,
   "metadata": {},
   "outputs": [
    {
     "name": "stderr",
     "output_type": "stream",
     "text": [
      "/Users/dao/Documents/Internship/ic-povms/.venv/lib/python3.10/site-packages/qiskit_ibm_runtime/session.py:156: UserWarning: Session is not supported in local testing mode or when using a simulator.\n",
      "  warnings.warn(\n"
     ]
    }
   ],
   "source": [
    "# Run the sampler job locally using AerSimulator.\n",
    "# Session syntax is supported but ignored because local mode doesn't support sessions.\n",
    "backend = AerSimulator()\n",
    "with Session(backend=backend) as session:\n",
    "    # First define a standard sampler (that will be used under the hood).\n",
    "    runtime_sampler = Sampler(session=session)\n",
    "    # Then define the POVM sampler, which takes BaseSampler as an argument.\n",
    "    sampler = POVMSampler(runtime_sampler)\n",
    "    # Submit the job by specifying which POVM to use, which circuit(s) to measure and the shot budget.\n",
    "    cs_job = sampler.run(pubs, shots=cs_shots)"
   ]
  },
  {
   "cell_type": "markdown",
   "metadata": {},
   "source": [
    "### Results\n",
    "We retrieve the result object, which contains the POVM used and from which we can query the counts of each outcome."
   ]
  },
  {
   "cell_type": "code",
   "execution_count": 9,
   "metadata": {},
   "outputs": [
    {
     "name": "stdout",
     "output_type": "stream",
     "text": [
      "POVM: <povm_toolbox.library.pm_sim_implementation.ClassicalShadows object at 0x144b715d0>\n",
      "Counts: Counter({(0, 4, 0): 231, (0, 1, 0): 132, (3, 4, 0): 119, (0, 4, 4): 118, (0, 4, 3): 116, (0, 4, 5): 114, (0, 3, 0): 109, (0, 4, 2): 106, (0, 2, 0): 105, (4, 4, 0): 99, (2, 4, 0): 97, (5, 4, 0): 94, (0, 0, 0): 87, (5, 4, 2): 71, (4, 0, 0): 68, (3, 4, 3): 65, (0, 3, 2): 63, (5, 0, 0): 63, (4, 4, 5): 62, (5, 2, 0): 61, (4, 1, 0): 60, (5, 1, 0): 60, (5, 4, 4): 59, (0, 1, 3): 59, (5, 4, 3): 59, (0, 3, 4): 59, (0, 0, 4): 58, (0, 0, 2): 58, (0, 1, 2): 57, (0, 1, 4): 57, (0, 2, 3): 57, (3, 4, 2): 57, (0, 0, 5): 56, (4, 4, 3): 56, (4, 3, 0): 54, (0, 3, 5): 53, (2, 0, 0): 53, (2, 3, 0): 53, (3, 4, 5): 53, (2, 4, 4): 53, (3, 4, 4): 53, (3, 2, 0): 52, (3, 1, 0): 52, (0, 2, 5): 52, (3, 3, 0): 50, (0, 0, 3): 50, (2, 1, 0): 50, (2, 4, 5): 49, (0, 1, 5): 49, (4, 2, 0): 49, (0, 2, 2): 48, (4, 4, 4): 48, (2, 4, 2): 48, (2, 4, 3): 48, (5, 4, 5): 46, (3, 0, 0): 46, (5, 3, 0): 45, (2, 2, 0): 44, (4, 4, 2): 43, (2, 1, 2): 43, (0, 2, 4): 43, (4, 0, 3): 38, (3, 0, 3): 37, (5, 2, 2): 35, (0, 3, 3): 35, (3, 0, 5): 34, (4, 1, 5): 34, (5, 2, 4): 34, (5, 0, 2): 34, (4, 1, 2): 33, (4, 2, 4): 33, (2, 0, 4): 33, (4, 2, 2): 32, (3, 2, 4): 32, (4, 0, 4): 31, (2, 3, 5): 31, (5, 0, 3): 31, (3, 3, 4): 31, (4, 3, 5): 31, (2, 3, 2): 30, (5, 3, 2): 30, (2, 0, 5): 30, (5, 1, 3): 30, (3, 3, 3): 29, (2, 0, 3): 29, (5, 1, 4): 29, (2, 0, 2): 29, (2, 1, 5): 28, (4, 2, 5): 28, (3, 1, 2): 27, (2, 2, 3): 27, (3, 0, 2): 27, (3, 1, 5): 27, (5, 1, 2): 26, (5, 0, 5): 26, (2, 3, 4): 25, (3, 1, 3): 25, (2, 1, 4): 25, (5, 3, 5): 25, (5, 2, 3): 25, (5, 0, 4): 25, (4, 3, 3): 24, (3, 0, 4): 24, (2, 2, 2): 24, (3, 1, 4): 24, (3, 2, 2): 24, (4, 3, 4): 24, (5, 1, 5): 24, (2, 2, 5): 23, (3, 3, 5): 23, (2, 2, 4): 23, (5, 2, 5): 23, (4, 0, 2): 22, (3, 2, 5): 21, (3, 2, 3): 21, (4, 1, 4): 20, (2, 3, 3): 20, (4, 3, 2): 20, (5, 3, 3): 20, (2, 1, 3): 19, (4, 1, 3): 19, (5, 3, 4): 18, (4, 2, 3): 18, (4, 0, 5): 16, (3, 3, 2): 15})\n"
     ]
    }
   ],
   "source": [
    "cs_result = cs_job.result()\n",
    "print(f\"POVM: {cs_result[0].povm_metadata}\")\n",
    "print(f\"Counts: {cs_result[1].get_counts()}\")"
   ]
  },
  {
   "cell_type": "markdown",
   "metadata": {},
   "source": [
    "We now define our POVM post-processor, which will use the resukt object to estimate expectation values of some observables."
   ]
  },
  {
   "cell_type": "code",
   "execution_count": 10,
   "metadata": {},
   "outputs": [
    {
     "name": "stdout",
     "output_type": "stream",
     "text": [
      "Exact        CS\n",
      "             (4096 shots)\n",
      "-1.925e-01     -3.091e-01      60.5%\n",
      " 7.483e-02      8.750e-02      16.9%\n",
      "-5.070e-01     -7.032e-01      38.7%\n",
      "-1.542e+00     -1.566e+00       1.5%\n",
      " 6.973e-01      7.886e-01      13.1%\n",
      "-4.797e-01     -4.501e-01       6.2%\n",
      " 8.208e-01      1.040e+00      26.7%\n",
      " 2.912e-01      3.166e-01       8.7%\n",
      "-3.418e-01     -3.272e-01       4.3%\n",
      "-6.683e-01     -6.495e-01       2.8%\n",
      "Exact        CS\n",
      "             (5829 shots)\n",
      " 2.214e-01      9.509e-02      57.1%\n",
      "-6.653e-02     -3.361e-02      49.5%\n",
      " 1.927e-01      1.623e-01      15.8%\n",
      "-5.083e-01     -5.619e-01      10.5%\n",
      " 1.283e+00      1.334e+00       4.0%\n",
      "-3.314e-01     -4.154e-01      25.3%\n",
      " 1.639e-01      2.225e-01      35.8%\n",
      "-7.509e-01     -7.337e-01       2.3%\n",
      " 1.907e-01      2.039e-01       6.9%\n",
      " 1.645e+00      1.809e+00      10.0%\n",
      "Exact        CS\n",
      "             (7400 shots)\n",
      " 4.679e-01      2.443e-01      47.8%\n",
      "-3.805e-02     -1.470e-01     286.3%\n",
      "-1.146e+00     -1.091e+00       4.8%\n",
      "-4.356e-01     -5.579e-01      28.1%\n",
      "-1.547e-01     -9.682e-02      37.4%\n",
      "-7.101e-01     -5.771e-01      18.7%\n",
      " 3.968e-01      4.057e-01       2.2%\n",
      "-7.083e-01     -7.924e-01      11.9%\n",
      "-1.806e+00     -1.788e+00       1.0%\n",
      " 5.688e-01      6.829e-01      20.1%\n",
      "Exact        CS\n",
      "             (6648 shots)\n",
      "-3.351e-01     -2.125e-01      36.6%\n",
      " 2.038e+00      2.107e+00       3.4%\n",
      " 7.193e-01      7.683e-01       6.8%\n",
      " 5.629e-01      5.990e-01       6.4%\n",
      " 1.216e+00      1.188e+00       2.3%\n",
      "-5.081e-01     -3.169e-01      37.6%\n",
      " 6.145e-01      7.028e-01      14.4%\n",
      " 7.016e-01      8.326e-01      18.7%\n",
      "-7.873e-01     -8.440e-01       7.2%\n",
      "-4.250e-01     -4.342e-01       2.2%\n",
      "Exact        CS\n",
      "             (1239 shots)\n",
      " 1.077e+00      9.445e-01      12.3%\n",
      "-8.612e-01     -1.006e+00      16.8%\n",
      "-2.696e-01     -4.621e-01      71.4%\n",
      "-1.294e+00     -1.268e+00       2.0%\n",
      " 1.205e+00      1.415e+00      17.4%\n",
      "-7.131e-01     -1.031e+00      44.6%\n",
      " 9.830e-02      3.444e-01     250.4%\n",
      " 1.386e-01      2.283e-01      64.7%\n",
      "-1.728e+00     -1.868e+00       8.1%\n",
      " 3.053e-01      3.525e-01      15.4%\n"
     ]
    }
   ],
   "source": [
    "for i_state in range(len(cs_result)):\n",
    "    cs_postprocessor = POVMPostprocessor(cs_result[i_state])\n",
    "    cs_est_exp_val = [cs_postprocessor.get_expectation_value(obs) for obs in set_observables]\n",
    "    cs_shots = sum(cs_postprocessor.counts.values())\n",
    "\n",
    "    n = int(np.ceil(np.log10(cs_shots)))\n",
    "    print('Exact        CS')\n",
    "    print(f'             ({cs_shots} shots)')\n",
    "    for i in range(len(set_observables)):\n",
    "        print(f'{np.real(exp_val[i_state,i]):>10.3e}   {cs_est_exp_val[i]:>{8+n}.3e}   {abs(cs_est_exp_val[i]-np.real(exp_val[i_state,i]))/abs(np.real(exp_val[i_state,i])):>{12-n}.1%}')"
   ]
  },
  {
   "cell_type": "markdown",
   "metadata": {},
   "source": [
    "## PM-simulable POVM\n",
    "We now look at POVM that are simulable (through randomization) with only single-qubit projective measurements (PMs)."
   ]
  },
  {
   "cell_type": "code",
   "execution_count": 11,
   "metadata": {},
   "outputs": [],
   "source": [
    "pubs_pm = []\n",
    "for pub in pubs:\n",
    "    pubs_pm.append((pub[0], None, pub[2], None))\n",
    "\n",
    "# Define our projective measurements acting on each qubit.\n",
    "angles = np.array([[0.0, 0.0, 0.5 * np.pi, 0.0, 0.5 * np.pi, 0.5 * np.pi],[1.2,0.0, 0.1,3.14,0.7,0.3], [0.2,0.1, 1.2,3.14,-0.7,0.3]])\n",
    "# Set the distributions of the shots among the PMs.\n",
    "bias = np.array([[0.34, 0.33, 0.33], [0.7,0.15,0.15], [0.34,0.33,0.33]])\n",
    "\n",
    "# Define the PM-simulable POVM.\n",
    "pmsim_implementation = RandomizedPMs(n_qubit=n_qubit, bias=bias, angles=angles)"
   ]
  },
  {
   "cell_type": "code",
   "execution_count": 12,
   "metadata": {},
   "outputs": [],
   "source": [
    "pmsim_shots = 4096\n",
    "\n",
    "with Session(backend=backend) as session:\n",
    "    # First define a standard sampler (that will be used under the hood).\n",
    "    runtime_sampler = Sampler(session=session)\n",
    "    # Then define the POVM sampler, which takes BaseSampler as an argument.\n",
    "    sampler = POVMSampler(runtime_sampler)\n",
    "    # Submit the job by specifying which POVM to use, which circuit(s) to measure and the shot budget.\n",
    "    pmsim_job = sampler.run(pubs_pm, povm=pmsim_implementation, shots=pmsim_shots)"
   ]
  },
  {
   "cell_type": "markdown",
   "metadata": {},
   "source": [
    "### Results\n",
    "\n",
    "Retrieve the result of the sampling and use it to estiamte some expectation values via the post-processor"
   ]
  },
  {
   "cell_type": "code",
   "execution_count": 13,
   "metadata": {},
   "outputs": [
    {
     "name": "stdout",
     "output_type": "stream",
     "text": [
      "Exact        PM-sim\n",
      "             (4096 shots)\n",
      "-1.925e-01     -6.184e-01     221.2%\n",
      " 7.483e-02      5.863e-01     683.5%\n",
      "-5.070e-01     -2.441e+00     381.5%\n",
      "-1.542e+00     -1.769e+00      14.7%\n",
      " 6.973e-01      1.436e+00     106.0%\n",
      "-4.797e-01     -2.509e+00     423.1%\n",
      " 8.208e-01     -1.872e+00     328.1%\n",
      " 2.912e-01      4.774e+00    1539.7%\n",
      "-3.418e-01      1.277e+00     473.6%\n",
      "-6.683e-01     -3.531e+00     428.4%\n",
      "Exact        PM-sim\n",
      "             (5829 shots)\n",
      " 2.214e-01     -7.870e-01     455.5%\n",
      "-6.653e-02      9.488e-01    1526.1%\n",
      " 1.927e-01     -2.806e-01     245.6%\n",
      "-5.083e-01     -3.178e-01      37.5%\n",
      " 1.283e+00      1.353e+00       5.4%\n",
      "-3.314e-01      4.258e-01     228.5%\n",
      " 1.639e-01      1.334e-01      18.6%\n",
      "-7.509e-01     -2.204e+00     193.5%\n",
      " 1.907e-01      1.436e+00     652.8%\n",
      " 1.645e+00      1.488e+00       9.6%\n",
      "Exact        PM-sim\n",
      "             (7400 shots)\n",
      " 4.679e-01     -9.546e-01     304.0%\n",
      "-3.805e-02      7.860e-01    2165.9%\n",
      "-1.146e+00     -4.308e+00     276.0%\n",
      "-4.356e-01      1.005e+00     330.6%\n",
      "-1.547e-01      2.290e+00    1579.7%\n",
      "-7.101e-01     -9.026e-01      27.1%\n",
      " 3.968e-01     -3.369e+00     948.9%\n",
      "-7.083e-01      1.876e-01     126.5%\n",
      "-1.806e+00     -4.263e+00     136.1%\n",
      " 5.688e-01     -1.127e+00     298.1%\n",
      "Exact        PM-sim\n",
      "             (6648 shots)\n",
      "-3.351e-01      2.830e-01     184.4%\n",
      " 2.038e+00      8.558e-01      58.0%\n",
      " 7.193e-01     -4.813e-01     166.9%\n",
      " 5.629e-01      1.423e+00     152.8%\n",
      " 1.216e+00      1.218e+00       0.1%\n",
      "-5.081e-01     -3.046e-01      40.0%\n",
      " 6.145e-01     -5.998e-01     197.6%\n",
      " 7.016e-01      6.110e-01      12.9%\n",
      "-7.873e-01     -2.106e+00     167.5%\n",
      "-4.250e-01     -1.212e+00     185.1%\n",
      "Exact        PM-sim\n",
      "             (1239 shots)\n",
      " 1.077e+00      2.470e-01      77.1%\n",
      "-8.612e-01     -1.307e+00      51.7%\n",
      "-2.696e-01      1.086e-01     140.3%\n",
      "-1.294e+00     -2.797e+00     116.2%\n",
      " 1.205e+00     -5.838e-04     100.0%\n",
      "-7.131e-01     -3.083e+00     332.4%\n",
      " 9.830e-02     -2.704e+00    2851.3%\n",
      " 1.386e-01      4.418e+00    3086.8%\n",
      "-1.728e+00      1.404e+00     181.3%\n",
      " 3.053e-01     -3.552e+00    1263.2%\n"
     ]
    }
   ],
   "source": [
    "pmsim_result = pmsim_job.result()\n",
    "\n",
    "for i_state in range(len(pmsim_result)):\n",
    "    pmsim_postprocessor = POVMPostprocessor(pmsim_result[i_state])\n",
    "    pmsim_est_exp_val = [pmsim_postprocessor.get_expectation_value(obs) for obs in set_observables]\n",
    "    pmsim_shots = sum(pmsim_postprocessor.counts.values())\n",
    "\n",
    "    n = int(np.ceil(np.log10(pmsim_shots)))\n",
    "    print('Exact        PM-sim')\n",
    "    print(f'             ({pmsim_shots} shots)')\n",
    "    for i in range(len(set_observables)):\n",
    "        print(f'{np.real(exp_val[i_state,i]):>10.3e}   {pmsim_est_exp_val[i]:>{8+n}.3e}   {abs(pmsim_est_exp_val[i]-np.real(exp_val[i_state,i]))/abs(np.real(exp_val[i_state,i])):>{12-n}.1%}')"
   ]
  }
 ],
 "metadata": {
  "kernelspec": {
   "display_name": ".venv",
   "language": "python",
   "name": "python3"
  },
  "language_info": {
   "codemirror_mode": {
    "name": "ipython",
    "version": 3
   },
   "file_extension": ".py",
   "mimetype": "text/x-python",
   "name": "python",
   "nbconvert_exporter": "python",
   "pygments_lexer": "ipython3",
   "version": "3.10.13"
  }
 },
 "nbformat": 4,
 "nbformat_minor": 2
}
