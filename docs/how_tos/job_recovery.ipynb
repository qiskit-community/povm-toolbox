{
 "cells": [
  {
   "cell_type": "markdown",
   "metadata": {},
   "source": [
    "# Recovering jobs\n",
    "\n",
    "This document shows you how to recover a `POVMSamplerJob` object after closing your Python session. This is mostly useful when working with jobs submitted via the `QiskitRuntimeService`."
   ]
  },
  {
   "cell_type": "markdown",
   "metadata": {},
   "source": [
    "## Use cases"
   ]
  },
  {
   "cell_type": "markdown",
   "metadata": {},
   "source": [
    "### Using the QiskitRuntimeService\n",
    "\n",
    "\n",
    "When running jobs using real hardware, they may queue for a long time.\n",
    "During this time, you may purposefully (or accidentally) close your Python session. The `POVMSamplerJob.recover_job()` method is provided to deal with that issue and this notebook explains how to use it.\n",
    "\n",
    "If you close your Python session, you can obtain your job's results using the QiskitRuntimeService. However, this is only the `BasePrimitiveJob` that gets submitted internally within the `POVMSampler`. The actual job object which you need for the `POVMPostProcessor` is a `POVMSamplerJob` which also contains the appropriate POVM metadata.\n",
    "\n",
    "For this reason, you should first save the appropriate POVM metadata before closing any session. You can then recover the full `POVMSamplerJob` object at a later time.\n",
    "\n"
   ]
  },
  {
   "cell_type": "markdown",
   "metadata": {},
   "source": [
    "### Using a local simulator or another service \n",
    "\n",
    "When not using the `QiskitRuntimeService`, you are likely running your job in a local simulator. In this case the results would not be available if your Python session were closed. As a result, saving POVM metadata will not allow you to recover the job after closing the session.\n",
    "\n",
    "Still, we also allow the user to inject a custom `BasePrimitiveJob` object into the recovery method (e.g. if there was some other service which could recover jobs based on their IDs). However, this is not the main intended usecase of the recovery method, which is mainly designed to work with the `QiskitRuntimeService`.\n"
   ]
  },
  {
   "cell_type": "markdown",
   "metadata": {},
   "source": [
    "## Tutorial"
   ]
  },
  {
   "cell_type": "markdown",
   "metadata": {},
   "source": [
    "### Define circuit and measurement"
   ]
  },
  {
   "cell_type": "markdown",
   "metadata": {},
   "source": [
    "Define quantum circuit"
   ]
  },
  {
   "cell_type": "code",
   "execution_count": 2,
   "metadata": {},
   "outputs": [
    {
     "data": {
      "image/png": "[encoded data removed]",
      "text/plain": [
       "<Figure size 287.294x200.667 with 1 Axes>"
      ]
     },
     "execution_count": 2,
     "metadata": {},
     "output_type": "execute_result"
    }
   ],
   "source": [
    "from qiskit import QuantumCircuit\n",
    "\n",
    "qc = QuantumCircuit(2)\n",
    "qc.h(0)\n",
    "qc.cx(0, 1)\n",
    "qc.draw(\"mpl\", style=\"iqp\")"
   ]
  },
  {
   "cell_type": "markdown",
   "metadata": {},
   "source": [
    "Transpile circuit"
   ]
  },
  {
   "cell_type": "code",
   "execution_count": 3,
   "metadata": {},
   "outputs": [],
   "source": [
    "from qiskit.transpiler.preset_passmanagers import generate_preset_pass_manager\n",
    "from qiskit_ibm_runtime.fake_provider import FakeSherbrooke\n",
    "\n",
    "backend = FakeSherbrooke()\n",
    "backend.set_options(seed_simulator=25)\n",
    "pm = generate_preset_pass_manager(optimization_level=2, backend=backend)\n",
    "\n",
    "# Transpile the circuit to an \"Instruction Set Architecture\" (ISA) circuit.\n",
    "# Note: the transpiler automatically adds \"ancilla\" qubits to make the transpiled\n",
    "# circuit match the size of the FakeSherbrooke backend.\n",
    "qc_isa = pm.run(qc)"
   ]
  },
  {
   "cell_type": "markdown",
   "metadata": {},
   "source": [
    "Define measurement procedure"
   ]
  },
  {
   "cell_type": "code",
   "execution_count": 4,
   "metadata": {},
   "outputs": [],
   "source": [
    "from povm_toolbox.library import ClassicalShadows\n",
    "\n",
    "measurement = ClassicalShadows(2, seed=13)"
   ]
  },
  {
   "cell_type": "markdown",
   "metadata": {},
   "source": [
    "### Submit the job\n",
    "\n",
    "Initialize `Sampler` and `POVMSampler`. Then run the job."
   ]
  },
  {
   "cell_type": "code",
   "execution_count": 5,
   "metadata": {},
   "outputs": [],
   "source": [
    "from povm_toolbox.sampler import POVMSampler\n",
    "from qiskit_ibm_runtime import SamplerV2 as RuntimeSampler\n",
    "\n",
    "# First define a standard sampler (that will be used under the hood).\n",
    "runtime_sampler = RuntimeSampler(backend=backend)\n",
    "# Then define the POVM sampler, which takes BaseSampler as an argument.\n",
    "povm_sampler = POVMSampler(runtime_sampler)\n",
    "# Submit the job by specifying which POVM to use, which circuit(s) to measure and the shot budget.\n",
    "job = povm_sampler.run(pubs=[qc_isa], shots=128, povm=measurement)"
   ]
  },
  {
   "cell_type": "markdown",
   "metadata": {},
   "source": [
    "### Save the metadata"
   ]
  },
  {
   "cell_type": "code",
   "execution_count": 6,
   "metadata": {},
   "outputs": [
    {
     "name": "stdout",
     "output_type": "stream",
     "text": [
      "Job metadata successfully saved in the 'saved_metadata.pkl' file.\n"
     ]
    }
   ],
   "source": [
    "job.save_metadata(filename=\"saved_metadata.pkl\")"
   ]
  },
  {
   "cell_type": "markdown",
   "metadata": {},
   "source": [
    "Save the internal `BasePrimitiveJob` somewhere. If you are using `QiskitRuntimeService`, it is automatically saved in its servers.\n",
    "\n",
    "In this tutorial we just save it in a temporary variable:"
   ]
  },
  {
   "cell_type": "code",
   "execution_count": 7,
   "metadata": {},
   "outputs": [],
   "source": [
    "tmp = job.base_job"
   ]
  },
  {
   "cell_type": "markdown",
   "metadata": {},
   "source": [
    "### Recover job"
   ]
  },
  {
   "cell_type": "markdown",
   "metadata": {},
   "source": [
    "The recovery of a `POVMSamplerJob` can be achieved through the `POVMSamplerJob.recover_job` method. \n",
    "\n",
    "When not using QiskitRuntimeService, job recovery necessitates the user to provide the internal `BasePrimitiveJob` object and the name of the file where the POVM-related metadata is stored:"
   ]
  },
  {
   "cell_type": "code",
   "execution_count": 8,
   "metadata": {},
   "outputs": [],
   "source": [
    "from povm_toolbox.sampler import POVMSamplerJob\n",
    "\n",
    "job_recovered = POVMSamplerJob.recover_job(filename=\"saved_metadata.pkl\", base_job=tmp)"
   ]
  },
  {
   "cell_type": "markdown",
   "metadata": {},
   "source": [
    "> **Note**: \n",
    ">\n",
    "> If you are using QiskitRuntimeService, you don't have to directly provide the internal `BasePrimitiveJob`. The `POVMSamplerJob.recover_job` method uses by default the QiskitRuntimeService functionalities to recover the job from its ID:\n",
    "> ```python\n",
    ">   service = QiskitRuntimeService()\n",
    ">   base_job = service.job(job_id)\n",
    "> ```\n",
    "> \n",
    "> \n",
    "> As the job ID is stored in the metadata file, one can simply execute\n",
    "> ```python\n",
    ">   job_recovered = POVMSamplerJob.recover_job(filename=\"saved_metadata.pkl\")\n",
    "> ```\n",
    "> when using QiskitRuntimeService."
   ]
  },
  {
   "cell_type": "markdown",
   "metadata": {},
   "source": [
    "You can then work with the recovered job"
   ]
  },
  {
   "cell_type": "code",
   "execution_count": 9,
   "metadata": {},
   "outputs": [],
   "source": [
    "from povm_toolbox.post_processor import POVMPostProcessor\n",
    "\n",
    "result = job_recovered.result()\n",
    "pub_result = result[0]\n",
    "post_processor = POVMPostProcessor(pub_result)"
   ]
  },
  {
   "cell_type": "code",
   "execution_count": 10,
   "metadata": {},
   "outputs": [
    {
     "name": "stdout",
     "output_type": "stream",
     "text": [
      "3.53125\n"
     ]
    }
   ],
   "source": [
    "from qiskit.quantum_info import SparsePauliOp\n",
    "\n",
    "observable = SparsePauliOp([\"II\", \"XX\", \"YY\", \"ZZ\"], coeffs=[1, 1, -1, 1])\n",
    "\n",
    "exp_value = post_processor.get_expectation_value(observable)\n",
    "print(exp_value)"
   ]
  },
  {
   "cell_type": "code",
   "execution_count": null,
   "metadata": {},
   "outputs": [],
   "source": [
    "from pathlib import Path\n",
    "\n",
    "# delete the metadata file\n",
    "Path(\"saved_metadata.pkl\").unlink(missing_ok=True)"
   ]
  }
 ],
 "metadata": {
  "kernelspec": {
   "display_name": ".venv",
   "language": "python",
   "name": "python3"
  },
  "language_info": {
   "codemirror_mode": {
    "name": "ipython",
    "version": 3
   },
   "file_extension": ".py",
   "mimetype": "text/x-python",
   "name": "python",
   "nbconvert_exporter": "python",
   "pygments_lexer": "ipython3",
   "version": "3.12.2"
  }
 },
 "nbformat": 4,
 "nbformat_minor": 2
}
