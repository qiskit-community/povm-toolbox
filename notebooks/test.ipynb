{
 "cells": [
  {
   "cell_type": "code",
   "execution_count": 2,
   "metadata": {},
   "outputs": [],
   "source": [
    "import sys\n",
    "sys.path.append('test/')\n",
    "\n",
    "import numpy as np\n",
    "from scipy.stats import unitary_group\n",
    "from base_povm import  Povm\n",
    "from single_qubit_povm import SingleQubitPOVM\n",
    "from povm_implementation import ProductPVMSimPOVMImplementation\n",
    "from qiskit.quantum_info import random_density_matrix, Operator"
   ]
  },
  {
   "cell_type": "code",
   "execution_count": 4,
   "metadata": {},
   "outputs": [
    {
     "name": "stdout",
     "output_type": "stream",
     "text": [
      "2\n"
     ]
    },
    {
     "data": {
      "text/plain": [
       "[array([0.25, 0.  , 0.  , 0.25]),\n",
       " array([ 0.25,  0.  ,  0.  , -0.25]),\n",
       " array([0.15, 0.15, 0.  , 0.  ]),\n",
       " array([ 0.15, -0.15,  0.  ,  0.  ]),\n",
       " array([0.1, 0. , 0.1, 0. ]),\n",
       " array([ 0.1,  0. , -0.1,  0. ])]"
      ]
     },
     "execution_count": 4,
     "metadata": {},
     "output_type": "execute_result"
    }
   ],
   "source": [
    "ops = np.arange(24).reshape((6,2,2))\n",
    "povm1 = Povm(povm_ops=ops)\n",
    "print(povm1.dimension)\n",
    "\n",
    "pauli_X = np.array([[0,1],[1,0]])\n",
    "\n",
    "basis_0 = np.array([1.,0], dtype=complex)\n",
    "basis_1 = np.array([0,1.], dtype=complex)\n",
    "basis_plus = 1.0/np.sqrt(2) * (basis_0 + basis_1)\n",
    "basis_minus = 1.0/np.sqrt(2) * (basis_0 - basis_1)\n",
    "basis_plus_i = 1.0/np.sqrt(2) * (basis_0 + 1.j * basis_1)\n",
    "basis_minus_i = 1.0/np.sqrt(2) * (basis_0 - 1.j * basis_1)\n",
    "\n",
    "q = [0.5, 0.3, 0.2]\n",
    "\n",
    "Z0 = np.outer(basis_0, basis_0.conj())\n",
    "Z1 = np.outer(basis_1, basis_1.conj())\n",
    "X0 = np.outer(basis_plus, basis_plus.conj())\n",
    "X1 = np.outer(basis_minus, basis_minus.conj())\n",
    "Y0 = np.outer(basis_plus_i, basis_plus_i.conj())\n",
    "Y1 = np.outer(basis_minus_i, basis_minus_i.conj())\n",
    "\n",
    "sqpovm = SingleQubitPOVM(np.array([q[0]* Z0,q[0]* Z1,q[1]* X0,q[1]* X1,q[2]* Y0,q[2]* Y1]))\n",
    "\n",
    "sqpovm.povm_pauli_decomp\n"
   ]
  },
  {
   "cell_type": "code",
   "execution_count": 7,
   "metadata": {},
   "outputs": [
    {
     "name": "stdout",
     "output_type": "stream",
     "text": [
      "Operator([[0.5+0.j, 0. +0.j],\n",
      "          [0. +0.j, 0. +0.j]],\n",
      "         input_dims=(2,), output_dims=(2,))\n"
     ]
    }
   ],
   "source": [
    "sqpovm[0]"
   ]
  },
  {
   "cell_type": "code",
   "execution_count": 8,
   "metadata": {},
   "outputs": [
    {
     "data": {
      "text/plain": [
       "array([5.01299530e-06+1.11641635e-24j, 3.02104770e-05+8.59363292e-25j,\n",
       "       4.19594048e-05+4.14111853e-26j, 1.24877387e-02-2.07842297e-21j,\n",
       "       9.89677783e-01-9.92563858e-21j, 9.97757296e-01-1.98538787e-18j])"
      ]
     },
     "execution_count": 8,
     "metadata": {},
     "output_type": "execute_result"
    }
   ],
   "source": [
    "dim = 2 \n",
    "n_out = 6\n",
    "n_param = n_out*(2*dim-1) - dim**2\n",
    "\n",
    "np.random.seed(4)\n",
    "param = np.random.uniform(low=0, high=1, size=n_param)\n",
    "povm = Povm.from_param(param, dim)\n",
    "#povm = sqpovm\n",
    "\n",
    "np.unique(np.array([np.trace(op.data) for op in povm.povm_operators]))"
   ]
  },
  {
   "cell_type": "code",
   "execution_count": 9,
   "metadata": {},
   "outputs": [
    {
     "name": "stdout",
     "output_type": "stream",
     "text": [
      "DensityMatrix([[ 0.46571833-8.48656244e-18j, -0.02617055-4.60556496e-01j],\n",
      "               [-0.02617055+4.60556496e-01j,  0.53428167+8.48656244e-18j]],\n",
      "              dims=(2,))\n"
     ]
    }
   ],
   "source": [
    "rho = random_density_matrix(dims=2, seed = 4)\n",
    "rho\n"
   ]
  },
  {
   "cell_type": "code",
   "execution_count": 10,
   "metadata": {},
   "outputs": [
    {
     "data": {
      "text/plain": [
       "array([4.68781168e-01, 5.24874638e-01, 6.31079159e-03, 1.17603086e-05,\n",
       "       1.96265836e-06, 1.96791650e-05])"
      ]
     },
     "execution_count": 10,
     "metadata": {},
     "output_type": "execute_result"
    }
   ],
   "source": [
    "p = povm.get_prob(rho)\n",
    "p"
   ]
  },
  {
   "cell_type": "code",
   "execution_count": 11,
   "metadata": {},
   "outputs": [
    {
     "data": {
      "text/plain": [
       "array([4.68781168e-01, 5.24874638e-01, 6.31079159e-03, 1.17603086e-05,\n",
       "       1.96265836e-06, 1.96791650e-05])"
      ]
     },
     "execution_count": 11,
     "metadata": {},
     "output_type": "execute_result"
    }
   ],
   "source": [
    "np.real(np.trace(np.dot(povm.get_ops(),rho.data),axis1=1,axis2=2))"
   ]
  },
  {
   "cell_type": "code",
   "execution_count": 12,
   "metadata": {},
   "outputs": [
    {
     "name": "stdout",
     "output_type": "stream",
     "text": [
      "84 µs ± 356 ns per loop (mean ± std. dev. of 7 runs, 10,000 loops each)\n"
     ]
    }
   ],
   "source": [
    "%%timeit\n",
    "povm = Povm.from_param(param, dim)\n",
    "p = np.real(np.trace(np.dot(povm.get_ops(),rho.data).T))"
   ]
  },
  {
   "cell_type": "code",
   "execution_count": 13,
   "metadata": {},
   "outputs": [
    {
     "name": "stdout",
     "output_type": "stream",
     "text": [
      "84 µs ± 184 ns per loop (mean ± std. dev. of 7 runs, 10,000 loops each)\n"
     ]
    }
   ],
   "source": [
    "%%timeit\n",
    "povm = Povm.from_param(param, dim)\n",
    "p = np.real(np.trace(np.dot(povm.get_ops(),rho.data),axis1=1,axis2=2))"
   ]
  },
  {
   "cell_type": "code",
   "execution_count": 14,
   "metadata": {},
   "outputs": [
    {
     "name": "stdout",
     "output_type": "stream",
     "text": [
      "94.1 µs ± 158 ns per loop (mean ± std. dev. of 7 runs, 10,000 loops each)\n"
     ]
    }
   ],
   "source": [
    "%%timeit\n",
    "povm = Povm.from_param(param, dim)\n",
    "p = povm.get_prob(rho)"
   ]
  },
  {
   "cell_type": "code",
   "execution_count": 4,
   "metadata": {},
   "outputs": [
    {
     "name": "stdout",
     "output_type": "stream",
     "text": [
      "337 ns ± 1.07 ns per loop (mean ± std. dev. of 7 runs, 1,000,000 loops each)\n"
     ]
    }
   ],
   "source": [
    "%%timeit\n",
    "\n",
    "for k in range(povm.n_outcomes) :\n",
    "    y=povm.povm_operators[k].data"
   ]
  },
  {
   "cell_type": "code",
   "execution_count": 5,
   "metadata": {},
   "outputs": [
    {
     "name": "stdout",
     "output_type": "stream",
     "text": [
      "515 ns ± 1.79 ns per loop (mean ± std. dev. of 7 runs, 1,000,000 loops each)\n"
     ]
    }
   ],
   "source": [
    "%%timeit\n",
    "\n",
    "for op in povm :\n",
    "    y=op.data"
   ]
  },
  {
   "cell_type": "code",
   "execution_count": 4,
   "metadata": {},
   "outputs": [
    {
     "name": "stdout",
     "output_type": "stream",
     "text": [
      "627 ns ± 0.665 ns per loop (mean ± std. dev. of 7 runs, 1,000,000 loops each)\n"
     ]
    }
   ],
   "source": [
    "%%timeit\n",
    "\n",
    "for k in range(povm.n_outcomes) :\n",
    "    y=povm.povm_operators[k].data"
   ]
  },
  {
   "cell_type": "code",
   "execution_count": 5,
   "metadata": {},
   "outputs": [
    {
     "name": "stdout",
     "output_type": "stream",
     "text": [
      "833 ns ± 1.09 ns per loop (mean ± std. dev. of 7 runs, 1,000,000 loops each)\n"
     ]
    }
   ],
   "source": [
    "%%timeit\n",
    "\n",
    "for op in povm :\n",
    "    y=op"
   ]
  },
  {
   "cell_type": "code",
   "execution_count": 42,
   "metadata": {},
   "outputs": [
    {
     "name": "stdout",
     "output_type": "stream",
     "text": [
      "989 ns ± 4.8 ns per loop (mean ± std. dev. of 7 runs, 1,000,000 loops each)\n"
     ]
    }
   ],
   "source": [
    "%%timeit\n",
    "\n",
    "for op in povm :\n",
    "    y=op"
   ]
  },
  {
   "cell_type": "code",
   "execution_count": 41,
   "metadata": {},
   "outputs": [
    {
     "name": "stdout",
     "output_type": "stream",
     "text": [
      "620 ns ± 2.12 ns per loop (mean ± std. dev. of 7 runs, 1,000,000 loops each)\n"
     ]
    }
   ],
   "source": [
    "%%timeit\n",
    "\n",
    "for k in range(povm.n_outcomes) :\n",
    "    y=povm.povm_operators[k].data"
   ]
  },
  {
   "cell_type": "code",
   "execution_count": 6,
   "metadata": {},
   "outputs": [
    {
     "ename": "TypeError",
     "evalue": "unsupported operand type(s) for *: 'float' and 'SingleQubitPOVM'",
     "output_type": "error",
     "traceback": [
      "\u001b[0;31m---------------------------------------------------------------------------\u001b[0m",
      "\u001b[0;31mTypeError\u001b[0m                                 Traceback (most recent call last)",
      "Cell \u001b[0;32mIn[6], line 1\u001b[0m\n\u001b[0;32m----> 1\u001b[0m (\u001b[38;5;241;43m0.3\u001b[39;49m\u001b[38;5;241;43m*\u001b[39;49m\u001b[43msqpovm\u001b[49m \u001b[38;5;241m+\u001b[39m \u001b[38;5;241m0.7\u001b[39m\u001b[38;5;241m*\u001b[39msqpovm)\u001b[38;5;241m.\u001b[39mcheck_validity()\n",
      "\u001b[0;31mTypeError\u001b[0m: unsupported operand type(s) for *: 'float' and 'SingleQubitPOVM'"
     ]
    }
   ],
   "source": [
    "(0.3*povm + 0.7*sqpovm).check_validity()"
   ]
  },
  {
   "cell_type": "code",
   "execution_count": 8,
   "metadata": {},
   "outputs": [
    {
     "name": "stdout",
     "output_type": "stream",
     "text": [
      "True\n"
     ]
    },
    {
     "data": {
      "text/plain": [
       "array([ 1.00000000e+00+0.j, -1.11022302e-16+0.j,  0.00000000e+00+0.j,\n",
       "        0.00000000e+00+0.j])"
      ]
     },
     "execution_count": 8,
     "metadata": {},
     "output_type": "execute_result"
    }
   ],
   "source": [
    "dim = 2\n",
    "eival = np.random.uniform(low=-5, high=5, size=dim)\n",
    "x = unitary_group.rvs(dim)#, random_state=seed_obs[i])\n",
    "obs = x @ np.diag(eival) @ x.T.conj()\n",
    "\n",
    "_, V = np.linalg.eigh(obs)\n",
    "\n",
    "sqpovm = SingleQubitPOVM.from_vectors()\n",
    "print(sqpovm.check_validity())\n",
    "\n",
    "summed = np.zeros(4, dtype=complex)\n",
    "for coef in sqpovm.povm_pauli_decomp:\n",
    "    summed += coef\n",
    "\n",
    "summed"
   ]
  },
  {
   "cell_type": "code",
   "execution_count": 4,
   "metadata": {},
   "outputs": [
    {
     "name": "stdout",
     "output_type": "stream",
     "text": [
      "3\n",
      "2\n"
     ]
    }
   ],
   "source": [
    "ops = np.arange(54).reshape((6,3,3))\n",
    "povm2 = Povm(povm_ops=ops)\n",
    "print(povm2.dimension)\n",
    "print(povm1.dimension)\n",
    "\n"
   ]
  },
  {
   "cell_type": "code",
   "execution_count": 5,
   "metadata": {},
   "outputs": [
    {
     "name": "stdout",
     "output_type": "stream",
     "text": [
      "3\n"
     ]
    },
    {
     "data": {
      "text/plain": [
       "3"
      ]
     },
     "execution_count": 5,
     "metadata": {},
     "output_type": "execute_result"
    }
   ],
   "source": [
    "povm2.print(n=3)"
   ]
  },
  {
   "cell_type": "code",
   "execution_count": 14,
   "metadata": {},
   "outputs": [
    {
     "data": {
      "text/plain": [
       "Point(lat=1, long=2)"
      ]
     },
     "execution_count": 14,
     "metadata": {},
     "output_type": "execute_result"
    }
   ],
   "source": [
    "from dataclasses import dataclass\n",
    "\n",
    "@dataclass\n",
    "\n",
    "class Point:\n",
    "\n",
    "    lat: float\n",
    "\n",
    "    long: float\n",
    "\n",
    "\n",
    "p = Point(lat=1,long=2)\n",
    "p\n"
   ]
  },
  {
   "cell_type": "code",
   "execution_count": null,
   "metadata": {},
   "outputs": [],
   "source": [
    "ops = np.arange(24).reshape((6,2,2))\n",
    "povm1 = SingleQubitPOVM(povm_ops=ops)\n",
    "print(povm1.dimension)\n"
   ]
  },
  {
   "cell_type": "code",
   "execution_count": 6,
   "metadata": {},
   "outputs": [
    {
     "ename": "ValueError",
     "evalue": "Dimension of Single Qubit POVM operator space should be 2, not 3.",
     "output_type": "error",
     "traceback": [
      "\u001b[0;31m---------------------------------------------------------------------------\u001b[0m",
      "\u001b[0;31mValueError\u001b[0m                                Traceback (most recent call last)",
      "Cell \u001b[0;32mIn[6], line 2\u001b[0m\n\u001b[1;32m      1\u001b[0m ops \u001b[38;5;241m=\u001b[39m np\u001b[38;5;241m.\u001b[39marange(\u001b[38;5;241m54\u001b[39m)\u001b[38;5;241m.\u001b[39mreshape((\u001b[38;5;241m6\u001b[39m,\u001b[38;5;241m3\u001b[39m,\u001b[38;5;241m3\u001b[39m))\n\u001b[0;32m----> 2\u001b[0m povm2 \u001b[38;5;241m=\u001b[39m \u001b[43mSingleQubitPOVM\u001b[49m\u001b[43m(\u001b[49m\u001b[43mpovm_ops\u001b[49m\u001b[38;5;241;43m=\u001b[39;49m\u001b[43mops\u001b[49m\u001b[43m)\u001b[49m\n\u001b[1;32m      3\u001b[0m \u001b[38;5;28mprint\u001b[39m(povm2\u001b[38;5;241m.\u001b[39mdimension)\n\u001b[1;32m      4\u001b[0m \u001b[38;5;28mprint\u001b[39m(povm1\u001b[38;5;241m.\u001b[39mdimension)\n",
      "File \u001b[0;32m~/Documents/Internship/IC-POVM/single_qubit_povm.py:18\u001b[0m, in \u001b[0;36mSingleQubitPOVM.__init__\u001b[0;34m(self, povm_ops)\u001b[0m\n\u001b[1;32m     14\u001b[0m \u001b[38;5;250m\u001b[39m\u001b[38;5;124;03m\"\"\"Initialize from explicit POVM operators.\"\"\"\u001b[39;00m\n\u001b[1;32m     16\u001b[0m \u001b[38;5;28msuper\u001b[39m()\u001b[38;5;241m.\u001b[39m\u001b[38;5;21m__init__\u001b[39m(povm_ops)\n\u001b[0;32m---> 18\u001b[0m \u001b[38;5;28;43mself\u001b[39;49m\u001b[38;5;241;43m.\u001b[39;49m\u001b[43mcheck_validity\u001b[49m\u001b[43m(\u001b[49m\u001b[43m)\u001b[49m\n\u001b[1;32m     20\u001b[0m \u001b[38;5;28mself\u001b[39m\u001b[38;5;241m.\u001b[39mpovm_pauli_ops \u001b[38;5;241m=\u001b[39m [SparsePauliOp\u001b[38;5;241m.\u001b[39mfrom_operator(op) \u001b[38;5;28;01mfor\u001b[39;00m op \u001b[38;5;129;01min\u001b[39;00m \u001b[38;5;28mself\u001b[39m\u001b[38;5;241m.\u001b[39mpovm_operators]\n\u001b[1;32m     21\u001b[0m \u001b[38;5;28mself\u001b[39m\u001b[38;5;241m.\u001b[39mpovm_pauli_decomp \u001b[38;5;241m=\u001b[39m [\n\u001b[1;32m     22\u001b[0m     SingleQubitPOVM\u001b[38;5;241m.\u001b[39mpauli_op_to_array(pauli_op) \u001b[38;5;28;01mfor\u001b[39;00m pauli_op \u001b[38;5;129;01min\u001b[39;00m \u001b[38;5;28mself\u001b[39m\u001b[38;5;241m.\u001b[39mpovm_pauli_ops\n\u001b[1;32m     23\u001b[0m ]\n",
      "File \u001b[0;32m~/Documents/Internship/IC-POVM/single_qubit_povm.py:27\u001b[0m, in \u001b[0;36mSingleQubitPOVM.check_validity\u001b[0;34m(self)\u001b[0m\n\u001b[1;32m     25\u001b[0m \u001b[38;5;28;01mdef\u001b[39;00m \u001b[38;5;21mcheck_validity\u001b[39m(\u001b[38;5;28mself\u001b[39m):\n\u001b[1;32m     26\u001b[0m     \u001b[38;5;28;01mif\u001b[39;00m \u001b[38;5;129;01mnot\u001b[39;00m \u001b[38;5;28mself\u001b[39m\u001b[38;5;241m.\u001b[39mdimension\u001b[38;5;241m==\u001b[39m\u001b[38;5;241m2\u001b[39m:\n\u001b[0;32m---> 27\u001b[0m             \u001b[38;5;28;01mraise\u001b[39;00m \u001b[38;5;167;01mValueError\u001b[39;00m(\u001b[38;5;124mf\u001b[39m\u001b[38;5;124m\"\u001b[39m\u001b[38;5;124mDimension of Single Qubit POVM operator space should be 2, not \u001b[39m\u001b[38;5;132;01m{\u001b[39;00m\u001b[38;5;28mself\u001b[39m\u001b[38;5;241m.\u001b[39mdimension\u001b[38;5;132;01m}\u001b[39;00m\u001b[38;5;124m.\u001b[39m\u001b[38;5;124m\"\u001b[39m)\n\u001b[1;32m     28\u001b[0m     Povm\u001b[38;5;241m.\u001b[39mcheck_validity(\u001b[38;5;28mself\u001b[39m)\n",
      "\u001b[0;31mValueError\u001b[0m: Dimension of Single Qubit POVM operator space should be 2, not 3."
     ]
    }
   ],
   "source": [
    "ops = np.arange(54).reshape((6,3,3))\n",
    "povm2 = SingleQubitPOVM(povm_ops=ops)\n",
    "print(povm2.dimension)\n",
    "print(povm1.dimension)\n"
   ]
  },
  {
   "cell_type": "code",
   "execution_count": 24,
   "metadata": {},
   "outputs": [
    {
     "name": "stdout",
     "output_type": "stream",
     "text": [
      "[[[[ 0.  1.]\n",
      "   [ 2.  3.]]\n",
      "\n",
      "  [[ 4.  5.]\n",
      "   [ 6.  7.]]\n",
      "\n",
      "  [[ 8.  9.]\n",
      "   [10. 11.]]]\n",
      "\n",
      "\n",
      " [[[12. 13.]\n",
      "   [14. 15.]]\n",
      "\n",
      "  [[16. 17.]\n",
      "   [18. 19.]]\n",
      "\n",
      "  [[20. 21.]\n",
      "   [22. 23.]]]\n",
      "\n",
      "\n",
      " [[[24. 25.]\n",
      "   [26. 27.]]\n",
      "\n",
      "  [[28. 29.]\n",
      "   [30. 31.]]\n",
      "\n",
      "  [[32. 33.]\n",
      "   [34. 35.]]]]\n"
     ]
    }
   ],
   "source": [
    "a = np.arange(36.0).reshape((3,3,2,2))\n",
    "print(a)"
   ]
  },
  {
   "cell_type": "code",
   "execution_count": 25,
   "metadata": {},
   "outputs": [
    {
     "name": "stdout",
     "output_type": "stream",
     "text": [
      "[[0. 1. 2.]\n",
      " [3. 4. 5.]\n",
      " [6. 7. 8.]]\n"
     ]
    }
   ],
   "source": [
    "\n",
    "b = np.arange(9.0).reshape((3,3))\n",
    "print(b)"
   ]
  },
  {
   "cell_type": "code",
   "execution_count": 30,
   "metadata": {},
   "outputs": [
    {
     "data": {
      "text/plain": [
       "array([[[  0.,   0.],\n",
       "        [  0.,   0.],\n",
       "        [  4.,   5.],\n",
       "        [  6.,   7.],\n",
       "        [ 16.,  18.],\n",
       "        [ 20.,  22.]],\n",
       "\n",
       "       [[ 36.,  39.],\n",
       "        [ 42.,  45.],\n",
       "        [ 64.,  68.],\n",
       "        [ 72.,  76.],\n",
       "        [100., 105.],\n",
       "        [110., 115.]],\n",
       "\n",
       "       [[144., 150.],\n",
       "        [156., 162.],\n",
       "        [196., 203.],\n",
       "        [210., 217.],\n",
       "        [256., 264.],\n",
       "        [272., 280.]]])"
      ]
     },
     "execution_count": 30,
     "metadata": {},
     "output_type": "execute_result"
    }
   ],
   "source": [
    "(np.multiply(a.T,b.T).T).reshape((3,6,2))"
   ]
  },
  {
   "cell_type": "code",
   "execution_count": 17,
   "metadata": {},
   "outputs": [
    {
     "data": {
      "text/html": [
       "<pre style=\"word-wrap: normal;white-space: pre;background: #fff0;line-height: 1.1;font-family: &quot;Courier New&quot;,Courier,monospace\">     ┌──────────────────────┐\n",
       "q_0: ┤ U(theta[0],phi[0],0) ├\n",
       "     ├──────────────────────┤\n",
       "q_1: ┤ U(theta[1],phi[1],0) ├\n",
       "     └──────────────────────┘</pre>"
      ],
      "text/plain": [
       "     ┌──────────────────────┐\n",
       "q_0: ┤ U(theta[0],phi[0],0) ├\n",
       "     ├──────────────────────┤\n",
       "q_1: ┤ U(theta[1],phi[1],0) ├\n",
       "     └──────────────────────┘"
      ]
     },
     "execution_count": 17,
     "metadata": {},
     "output_type": "execute_result"
    }
   ],
   "source": [
    "povm_implementation = ProductPVMSimPOVMImplementation(2, np.array([0,0, 1,0.5, 1,1, 1,1,     0,0, 1,0.5, 0.3,0.2, 2,1]))\n",
    "povm_implementation._build_qc().draw()"
   ]
  },
  {
   "cell_type": "code",
   "execution_count": 19,
   "metadata": {},
   "outputs": [
    {
     "data": {
      "text/plain": [
       "[Operator([[0.5+0.j, 0. +0.j],\n",
       "           [0. +0.j, 0. +0.j]],\n",
       "          input_dims=(2,), output_dims=(2,)),\n",
       " Operator([[ 0. +0.j, -0. +0.j],\n",
       "           [-0. +0.j,  0.5+0.j]],\n",
       "          input_dims=(2,), output_dims=(2,)),\n",
       " Operator([[0.19253779+0.00000000e+00j, 0.09230753-5.04278350e-02j],\n",
       "           [0.09230753+5.04278350e-02j, 0.05746221-9.13716138e-19j]],\n",
       "          input_dims=(2,), output_dims=(2,)),\n",
       " Operator([[ 0.05746221+9.13716138e-19j, -0.09230753+5.04278350e-02j],\n",
       "           [-0.09230753-5.04278350e-02j,  0.19253779+0.00000000e+00j]],\n",
       "          input_dims=(2,), output_dims=(2,)),\n",
       " Operator([[0.24441706+0.00000000e+00j, 0.03620368-7.33885021e-03j],\n",
       "           [0.03620368+7.33885021e-03j, 0.00558294-9.66574794e-20j]],\n",
       "          input_dims=(2,), output_dims=(2,)),\n",
       " Operator([[ 0.00558294+9.66574794e-20j, -0.03620368+7.33885021e-03j],\n",
       "           [-0.03620368-7.33885021e-03j,  0.24441706+0.00000000e+00j]],\n",
       "          input_dims=(2,), output_dims=(2,))]"
      ]
     },
     "execution_count": 19,
     "metadata": {},
     "output_type": "execute_result"
    }
   ],
   "source": [
    "povm = povm_implementation.to_povm()\n",
    "povm.povm_list[1][:]"
   ]
  },
  {
   "cell_type": "code",
   "execution_count": 87,
   "metadata": {},
   "outputs": [
    {
     "data": {
      "text/plain": [
       "[([array([1.57079633, 1.57079633])], 18),\n",
       " ([array([1.57079633, 0.        ])], 35),\n",
       " ([array([0., 0.])], 47)]"
      ]
     },
     "execution_count": 87,
     "metadata": {},
     "output_type": "execute_result"
    }
   ],
   "source": [
    "n_qubit = 1\n",
    "parameters = np.array(n_qubit * [0., 0., 0.5 * np.pi, 0., 0.5 * np.pi, 0.5 * np.pi, 2.5, 1.5])\n",
    "cs_implementation = ProductPVMSimPOVMImplementation(n_qubit=n_qubit, parameters=parameters)\n",
    "cs_implementation.get_parameter_and_shot(shot=100)"
   ]
  },
  {
   "cell_type": "code",
   "execution_count": 88,
   "metadata": {},
   "outputs": [
    {
     "data": {
      "text/plain": [
       "[Operator([[0.5+0.j, 0. +0.j],\n",
       "           [0. +0.j, 0. +0.j]],\n",
       "          input_dims=(2,), output_dims=(2,)),\n",
       " Operator([[ 0. +0.j, -0. +0.j],\n",
       "           [-0. +0.j,  0.5+0.j]],\n",
       "          input_dims=(2,), output_dims=(2,)),\n",
       " Operator([[0.15+0.j, 0.15+0.j],\n",
       "           [0.15+0.j, 0.15+0.j]],\n",
       "          input_dims=(2,), output_dims=(2,)),\n",
       " Operator([[ 0.15+0.j, -0.15+0.j],\n",
       "           [-0.15+0.j,  0.15+0.j]],\n",
       "          input_dims=(2,), output_dims=(2,)),\n",
       " Operator([[1.000000e-01+0.00000000e+00j, 6.123234e-18-1.00000000e-01j],\n",
       "           [6.123234e-18+1.00000000e-01j, 1.000000e-01-1.23299735e-34j]],\n",
       "          input_dims=(2,), output_dims=(2,)),\n",
       " Operator([[ 1.000000e-01+1.23299735e-34j, -6.123234e-18+1.00000000e-01j],\n",
       "           [-6.123234e-18-1.00000000e-01j,  1.000000e-01+0.00000000e+00j]],\n",
       "          input_dims=(2,), output_dims=(2,))]"
      ]
     },
     "execution_count": 88,
     "metadata": {},
     "output_type": "execute_result"
    }
   ],
   "source": [
    "cs_povm = cs_implementation.to_povm()\n",
    "cs_povm.povm_list[0][:]"
   ]
  },
  {
   "cell_type": "code",
   "execution_count": 28,
   "metadata": {},
   "outputs": [
    {
     "data": {
      "text/plain": [
       "[Operator([[0.5+0.j, 0. +0.j],\n",
       "           [0. +0.j, 0. +0.j]],\n",
       "          input_dims=(2,), output_dims=(2,)),\n",
       " Operator([[0. +0.j, 0. +0.j],\n",
       "           [0. +0.j, 0.5+0.j]],\n",
       "          input_dims=(2,), output_dims=(2,)),\n",
       " Operator([[0.15+0.j, 0.15+0.j],\n",
       "           [0.15+0.j, 0.15+0.j]],\n",
       "          input_dims=(2,), output_dims=(2,)),\n",
       " Operator([[ 0.15+0.j, -0.15-0.j],\n",
       "           [-0.15+0.j,  0.15+0.j]],\n",
       "          input_dims=(2,), output_dims=(2,)),\n",
       " Operator([[0.1+0.j , 0. -0.1j],\n",
       "           [0. +0.1j, 0.1+0.j ]],\n",
       "          input_dims=(2,), output_dims=(2,)),\n",
       " Operator([[0.1+0.j , 0. +0.1j],\n",
       "           [0. -0.1j, 0.1+0.j ]],\n",
       "          input_dims=(2,), output_dims=(2,))]"
      ]
     },
     "execution_count": 28,
     "metadata": {},
     "output_type": "execute_result"
    }
   ],
   "source": [
    "sqpovm[:]"
   ]
  },
  {
   "cell_type": "code",
   "execution_count": 57,
   "metadata": {},
   "outputs": [
    {
     "name": "stdout",
     "output_type": "stream",
     "text": [
      "True\n",
      "True\n",
      "True\n",
      "True\n",
      "True\n",
      "True\n"
     ]
    }
   ],
   "source": [
    "n_qubit = 1\n",
    "q = np.random.uniform(0,5,size=3 * n_qubit).reshape((n_qubit, 3))\n",
    "q /= q.sum(axis=1)[:, np.newaxis]\n",
    "\n",
    "parameters = np.array(n_qubit * [0., 0., 0.5 * np.pi, 0., 0.5 * np.pi, 0.5 * np.pi, 1, 1])\n",
    "for i in range(n_qubit):\n",
    "    parameters[i * 8 + 6] = q[i,0]/q[i,2]\n",
    "    parameters[i * 8 + 7] = q[i,1]/q[i,2]\n",
    "\n",
    "cs_implementation = ProductPVMSimPOVMImplementation(n_qubit=n_qubit, parameters=parameters)\n",
    "cs_povm = cs_implementation.to_povm()\n",
    "for i in range(n_qubit):\n",
    "    sqpovm = SingleQubitPOVM(np.array([q[i,0]* Z0,q[i,0]* Z1,q[i,1]* X0,q[i,1]* X1,q[i,2]* Y0,q[i,2]* Y1]))\n",
    "    for k in range(sqpovm.n_outcomes):\n",
    "        print(np.allclose(cs_povm.povm_list[i][k].data, sqpovm[k].data))\n"
   ]
  },
  {
   "cell_type": "code",
   "execution_count": 37,
   "metadata": {},
   "outputs": [
    {
     "name": "stdout",
     "output_type": "stream",
     "text": [
      "0 3\n",
      "False\n",
      "0 5\n",
      "False\n",
      "0 4\n",
      "False\n",
      "0 1\n",
      "False\n",
      "0 0\n",
      "True\n",
      "[3 5 4 1 2]\n",
      "1 3\n",
      "False\n",
      "1 5\n",
      "False\n",
      "1 4\n",
      "False\n",
      "1 1\n",
      "True\n",
      "[3 5 4 2]\n",
      "2 3\n",
      "False\n",
      "2 5\n",
      "False\n",
      "2 4\n",
      "False\n",
      "2 2\n",
      "True\n",
      "[3 5 4]\n",
      "3 3\n",
      "True\n",
      "[5 4]\n",
      "4 5\n",
      "False\n",
      "4 4\n",
      "True\n",
      "[5]\n",
      "5 5\n",
      "True\n",
      "[]\n"
     ]
    }
   ],
   "source": [
    "idx = np.arange(cs_povm.povm_list[0].n_outcomes)\n",
    "np.random.shuffle(idx)\n",
    "\n",
    "for k1 in range(cs_povm.povm_list[0].n_outcomes):\n",
    "    for i, k2 in enumerate(idx) : \n",
    "        print(k1,k2)\n",
    "        print(np.allclose(cs_povm.povm_list[0][k1], sqpovm[k2]))\n",
    "        if np.allclose(cs_povm.povm_list[0][k1], sqpovm[k2]):\n",
    "            idx = np.delete(idx, i)\n",
    "            print(idx)\n",
    "            break\n"
   ]
  },
  {
   "cell_type": "code",
   "execution_count": 67,
   "metadata": {},
   "outputs": [
    {
     "name": "stdout",
     "output_type": "stream",
     "text": [
      "0 0 9\n",
      "0 3\n",
      "1 0 8\n",
      "0 7\n",
      "2 0 7\n",
      "3 1 7\n",
      "4 2 7\n",
      "5 3 7\n",
      "6 4 7\n",
      "7 5 7\n",
      "5 8\n",
      "8 5 6\n",
      "Operator([[0.15+0.j, 0.15+0.j],\n",
      "          [0.15+0.j, 0.15+0.j]],\n",
      "         input_dims=(2,), output_dims=(2,))\n",
      "Operator([[0.5+0.j, 0. +0.j],\n",
      "          [0. +0.j, 0. +0.j]],\n",
      "         input_dims=(2,), output_dims=(2,))\n",
      "Operator([[0. +0.j, 0. +0.j],\n",
      "          [0. +0.j, 0.5+0.j]],\n",
      "         input_dims=(2,), output_dims=(2,))\n",
      "Operator([[ 0.15+0.j, -0.15-0.j],\n",
      "          [-0.15+0.j,  0.15+0.j]],\n",
      "         input_dims=(2,), output_dims=(2,))\n",
      "Operator([[0.1+0.j , 0. -0.1j],\n",
      "          [0. +0.1j, 0.1+0.j ]],\n",
      "         input_dims=(2,), output_dims=(2,))\n",
      "Operator([[0.1+0.j , 0. +0.1j],\n",
      "          [0. -0.1j, 0.1+0.j ]],\n",
      "         input_dims=(2,), output_dims=(2,))\n",
      "[3, 7, 8]\n"
     ]
    },
    {
     "data": {
      "text/plain": [
       "True"
      ]
     },
     "execution_count": 67,
     "metadata": {},
     "output_type": "execute_result"
    }
   ],
   "source": [
    "q = [0.5, 0.1, 0.2, 0.2]\n",
    "\n",
    "sqpovm = SingleQubitPOVM(np.array([0.15* X0,   # 0\n",
    "                                   q[0]* Z0,   # 1\n",
    "                                   q[0]* Z1,   # 2\n",
    "                                   0.1 * X0,   # 3\n",
    "                                   0.3 * X1,   # 4\n",
    "                                   q[2]* Y0,   # 5\n",
    "                                   0.1 * Y1,   # 6\n",
    "                                   0.05* X0,   # 7\n",
    "                                   0.1 * Y1])) # 8\n",
    "\n",
    "n_del = 0\n",
    "to_delete=[]\n",
    "\n",
    "for k in range(sqpovm.n_outcomes):\n",
    "    k1 = k - n_del\n",
    "    print(k,k1,sqpovm.n_outcomes)\n",
    "    for k2 in range(k1+1,sqpovm.n_outcomes):\n",
    "        if np.allclose(sqpovm[k1] / np.trace(sqpovm[k1]), sqpovm[k2] / np.trace(sqpovm[k2])):\n",
    "            sqpovm.povm_operators[k1] = Operator(sqpovm[k1]+sqpovm[k2])\n",
    "            sqpovm.povm_operators.pop(k2)\n",
    "            sqpovm.n_outcomes-=1\n",
    "\n",
    "            to_delete.append(k2+n_del)\n",
    "            print(k1,k2+n_del)\n",
    "\n",
    "            n_del+=1\n",
    "\n",
    "            break\n",
    "for op in sqpovm:\n",
    "    print(op)\n",
    "\n",
    "print(to_delete)\n",
    "\n",
    "sqpovm.check_validity()"
   ]
  },
  {
   "cell_type": "code",
   "execution_count": 75,
   "metadata": {},
   "outputs": [
    {
     "name": "stdout",
     "output_type": "stream",
     "text": [
      " k1: 0 and #outcomes: 12\n",
      "0 3\n",
      "[0 0 0 1 1 1 1 1 1 1 1]\n",
      "0 4\n",
      "[0 0 0 2 2 2 2 2 2 2]\n",
      "0 9\n",
      "[0 0 0 2 2 2 2 3 3]\n",
      " k1: 1 and #outcomes: 9\n",
      " k1: 2 and #outcomes: 9\n",
      " k1: 3 and #outcomes: 9\n",
      "5 9\n",
      "[0 0 0 2 2 2 4 4]\n",
      "5 10\n",
      "[0 0 0 2 2 2 5]\n",
      "5 11\n",
      "[0 0 0 2 2 2]\n",
      " k1: 4 and #outcomes: 6\n",
      " k1: 5 and #outcomes: 6\n",
      "Operator([[0.145+0.j, 0.145+0.j],\n",
      "          [0.145+0.j, 0.145+0.j]],\n",
      "         input_dims=(2,), output_dims=(2,))\n",
      "Operator([[0.51+0.j, 0.  +0.j],\n",
      "          [0.  +0.j, 0.  +0.j]],\n",
      "         input_dims=(2,), output_dims=(2,))\n",
      "Operator([[0.  +0.j, 0.  +0.j],\n",
      "          [0.  +0.j, 0.51+0.j]],\n",
      "         input_dims=(2,), output_dims=(2,))\n",
      "Operator([[0.1+0.j , 0. +0.1j],\n",
      "          [0. -0.1j, 0.1+0.j ]],\n",
      "         input_dims=(2,), output_dims=(2,))\n",
      "Operator([[ 0.145+0.j, -0.145-0.j],\n",
      "          [-0.145+0.j,  0.145+0.j]],\n",
      "         input_dims=(2,), output_dims=(2,))\n",
      "Operator([[0.1+0.j , 0. -0.1j],\n",
      "          [0. +0.1j, 0.1+0.j ]],\n",
      "         input_dims=(2,), output_dims=(2,))\n",
      "[3, 4, 9, 9, 10, 11]\n"
     ]
    },
    {
     "data": {
      "text/plain": [
       "True"
      ]
     },
     "execution_count": 75,
     "metadata": {},
     "output_type": "execute_result"
    }
   ],
   "source": [
    "q = [0.51, 0.1, 0.2, 0.2]\n",
    "\n",
    "sqpovm = SingleQubitPOVM(np.array([0.15* X0,   # 0\n",
    "                                   q[0]* Z0,   # 1\n",
    "                                   q[0]* Z1,   # 2\n",
    "                                   0.01* X0,   # 3\n",
    "                                   0.08* X0,   # 4\n",
    "                                   0.01* Y1,   # 5\n",
    "                                   0.29 * X1,   # 6\n",
    "                                   q[2]* Y0,   # 7\n",
    "                                   0.09* Y1,   # 8\n",
    "                                   0.05* X0,   # 9\n",
    "                                   0.05* Y1,   # 10\n",
    "                                   0.05* Y1])) # 11\n",
    "k1=0\n",
    "n_del = 0\n",
    "to_delete=[]\n",
    "\n",
    "weird_list = np.zeros(sqpovm.n_outcomes, dtype = int)\n",
    "\n",
    "while k1 < sqpovm.n_outcomes:\n",
    "    print(f' k1: {k1} and #outcomes: {sqpovm.n_outcomes}')\n",
    "    k2 = k1+1\n",
    "    while k2 < sqpovm.n_outcomes:\n",
    "        if np.allclose(sqpovm[k1] / np.trace(sqpovm[k1]), sqpovm[k2] / np.trace(sqpovm[k2])):\n",
    "            sqpovm.povm_operators[k1] = Operator(sqpovm[k1]+sqpovm[k2])\n",
    "            sqpovm.povm_operators.pop(k2)\n",
    "            sqpovm.n_outcomes-=1\n",
    "\n",
    "            to_delete.append(k2+n_del)\n",
    "            print(k1+weird_list[k1],k2+n_del)\n",
    "            weird_list[k2:]+=1\n",
    "            weird_list = np.delete(weird_list,k2)\n",
    "            print(weird_list)\n",
    "            n_del+=1\n",
    "            k2-=1\n",
    "        k2+=1\n",
    "    k1+=1\n",
    "\n",
    "for op in sqpovm:\n",
    "    print(op)\n",
    "\n",
    "print(to_delete)\n",
    "\n",
    "sqpovm.check_validity()"
   ]
  },
  {
   "cell_type": "code",
   "execution_count": 90,
   "metadata": {},
   "outputs": [],
   "source": [
    "def merge_povm_effects(povm: Povm) -> Povm:\n",
    "\n",
    "    k1=0\n",
    "    n_del = 0\n",
    "\n",
    "    while k1 < povm.n_outcomes:\n",
    "        print(f' k1: {k1} and #outcomes: {povm.n_outcomes}')\n",
    "        k2 = k1+1\n",
    "        while k2 < povm.n_outcomes:\n",
    "            if np.allclose(povm[k1] / np.trace(povm[k1]), povm[k2] / np.trace(povm[k2])):\n",
    "                povm.povm_operators[k1] = Operator(povm[k1]+povm[k2])\n",
    "                povm.povm_operators.pop(k2)\n",
    "                povm.n_outcomes-=1\n",
    "                n_del+=1\n",
    "                k2-=1\n",
    "            k2+=1\n",
    "        k1+=1\n",
    "\n",
    "    assert povm.check_validity(), 'Error in cleaning the POVM'\n",
    "\n",
    "    return povm\n",
    "\n",
    "def sort_povm_effects(povm: Povm) -> Povm:\n",
    "    sorting_values = np.array([(np.trace(op.data), op.data[0,0]) for op in povm], dtype=[('tr', 'float'), ('m00', 'float')])\n",
    "    idx_sort = np.argsort(sorting_values, order=('tr','m00'))[::-1]\n",
    "    povm.povm_operators = [povm[idx] for idx in idx_sort]\n",
    "\n",
    "    return povm\n",
    "\n",
    "def clean_povm(povm: Povm) -> Povm:\n",
    "    povm = merge_povm_effects(povm)\n",
    "    povm = sort_povm_effects(povm)\n",
    "    return povm\n",
    "\n",
    "def compare_povms(povm1: Povm, povm2: Povm, tol:float=1e-5) -> bool:\n",
    "    del tol\n",
    "    povm1 = clean_povm(povm1)\n",
    "    povm2 = clean_povm(povm2)\n",
    "\n",
    "    idx = np.arange(povm2.n_outcomes)\n",
    "\n",
    "    for k1 in range(povm1.n_outcomes):\n",
    "        continue_check = False\n",
    "        for i, k2 in enumerate(idx) : \n",
    "            print(k1,k2)\n",
    "            print(np.allclose(povm1[k1], povm2[k2]))\n",
    "            if np.allclose(povm1[k1], povm2[k2]):\n",
    "                idx = np.delete(idx, i)\n",
    "                print(idx)\n",
    "                continue_check = True\n",
    "                break\n",
    "        if not continue_check :\n",
    "            return False\n",
    "\n",
    "    if len(idx)==0:\n",
    "        return True\n",
    "    else:\n",
    "        return False"
   ]
  },
  {
   "cell_type": "code",
   "execution_count": 91,
   "metadata": {},
   "outputs": [
    {
     "name": "stdout",
     "output_type": "stream",
     "text": [
      " k1: 0 and #outcomes: 6\n",
      " k1: 1 and #outcomes: 6\n",
      " k1: 2 and #outcomes: 6\n",
      " k1: 3 and #outcomes: 6\n",
      " k1: 4 and #outcomes: 6\n",
      " k1: 5 and #outcomes: 6\n",
      " k1: 0 and #outcomes: 6\n",
      " k1: 1 and #outcomes: 6\n",
      " k1: 2 and #outcomes: 6\n",
      " k1: 3 and #outcomes: 6\n",
      " k1: 4 and #outcomes: 6\n",
      " k1: 5 and #outcomes: 6\n",
      "0 0\n",
      "False\n",
      "0 1\n",
      "False\n",
      "0 2\n",
      "False\n",
      "0 3\n",
      "False\n",
      "0 4\n",
      "False\n",
      "0 5\n",
      "False\n"
     ]
    },
    {
     "name": "stderr",
     "output_type": "stream",
     "text": [
      "/var/folders/d7/fx92klcd7fncls676l53b83h0000gn/T/ipykernel_63558/1908604622.py:24: ComplexWarning: Casting complex values to real discards the imaginary part\n",
      "  sorting_values = np.array([(np.trace(op.data), op.data[0,0]) for op in povm], dtype=[('tr', 'float'), ('m00', 'float')])\n"
     ]
    },
    {
     "data": {
      "text/plain": [
       "False"
      ]
     },
     "execution_count": 91,
     "metadata": {},
     "output_type": "execute_result"
    }
   ],
   "source": [
    "compare_povms(sqpovm, cs_povm.povm_list[0])"
   ]
  },
  {
   "cell_type": "code",
   "execution_count": 78,
   "metadata": {},
   "outputs": [
    {
     "name": "stdout",
     "output_type": "stream",
     "text": [
      "Operator([[0.51+0.j, 0.  +0.j],\n",
      "          [0.  +0.j, 0.  +0.j]],\n",
      "         input_dims=(2,), output_dims=(2,))\n"
     ]
    }
   ],
   "source": [
    "sqpovm[0]"
   ]
  },
  {
   "cell_type": "code",
   "execution_count": 79,
   "metadata": {},
   "outputs": [
    {
     "name": "stdout",
     "output_type": "stream",
     "text": [
      "Operator([[0.5+0.j, 0. +0.j],\n",
      "          [0. +0.j, 0. +0.j]],\n",
      "         input_dims=(2,), output_dims=(2,))\n"
     ]
    }
   ],
   "source": [
    "cs_povm.povm_list[0][0]"
   ]
  },
  {
   "cell_type": "code",
   "execution_count": 33,
   "metadata": {},
   "outputs": [
    {
     "name": "stderr",
     "output_type": "stream",
     "text": [
      "/var/folders/d7/fx92klcd7fncls676l53b83h0000gn/T/ipykernel_63558/2815594634.py:1: ComplexWarning: Casting complex values to real discards the imaginary part\n",
      "  idx_sort = np.argsort(np.array([(np.trace(op.data), op.data[0,0]) for op in sqpovm], dtype=[('tr', 'float'), ('m00', 'float')]), order=('tr','m00'))[::-1]\n"
     ]
    }
   ],
   "source": [
    "idx_sort = np.argsort(np.array([(np.trace(op.data), op.data[0,0]) for op in sqpovm], dtype=[('tr', 'float'), ('m00', 'float')]), order=('tr','m00'))[::-1]"
   ]
  },
  {
   "cell_type": "code",
   "execution_count": 34,
   "metadata": {},
   "outputs": [
    {
     "data": {
      "text/plain": [
       "[Operator([[0.5+0.j, 0. +0.j],\n",
       "           [0. +0.j, 0. +0.j]],\n",
       "          input_dims=(2,), output_dims=(2,)),\n",
       " Operator([[0. +0.j, 0. +0.j],\n",
       "           [0. +0.j, 0.5+0.j]],\n",
       "          input_dims=(2,), output_dims=(2,)),\n",
       " Operator([[ 0.15+0.j, -0.15-0.j],\n",
       "           [-0.15+0.j,  0.15+0.j]],\n",
       "          input_dims=(2,), output_dims=(2,)),\n",
       " Operator([[0.15+0.j, 0.15+0.j],\n",
       "           [0.15+0.j, 0.15+0.j]],\n",
       "          input_dims=(2,), output_dims=(2,)),\n",
       " Operator([[0.1+0.j , 0. -0.1j],\n",
       "           [0. +0.1j, 0.1+0.j ]],\n",
       "          input_dims=(2,), output_dims=(2,)),\n",
       " Operator([[0.1+0.j , 0. +0.1j],\n",
       "           [0. -0.1j, 0.1+0.j ]],\n",
       "          input_dims=(2,), output_dims=(2,))]"
      ]
     },
     "execution_count": 34,
     "metadata": {},
     "output_type": "execute_result"
    }
   ],
   "source": [
    "[sqpovm[idx] for idx in idx_sort]"
   ]
  },
  {
   "cell_type": "code",
   "execution_count": 30,
   "metadata": {},
   "outputs": [
    {
     "name": "stderr",
     "output_type": "stream",
     "text": [
      "/var/folders/d7/fx92klcd7fncls676l53b83h0000gn/T/ipykernel_63558/2810929492.py:1: ComplexWarning: Casting complex values to real discards the imaginary part\n",
      "  np.array([(np.trace(op.data), op.data[0,0]) for op in sqpovm], dtype=[('tr', 'float'), ('m00', 'float')])\n"
     ]
    },
    {
     "data": {
      "text/plain": [
       "array([(0.3, 0.15), (0.5, 0.5 ), (0.5, 0.  ), (0.2, 0.1 ), (0.3, 0.15),\n",
       "       (0.2, 0.1 )], dtype=[('tr', '<f8'), ('m00', '<f8')])"
      ]
     },
     "execution_count": 30,
     "metadata": {},
     "output_type": "execute_result"
    }
   ],
   "source": [
    "np.array([(np.trace(op.data), op.data[0,0]) for op in sqpovm], dtype=[('tr', 'float'), ('m00', 'float')])"
   ]
  },
  {
   "cell_type": "code",
   "execution_count": null,
   "metadata": {},
   "outputs": [],
   "source": []
  }
 ],
 "metadata": {
  "kernelspec": {
   "display_name": "Python 3 (ipykernel)",
   "language": "python",
   "name": "python3"
  },
  "language_info": {
   "codemirror_mode": {
    "name": "ipython",
    "version": 3
   },
   "file_extension": ".py",
   "mimetype": "text/x-python",
   "name": "python",
   "nbconvert_exporter": "python",
   "pygments_lexer": "ipython3",
   "version": "3.11.8"
  }
 },
 "nbformat": 4,
 "nbformat_minor": 4
}
