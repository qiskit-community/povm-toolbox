{
 "cells": [
  {
   "cell_type": "code",
   "execution_count": 1,
   "metadata": {},
   "outputs": [],
   "source": [
    "%load_ext autoreload\n",
    "%autoreload 2"
   ]
  },
  {
   "cell_type": "code",
   "execution_count": 2,
   "metadata": {},
   "outputs": [],
   "source": [
    "import numpy as np\n",
    "from povms.library.pm_sim_implementation import ClassicalShadows, RandomizedPMs\n",
    "from povms.post_processor.povm_post_processor import POVMPostprocessor\n",
    "from povms.sampler.povm_sampler import POVMSampler\n",
    "from qiskit.circuit.random import random_circuit\n",
    "from qiskit.quantum_info import (\n",
    "    Operator,\n",
    "    SparsePauliOp,\n",
    "    Statevector,\n",
    "    random_hermitian,\n",
    ")\n",
    "from qiskit_aer import AerSimulator\n",
    "from qiskit_ibm_runtime import SamplerV2 as Sampler\n",
    "from qiskit_ibm_runtime import Session"
   ]
  },
  {
   "cell_type": "markdown",
   "metadata": {},
   "source": [
    "# Random Circuit\n",
    "\n",
    "We first llok at a random the 2-qubit circuit, with depth 3."
   ]
  },
  {
   "cell_type": "code",
   "execution_count": 3,
   "metadata": {},
   "outputs": [
    {
     "data": {
      "text/html": [
       "<pre style=\"word-wrap: normal;white-space: pre;background: #fff0;line-height: 1.1;font-family: &quot;Courier New&quot;,Courier,monospace\">     ┌──────┐┌──────────────────────────┐             \n",
       "q_0: ┤0     ├┤1                         ├─■───────────\n",
       "     │  Ecr ││  (XX-YY)(1.6427,0.48506) │ │ZZ(3.8566) \n",
       "q_1: ┤1     ├┤0                         ├─■───────────\n",
       "     └──────┘└──────────────────────────┘             </pre>"
      ],
      "text/plain": [
       "     ┌──────┐┌──────────────────────────┐             \n",
       "q_0: ┤0     ├┤1                         ├─■───────────\n",
       "     │  Ecr ││  (XX-YY)(1.6427,0.48506) │ │ZZ(3.8566) \n",
       "q_1: ┤1     ├┤0                         ├─■───────────\n",
       "     └──────┘└──────────────────────────┘             "
      ]
     },
     "execution_count": 3,
     "metadata": {},
     "output_type": "execute_result"
    }
   ],
   "source": [
    "n_qubit = 2\n",
    "seed = 13\n",
    "qc_random = random_circuit(num_qubits=n_qubit, depth = 3, measure=False, seed=seed)\n",
    "qc_random.draw()"
   ]
  },
  {
   "cell_type": "markdown",
   "metadata": {},
   "source": [
    "We also draw some random observables "
   ]
  },
  {
   "cell_type": "code",
   "execution_count": 4,
   "metadata": {},
   "outputs": [],
   "source": [
    "set_observables = [SparsePauliOp.from_operator(random_hermitian(2**n_qubit)) for _ in range(10)]"
   ]
  },
  {
   "cell_type": "markdown",
   "metadata": {},
   "source": [
    "For reference, we compute the true final state and the exact expectation values for the different observables."
   ]
  },
  {
   "cell_type": "code",
   "execution_count": 5,
   "metadata": {},
   "outputs": [],
   "source": [
    "exact_state = Statevector(np.array(Operator(qc_random).data[:,0]).squeeze())\n",
    "exp_val = [exact_state.expectation_value(obs) for obs in set_observables]"
   ]
  },
  {
   "cell_type": "markdown",
   "metadata": {},
   "source": [
    "# Classical Shadows\n",
    "\n",
    "We now look at the implementation of Classical Shaodws measurement"
   ]
  },
  {
   "cell_type": "code",
   "execution_count": 6,
   "metadata": {},
   "outputs": [
    {
     "name": "stderr",
     "output_type": "stream",
     "text": [
      "/Users/dao/Documents/Internship/ic-povms/.venv/lib/python3.10/site-packages/qiskit_ibm_runtime/session.py:156: UserWarning: Session is not supported in local testing mode or when using a simulator.\n",
      "  warnings.warn(\n"
     ]
    }
   ],
   "source": [
    "# By default, the Classical Shadows (CS) measurement uses X,Y,Z measurements with equal probability.\n",
    "cs_implementation = ClassicalShadows(n_qubit=n_qubit)\n",
    "# Define the shot budget.\n",
    "cs_shots = 4096\n",
    "\n",
    "# Run the sampler job locally using AerSimulator.\n",
    "# Session syntax is supported but ignored because local mode doesn't support sessions.\n",
    "backend = AerSimulator()\n",
    "with Session(backend=backend) as session:\n",
    "    # First define a standard sampler (that will be used under the hood).\n",
    "    runtime_sampler = Sampler(session=session)\n",
    "    # Then define the POVM sampler, which takes BaseSampler as an argument.\n",
    "    sampler = POVMSampler(runtime_sampler)\n",
    "    # Submit the job by specifying which POVM to use, which circuit(s) to measure and the shot budget.\n",
    "    cs_job = sampler.run(cs_implementation, qc_random, shots=cs_shots)"
   ]
  },
  {
   "cell_type": "markdown",
   "metadata": {},
   "source": [
    "## Results\n",
    "We retrieve the result object, which contains the POVM used and from which we can query the counts of each outcome."
   ]
  },
  {
   "cell_type": "code",
   "execution_count": 7,
   "metadata": {},
   "outputs": [
    {
     "name": "stdout",
     "output_type": "stream",
     "text": [
      "POVM: <povms.library.pm_sim_implementation.ClassicalShadows object at 0x118f58130>\n",
      "Counts: {(0, 5): 65, (1, 5): 57, (1, 4): 274, (0, 4): 65, (2, 1): 63, (2, 0): 239, (3, 0): 101, (3, 1): 55, (4, 0): 348, (4, 1): 56, (5, 0): 22, (5, 1): 63, (1, 1): 101, (1, 0): 221, (0, 0): 127, (3, 2): 167, (2, 3): 111, (2, 2): 151, (3, 3): 1, (5, 4): 73, (4, 4): 276, (4, 5): 111, (5, 5): 4, (4, 2): 268, (4, 3): 101, (5, 3): 29, (5, 2): 31, (2, 4): 269, (3, 4): 104, (3, 5): 75, (2, 5): 23, (1, 2): 271, (1, 3): 56, (0, 3): 64, (0, 2): 54}\n"
     ]
    }
   ],
   "source": [
    "cs_result = cs_job.result()\n",
    "print(f\"POVM: {cs_result.povm}\")\n",
    "print(f\"Counts: {cs_result.get_counts()}\")"
   ]
  },
  {
   "cell_type": "markdown",
   "metadata": {},
   "source": [
    "We now define our POVM post-processor, which will use the resukt object to estimate expectation values of some observables."
   ]
  },
  {
   "cell_type": "code",
   "execution_count": 8,
   "metadata": {},
   "outputs": [],
   "source": [
    "cs_postprocessor = POVMPostprocessor(cs_result)\n",
    "cs_est_exp_val = [cs_postprocessor.get_expectation_value(obs) for obs in set_observables]"
   ]
  },
  {
   "cell_type": "code",
   "execution_count": 9,
   "metadata": {},
   "outputs": [
    {
     "name": "stdout",
     "output_type": "stream",
     "text": [
      "Exact        CS\n",
      "             (4096 shots)\n",
      " 4.041e-01      4.093e-01\n",
      " 2.614e+00      2.655e+00\n",
      " 5.072e-01      5.535e-01\n",
      "-8.583e-01     -9.000e-01\n",
      "-1.899e-01     -2.214e-01\n",
      " 3.017e-01      3.402e-01\n",
      " 4.705e-01      4.404e-01\n",
      " 4.975e-01      5.638e-01\n",
      " 1.980e+00      2.013e+00\n",
      " 6.090e-01      6.483e-01\n"
     ]
    }
   ],
   "source": [
    "n = int(np.ceil(np.log10(cs_shots)))\n",
    "print('Exact        CS')\n",
    "print(f'             ({cs_shots} shots)')\n",
    "for i in range(len(set_observables)):\n",
    "    print(f'{np.real(exp_val[i]):>10.3e}   {cs_est_exp_val[i]:>{8+n}.3e}')"
   ]
  },
  {
   "cell_type": "markdown",
   "metadata": {},
   "source": [
    "# PM-simulable POVM\n",
    "We now look at POVM that are simulable (through randomization) with only single-qubit projective measurements (PMs)."
   ]
  },
  {
   "cell_type": "code",
   "execution_count": 10,
   "metadata": {},
   "outputs": [],
   "source": [
    "# Define our projective measurements acting on each qubit.\n",
    "angles = np.array([[0.0, 0.0, 0.5 * np.pi, 0.0, 0.5 * np.pi, 0.5 * np.pi],[1.2,0.0, 0.1,3.14,0.7,0.3]])\n",
    "# Set the distributions of the shots among the PMs.\n",
    "bias = np.array([[0.34, 0.33, 0.33], [0.7,0.15,0.15]])\n",
    "\n",
    "# Define the PM-simulable POVM.\n",
    "pmsim_implementation = RandomizedPMs(n_qubit=n_qubit, bias=bias, angles=angles)\n",
    "pmsim_shots = 4096\n",
    "\n",
    "with Session(backend=backend) as session:\n",
    "    # First define a standard sampler (that will be used under the hood).\n",
    "    runtime_sampler = Sampler(session=session)\n",
    "    # Then define the POVM sampler, which takes BaseSampler as an argument.\n",
    "    sampler = POVMSampler(runtime_sampler)\n",
    "    # Submit the job by specifying which POVM to use, which circuit(s) to measure and the shot budget.\n",
    "    pmsim_job = sampler.run(pmsim_implementation, qc_random, shots=pmsim_shots)"
   ]
  },
  {
   "cell_type": "markdown",
   "metadata": {},
   "source": [
    "## Results\n",
    "\n",
    "Retrieve the result of the sampling and use it to estiamte some expectation values via the post-processor"
   ]
  },
  {
   "cell_type": "code",
   "execution_count": 11,
   "metadata": {},
   "outputs": [
    {
     "name": "stdout",
     "output_type": "stream",
     "text": [
      "Counts: {(3, 0): 332, (2, 0): 412, (3, 1): 2, (2, 1): 189, (3, 2): 60, (3, 3): 32, (2, 2): 104, (2, 3): 25, (1, 4): 130, (1, 5): 17, (0, 4): 48, (0, 5): 6, (1, 0): 628, (0, 1): 70, (0, 0): 167, (1, 1): 123, (4, 2): 156, (4, 3): 36, (5, 2): 9, (5, 3): 24, (0, 2): 64, (1, 3): 53, (1, 2): 99, (4, 0): 653, (4, 1): 98, (5, 1): 87, (5, 0): 70, (5, 5): 13, (5, 4): 7, (4, 4): 178, (4, 5): 4, (2, 4): 113, (3, 4): 67, (2, 5): 15, (3, 5): 5}\n"
     ]
    }
   ],
   "source": [
    "pmsim_result = pmsim_job.result()\n",
    "print(f\"Counts: {pmsim_result.get_counts()}\")\n",
    "\n",
    "pmsim_postprocessor = POVMPostprocessor(pmsim_result)\n",
    "pmsim_est_exp_val = [pmsim_postprocessor.get_expectation_value(obs) for obs in set_observables]"
   ]
  },
  {
   "cell_type": "code",
   "execution_count": 12,
   "metadata": {},
   "outputs": [
    {
     "name": "stdout",
     "output_type": "stream",
     "text": [
      "Exact        CS             PM-Sim\n",
      "             (4096 shots)   (4096 shots)\n",
      " 4.041e-01      4.093e-01      4.586e-01\n",
      " 2.614e+00      2.655e+00      2.756e+00\n",
      " 5.072e-01      5.535e-01      5.974e-01\n",
      "-8.583e-01     -9.000e-01     -1.036e+00\n",
      "-1.899e-01     -2.214e-01     -3.270e-01\n",
      " 3.017e-01      3.402e-01      5.928e-01\n",
      " 4.705e-01      4.404e-01      1.990e-01\n",
      " 4.975e-01      5.638e-01      6.202e-01\n",
      " 1.980e+00      2.013e+00      1.675e+00\n",
      " 6.090e-01      6.483e-01      8.681e-01\n"
     ]
    }
   ],
   "source": [
    "n = int(np.ceil(np.log10(cs_shots)))\n",
    "print(f'Exact        {\"CS\":<{8+n}}   PM-Sim')\n",
    "print(f'             ({cs_shots} shots)   ({pmsim_shots} shots)')\n",
    "for i in range(len(set_observables)):\n",
    "    print(f'{np.real(exp_val[i]):>10.3e}   {cs_est_exp_val[i]:>{8+n}.3e}   {pmsim_est_exp_val[i]:>{8+n}.3e}')"
   ]
  },
  {
   "cell_type": "code",
   "execution_count": null,
   "metadata": {},
   "outputs": [],
   "source": []
  }
 ],
 "metadata": {
  "kernelspec": {
   "display_name": ".venv",
   "language": "python",
   "name": "python3"
  },
  "language_info": {
   "codemirror_mode": {
    "name": "ipython",
    "version": 3
   },
   "file_extension": ".py",
   "mimetype": "text/x-python",
   "name": "python",
   "nbconvert_exporter": "python",
   "pygments_lexer": "ipython3",
   "version": "3.10.13"
  }
 },
 "nbformat": 4,
 "nbformat_minor": 2
}
