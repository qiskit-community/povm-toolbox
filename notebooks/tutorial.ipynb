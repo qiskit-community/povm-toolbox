{
 "cells": [
  {
   "cell_type": "code",
   "execution_count": 1,
   "metadata": {},
   "outputs": [],
   "source": [
    "%load_ext autoreload\n",
    "%autoreload 2"
   ]
  },
  {
   "cell_type": "code",
   "execution_count": 2,
   "metadata": {},
   "outputs": [],
   "source": [
    "import numpy as np\n",
    "from povms.library.pm_sim_implementation import ClassicalShadows, RandomizedPMs\n",
    "from povms.post_processor.povm_post_processor import POVMPostprocessor\n",
    "from povms.sampler.povm_sampler import POVMSampler\n",
    "from qiskit.circuit.random import random_circuit\n",
    "from qiskit.quantum_info import (\n",
    "    Operator,\n",
    "    SparsePauliOp,\n",
    "    Statevector,\n",
    "    random_hermitian,\n",
    ")\n",
    "from qiskit_aer import AerSimulator\n",
    "from qiskit_ibm_runtime import SamplerV2 as Sampler\n",
    "from qiskit_ibm_runtime import Session"
   ]
  },
  {
   "cell_type": "markdown",
   "metadata": {},
   "source": [
    "# Random Circuit\n",
    "\n",
    "We first llok at a random the 2-qubit circuit, with depth 3."
   ]
  },
  {
   "cell_type": "code",
   "execution_count": 3,
   "metadata": {},
   "outputs": [
    {
     "data": {
      "text/html": [
       "<pre style=\"word-wrap: normal;white-space: pre;background: #fff0;line-height: 1.1;font-family: &quot;Courier New&quot;,Courier,monospace\">          ┌──────┐┌──────┐                                                \n",
       "q_0: ─────┤1     ├┤0     ├──────────────────────────────■─────────────────\n",
       "     ┌───┐│      ││      │    ┌───┐    ┌────────────────┴────────────────┐\n",
       "q_1: ┤ H ├┤  Dcx ├┤  Ecr ├────┤ S ├────┤ U(3.4168,2.3054,0.68636,1.6934) ├\n",
       "     └───┘│      ││      │┌───┴───┴───┐└─────────────────────────────────┘\n",
       "q_2: ─────┤0     ├┤1     ├┤ P(5.0287) ├───────────────────────────────────\n",
       "          └──────┘└──────┘└───────────┘                                   </pre>"
      ],
      "text/plain": [
       "          ┌──────┐┌──────┐                                                \n",
       "q_0: ─────┤1     ├┤0     ├──────────────────────────────■─────────────────\n",
       "     ┌───┐│      ││      │    ┌───┐    ┌────────────────┴────────────────┐\n",
       "q_1: ┤ H ├┤  Dcx ├┤  Ecr ├────┤ S ├────┤ U(3.4168,2.3054,0.68636,1.6934) ├\n",
       "     └───┘│      ││      │┌───┴───┴───┐└─────────────────────────────────┘\n",
       "q_2: ─────┤0     ├┤1     ├┤ P(5.0287) ├───────────────────────────────────\n",
       "          └──────┘└──────┘└───────────┘                                   "
      ]
     },
     "execution_count": 3,
     "metadata": {},
     "output_type": "execute_result"
    }
   ],
   "source": [
    "n_qubit = 3\n",
    "n_cicuits = 5\n",
    "np.random.seed(10)\n",
    "seeds= np.random.randint(0,10000000,size=n_cicuits)\n",
    "qc_random = [random_circuit(num_qubits=n_qubit, depth = 3, measure=False, seed=seed) for seed in seeds]\n",
    "qc_random[0].draw()"
   ]
  },
  {
   "cell_type": "markdown",
   "metadata": {},
   "source": [
    "We also draw some random observables "
   ]
  },
  {
   "cell_type": "code",
   "execution_count": 4,
   "metadata": {},
   "outputs": [],
   "source": [
    "set_observables = [SparsePauliOp.from_operator(random_hermitian(2**n_qubit)) for _ in range(10)]"
   ]
  },
  {
   "cell_type": "markdown",
   "metadata": {},
   "source": [
    "For reference, we compute the true final state and the exact expectation values for the different observables."
   ]
  },
  {
   "cell_type": "code",
   "execution_count": 5,
   "metadata": {},
   "outputs": [],
   "source": [
    "exp_val = np.zeros((len(qc_random), len(set_observables)), dtype=complex)\n",
    "for i, qc in enumerate(qc_random):\n",
    "    exact_state = Statevector(np.array(Operator(qc).data[:,0]).squeeze())\n",
    "    exp_val[i] = np.array([exact_state.expectation_value(obs) for obs in set_observables])\n",
    "exp_val = np.real_if_close(exp_val)"
   ]
  },
  {
   "cell_type": "markdown",
   "metadata": {},
   "source": [
    "# Classical Shadows\n",
    "\n",
    "We now look at the implementation of Classical Shaodws measurement"
   ]
  },
  {
   "cell_type": "code",
   "execution_count": 6,
   "metadata": {},
   "outputs": [],
   "source": [
    "# By default, the Classical Shadows (CS) measurement uses X,Y,Z measurements with equal probability.\n",
    "cs_implementation = ClassicalShadows(n_qubit=n_qubit)\n",
    "# Define the default shot budget.\n",
    "cs_shots = 4096"
   ]
  },
  {
   "cell_type": "code",
   "execution_count": 7,
   "metadata": {},
   "outputs": [
    {
     "name": "stdout",
     "output_type": "stream",
     "text": [
      "[(<qiskit.circuit.quantumcircuit.QuantumCircuit object at 0x120c886a0>, None, None, <povms.library.pm_sim_implementation.ClassicalShadows object at 0x144b715d0>), (<qiskit.circuit.quantumcircuit.QuantumCircuit object at 0x144b71a80>, None, 5829, <povms.library.pm_sim_implementation.ClassicalShadows object at 0x144b715d0>), (<qiskit.circuit.quantumcircuit.QuantumCircuit object at 0x144b72290>, None, 7400, <povms.library.pm_sim_implementation.ClassicalShadows object at 0x144b715d0>), (<qiskit.circuit.quantumcircuit.QuantumCircuit object at 0x144b723e0>, None, 6648, <povms.library.pm_sim_implementation.ClassicalShadows object at 0x144b715d0>), (<qiskit.circuit.quantumcircuit.QuantumCircuit object at 0x144b718a0>, None, 1239, <povms.library.pm_sim_implementation.ClassicalShadows object at 0x144b715d0>)]\n"
     ]
    }
   ],
   "source": [
    "pubs = []\n",
    "for qcr in qc_random:\n",
    "    pubs.append((qcr, None, np.random.randint(1000,10000) if np.random.randint(2)==0 else None, cs_implementation))\n",
    "print(pubs)"
   ]
  },
  {
   "cell_type": "code",
   "execution_count": 8,
   "metadata": {},
   "outputs": [
    {
     "name": "stderr",
     "output_type": "stream",
     "text": [
      "/Users/dao/Documents/Internship/ic-povms/.venv/lib/python3.10/site-packages/qiskit_ibm_runtime/session.py:156: UserWarning: Session is not supported in local testing mode or when using a simulator.\n",
      "  warnings.warn(\n"
     ]
    }
   ],
   "source": [
    "# Run the sampler job locally using AerSimulator.\n",
    "# Session syntax is supported but ignored because local mode doesn't support sessions.\n",
    "backend = AerSimulator()\n",
    "with Session(backend=backend) as session:\n",
    "    # First define a standard sampler (that will be used under the hood).\n",
    "    runtime_sampler = Sampler(session=session)\n",
    "    # Then define the POVM sampler, which takes BaseSampler as an argument.\n",
    "    sampler = POVMSampler(runtime_sampler)\n",
    "    # Submit the job by specifying which POVM to use, which circuit(s) to measure and the shot budget.\n",
    "    cs_job = sampler.run(pubs, shots=cs_shots)"
   ]
  },
  {
   "cell_type": "markdown",
   "metadata": {},
   "source": [
    "## Results\n",
    "We retrieve the result object, which contains the POVM used and from which we can query the counts of each outcome."
   ]
  },
  {
   "cell_type": "code",
   "execution_count": 9,
   "metadata": {},
   "outputs": [
    {
     "name": "stdout",
     "output_type": "stream",
     "text": [
      "POVM: <povms.library.pm_sim_implementation.ClassicalShadows object at 0x144b715d0>\n",
      "Counts: Counter({(0, 4, 0): 231, (0, 1, 0): 132, (3, 4, 0): 119, (0, 4, 4): 118, (0, 4, 3): 116, (0, 4, 5): 114, (0, 3, 0): 109, (0, 4, 2): 106, (0, 2, 0): 105, (4, 4, 0): 99, (2, 4, 0): 97, (5, 4, 0): 94, (0, 0, 0): 87, (5, 4, 2): 71, (4, 0, 0): 68, (3, 4, 3): 65, (0, 3, 2): 63, (5, 0, 0): 63, (4, 4, 5): 62, (5, 2, 0): 61, (4, 1, 0): 60, (5, 1, 0): 60, (5, 4, 4): 59, (0, 1, 3): 59, (5, 4, 3): 59, (0, 3, 4): 59, (0, 0, 4): 58, (0, 0, 2): 58, (0, 1, 2): 57, (0, 1, 4): 57, (0, 2, 3): 57, (3, 4, 2): 57, (0, 0, 5): 56, (4, 4, 3): 56, (4, 3, 0): 54, (0, 3, 5): 53, (2, 0, 0): 53, (2, 3, 0): 53, (3, 4, 5): 53, (2, 4, 4): 53, (3, 4, 4): 53, (3, 2, 0): 52, (3, 1, 0): 52, (0, 2, 5): 52, (3, 3, 0): 50, (0, 0, 3): 50, (2, 1, 0): 50, (2, 4, 5): 49, (0, 1, 5): 49, (4, 2, 0): 49, (0, 2, 2): 48, (4, 4, 4): 48, (2, 4, 2): 48, (2, 4, 3): 48, (5, 4, 5): 46, (3, 0, 0): 46, (5, 3, 0): 45, (2, 2, 0): 44, (4, 4, 2): 43, (2, 1, 2): 43, (0, 2, 4): 43, (4, 0, 3): 38, (3, 0, 3): 37, (5, 2, 2): 35, (0, 3, 3): 35, (3, 0, 5): 34, (4, 1, 5): 34, (5, 2, 4): 34, (5, 0, 2): 34, (4, 1, 2): 33, (4, 2, 4): 33, (2, 0, 4): 33, (4, 2, 2): 32, (3, 2, 4): 32, (4, 0, 4): 31, (2, 3, 5): 31, (5, 0, 3): 31, (3, 3, 4): 31, (4, 3, 5): 31, (2, 3, 2): 30, (5, 3, 2): 30, (2, 0, 5): 30, (5, 1, 3): 30, (3, 3, 3): 29, (2, 0, 3): 29, (5, 1, 4): 29, (2, 0, 2): 29, (2, 1, 5): 28, (4, 2, 5): 28, (3, 1, 2): 27, (2, 2, 3): 27, (3, 0, 2): 27, (3, 1, 5): 27, (5, 1, 2): 26, (5, 0, 5): 26, (2, 3, 4): 25, (3, 1, 3): 25, (2, 1, 4): 25, (5, 3, 5): 25, (5, 2, 3): 25, (5, 0, 4): 25, (4, 3, 3): 24, (3, 0, 4): 24, (2, 2, 2): 24, (3, 1, 4): 24, (3, 2, 2): 24, (4, 3, 4): 24, (5, 1, 5): 24, (2, 2, 5): 23, (3, 3, 5): 23, (2, 2, 4): 23, (5, 2, 5): 23, (4, 0, 2): 22, (3, 2, 5): 21, (3, 2, 3): 21, (4, 1, 4): 20, (2, 3, 3): 20, (4, 3, 2): 20, (5, 3, 3): 20, (2, 1, 3): 19, (4, 1, 3): 19, (5, 3, 4): 18, (4, 2, 3): 18, (4, 0, 5): 16, (3, 3, 2): 15})\n"
     ]
    }
   ],
   "source": [
    "cs_result = cs_job.result()\n",
    "print(f\"POVM: {cs_result[0].povm}\")\n",
    "print(f\"Counts: {cs_result[1].get_counts()}\")"
   ]
  },
  {
   "cell_type": "markdown",
   "metadata": {},
   "source": [
    "We now define our POVM post-processor, which will use the resukt object to estimate expectation values of some observables."
   ]
  },
  {
   "cell_type": "code",
   "execution_count": 10,
   "metadata": {},
   "outputs": [
    {
     "name": "stdout",
     "output_type": "stream",
     "text": [
      "Exact        CS\n",
      "             (4096 shots)\n",
      "-3.204e-02     -5.146e-02      60.6%\n",
      " 1.209e+00      1.104e+00       8.7%\n",
      "-2.340e-01     -1.979e-01      15.4%\n",
      "-7.448e-03     -9.770e-04      86.9%\n",
      "-9.002e-01     -8.719e-01       3.1%\n",
      " 7.029e-01      6.423e-01       8.6%\n",
      " 2.484e-01      1.964e-01      21.0%\n",
      "-6.496e-01     -5.846e-01      10.0%\n",
      " 2.146e-01      1.863e-01      13.2%\n",
      " 1.567e-01      4.046e-01     158.2%\n",
      "Exact        CS\n",
      "             (5829 shots)\n",
      "-8.858e-01     -8.029e-01       9.4%\n",
      " 1.306e+00      1.505e+00      15.2%\n",
      "-5.916e-01     -2.450e-01      58.6%\n",
      " 1.489e+00      1.467e+00       1.5%\n",
      " 7.256e-01      8.764e-01      20.8%\n",
      " 5.334e-01      5.924e-01      11.1%\n",
      "-1.170e+00     -1.154e+00       1.4%\n",
      "-1.970e+00     -2.106e+00       6.9%\n",
      "-2.403e-01      7.572e-03     103.2%\n",
      "-1.927e-01     -8.127e-02      57.8%\n",
      "Exact        CS\n",
      "             (7400 shots)\n",
      " 4.920e-01      3.872e-01      21.3%\n",
      " 9.908e-01      9.651e-01       2.6%\n",
      " 3.389e-01      4.227e-01      24.7%\n",
      " 8.957e-01      1.038e+00      15.9%\n",
      "-9.725e-01     -1.120e+00      15.2%\n",
      "-4.903e-01     -5.594e-01      14.1%\n",
      " 1.184e+00      1.128e+00       4.7%\n",
      " 9.713e-02      8.247e-02      15.1%\n",
      " 1.663e+00      1.654e+00       0.5%\n",
      " 9.995e-01      8.647e-01      13.5%\n",
      "Exact        CS\n",
      "             (6648 shots)\n",
      "-1.080e+00     -1.184e+00       9.6%\n",
      " 2.202e-01     -4.934e-02     122.4%\n",
      " 1.343e+00      1.240e+00       7.7%\n",
      "-5.106e-01     -5.302e-01       3.8%\n",
      " 7.096e-01      6.373e-01      10.2%\n",
      " 1.285e+00      1.253e+00       2.4%\n",
      "-1.133e+00     -1.217e+00       7.4%\n",
      "-1.094e+00     -1.207e+00      10.3%\n",
      " 3.949e-01      3.292e-01      16.6%\n",
      " 4.265e-01      4.610e-01       8.1%\n",
      "Exact        CS\n",
      "             (1239 shots)\n",
      "-3.347e-01     -3.797e-01      13.4%\n",
      " 1.471e-01      4.446e-02      69.8%\n",
      " 1.045e+00      1.104e+00       5.7%\n",
      "-1.785e+00     -1.826e+00       2.3%\n",
      " 3.540e-01      1.770e-01      50.0%\n",
      " 1.517e+00      2.046e+00      34.8%\n",
      " 2.518e-01      2.346e-01       6.8%\n",
      " 2.494e-01      2.168e-01      13.1%\n",
      " 1.120e+00      1.267e+00      13.2%\n",
      " 7.455e-01      8.705e-01      16.8%\n"
     ]
    }
   ],
   "source": [
    "for i_state in range(len(cs_result)):\n",
    "    cs_postprocessor = POVMPostprocessor(cs_result[i_state])\n",
    "    cs_est_exp_val = [cs_postprocessor.get_expectation_value(obs) for obs in set_observables]\n",
    "    cs_shots = sum(cs_postprocessor.counts.values())\n",
    "\n",
    "    n = int(np.ceil(np.log10(cs_shots)))\n",
    "    print('Exact        CS')\n",
    "    print(f'             ({cs_shots} shots)')\n",
    "    for i in range(len(set_observables)):\n",
    "        print(f'{np.real(exp_val[i_state,i]):>10.3e}   {cs_est_exp_val[i]:>{8+n}.3e}   {abs(cs_est_exp_val[i]-np.real(exp_val[i_state,i]))/abs(np.real(exp_val[i_state,i])):>{12-n}.1%}')"
   ]
  },
  {
   "cell_type": "markdown",
   "metadata": {},
   "source": [
    "# PM-simulable POVM\n",
    "We now look at POVM that are simulable (through randomization) with only single-qubit projective measurements (PMs)."
   ]
  },
  {
   "cell_type": "code",
   "execution_count": 11,
   "metadata": {},
   "outputs": [],
   "source": [
    "pubs_pm = []\n",
    "for pub in pubs:\n",
    "    pubs_pm.append((pub[0], None, pub[2], None))\n",
    "\n",
    "# Define our projective measurements acting on each qubit.\n",
    "angles = np.array([[0.0, 0.0, 0.5 * np.pi, 0.0, 0.5 * np.pi, 0.5 * np.pi],[1.2,0.0, 0.1,3.14,0.7,0.3], [0.2,0.1, 1.2,3.14,-0.7,0.3]])\n",
    "# Set the distributions of the shots among the PMs.\n",
    "bias = np.array([[0.34, 0.33, 0.33], [0.7,0.15,0.15], [0.34,0.33,0.33]])\n",
    "\n",
    "# Define the PM-simulable POVM.\n",
    "pmsim_implementation = RandomizedPMs(n_qubit=n_qubit, bias=bias, angles=angles)"
   ]
  },
  {
   "cell_type": "code",
   "execution_count": 12,
   "metadata": {},
   "outputs": [],
   "source": [
    "pmsim_shots = 4096\n",
    "\n",
    "with Session(backend=backend) as session:\n",
    "    # First define a standard sampler (that will be used under the hood).\n",
    "    runtime_sampler = Sampler(session=session)\n",
    "    # Then define the POVM sampler, which takes BaseSampler as an argument.\n",
    "    sampler = POVMSampler(runtime_sampler)\n",
    "    # Submit the job by specifying which POVM to use, which circuit(s) to measure and the shot budget.\n",
    "    pmsim_job = sampler.run(pubs_pm, povm=pmsim_implementation, shots=pmsim_shots)"
   ]
  },
  {
   "cell_type": "markdown",
   "metadata": {},
   "source": [
    "## Results\n",
    "\n",
    "Retrieve the result of the sampling and use it to estiamte some expectation values via the post-processor"
   ]
  },
  {
   "cell_type": "code",
   "execution_count": 13,
   "metadata": {},
   "outputs": [
    {
     "name": "stdout",
     "output_type": "stream",
     "text": [
      "Exact        PM-sim\n",
      "             (4096 shots)\n",
      "-3.204e-02     -2.755e-01     759.8%\n",
      " 1.209e+00      9.453e-01      21.8%\n",
      "-2.340e-01      2.018e+00     962.3%\n",
      "-7.448e-03      1.208e+00   16317.2%\n",
      "-9.002e-01      1.726e+00     291.8%\n",
      " 7.029e-01      8.846e-02      87.4%\n",
      " 2.484e-01     -1.322e+00     632.1%\n",
      "-6.496e-01     -1.107e+00      70.3%\n",
      " 2.146e-01      2.358e+00     999.0%\n",
      " 1.567e-01     -3.376e+00    2254.6%\n",
      "Exact        PM-sim\n",
      "             (5829 shots)\n",
      "-8.858e-01      2.536e+00     386.2%\n",
      " 1.306e+00      3.919e+00     199.9%\n",
      "-5.916e-01     -5.347e+00     803.8%\n",
      " 1.489e+00      5.613e-01      62.3%\n",
      " 7.256e-01     -2.214e+00     405.1%\n",
      " 5.334e-01     -1.136e+00     312.9%\n",
      "-1.170e+00      2.150e-01     118.4%\n",
      "-1.970e+00     -1.388e-01      93.0%\n",
      "-2.403e-01     -1.094e+00     355.2%\n",
      "-1.927e-01     -7.384e-01     283.2%\n",
      "Exact        PM-sim\n",
      "             (7400 shots)\n",
      " 4.920e-01      2.450e+00     397.9%\n",
      " 9.908e-01      2.855e+00     188.2%\n",
      " 3.389e-01     -4.577e-01     235.1%\n",
      " 8.957e-01      7.482e-01      16.5%\n",
      "-9.725e-01     -4.182e+00     330.0%\n",
      "-4.903e-01     -9.426e-01      92.3%\n",
      " 1.184e+00      1.565e+00      32.2%\n",
      " 9.713e-02     -3.445e-01     454.7%\n",
      " 1.663e+00      1.616e+00       2.8%\n",
      " 9.995e-01      5.174e-01      48.2%\n",
      "Exact        PM-sim\n",
      "             (6648 shots)\n",
      "-1.080e+00     -3.985e+00     268.9%\n",
      " 2.202e-01     -2.569e+00    1266.8%\n",
      " 1.343e+00      1.902e+00      41.6%\n",
      "-5.106e-01      2.916e+00     671.0%\n",
      " 7.096e-01      4.486e+00     532.1%\n",
      " 1.285e+00      9.300e-01      27.6%\n",
      "-1.133e+00     -2.250e+00      98.6%\n",
      "-1.094e+00      2.678e-01     124.5%\n",
      " 3.949e-01      4.915e-01      24.5%\n",
      " 4.265e-01      1.205e-01      71.7%\n",
      "Exact        PM-sim\n",
      "             (1239 shots)\n",
      "-3.347e-01     -1.239e+00     270.1%\n",
      " 1.471e-01      1.399e+00     850.8%\n",
      " 1.045e+00      5.230e+00     400.6%\n",
      "-1.785e+00     -4.269e+00     139.2%\n",
      " 3.540e-01      4.812e-01      36.0%\n",
      " 1.517e+00      6.118e+00     303.3%\n",
      " 2.518e-01     -2.338e+00    1028.7%\n",
      " 2.494e-01     -5.697e+00    2384.0%\n",
      " 1.120e+00      3.636e-01      67.5%\n",
      " 7.455e-01      5.359e+00     618.9%\n"
     ]
    }
   ],
   "source": [
    "pmsim_result = pmsim_job.result()\n",
    "\n",
    "for i_state in range(len(pmsim_result)):\n",
    "    pmsim_postprocessor = POVMPostprocessor(pmsim_result[i_state])\n",
    "    pmsim_est_exp_val = [pmsim_postprocessor.get_expectation_value(obs) for obs in set_observables]\n",
    "    pmsim_shots = sum(pmsim_postprocessor.counts.values())\n",
    "\n",
    "    n = int(np.ceil(np.log10(pmsim_shots)))\n",
    "    print('Exact        PM-sim')\n",
    "    print(f'             ({pmsim_shots} shots)')\n",
    "    for i in range(len(set_observables)):\n",
    "        print(f'{np.real(exp_val[i_state,i]):>10.3e}   {pmsim_est_exp_val[i]:>{8+n}.3e}   {abs(pmsim_est_exp_val[i]-np.real(exp_val[i_state,i]))/abs(np.real(exp_val[i_state,i])):>{12-n}.1%}')"
   ]
  }
 ],
 "metadata": {
  "kernelspec": {
   "display_name": ".venv",
   "language": "python",
   "name": "python3"
  },
  "language_info": {
   "codemirror_mode": {
    "name": "ipython",
    "version": 3
   },
   "file_extension": ".py",
   "mimetype": "text/x-python",
   "name": "python",
   "nbconvert_exporter": "python",
   "pygments_lexer": "ipython3",
   "version": "3.10.13"
  }
 },
 "nbformat": 4,
 "nbformat_minor": 2
}
