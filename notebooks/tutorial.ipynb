{
 "cells": [
  {
   "cell_type": "code",
   "execution_count": 1,
   "metadata": {},
   "outputs": [],
   "source": [
    "%load_ext autoreload\n",
    "%autoreload 2"
   ]
  },
  {
   "cell_type": "code",
   "execution_count": 2,
   "metadata": {},
   "outputs": [],
   "source": [
    "import numpy as np\n",
    "from povms.library.pm_sim_implementation import ClassicalShadows, RandomizedPMs\n",
    "from povms.post_processor.povm_post_processor import POVMPostprocessor\n",
    "from povms.sampler.povm_sampler import POVMSampler\n",
    "from qiskit.circuit.random import random_circuit\n",
    "from qiskit.quantum_info import (\n",
    "    Operator,\n",
    "    SparsePauliOp,\n",
    "    Statevector,\n",
    "    random_hermitian,\n",
    ")\n",
    "from qiskit_aer import AerSimulator\n",
    "from qiskit_ibm_runtime import SamplerV2 as Sampler\n",
    "from qiskit_ibm_runtime import Session"
   ]
  },
  {
   "cell_type": "markdown",
   "metadata": {},
   "source": [
    "# Random Circuit\n",
    "\n",
    "We first llok at a random the 2-qubit circuit, with depth 3."
   ]
  },
  {
   "cell_type": "code",
   "execution_count": 3,
   "metadata": {},
   "outputs": [
    {
     "data": {
      "text/html": [
       "<pre style=\"word-wrap: normal;white-space: pre;background: #fff0;line-height: 1.1;font-family: &quot;Courier New&quot;,Courier,monospace\">          ┌──────┐┌──────┐                                                \n",
       "q_0: ─────┤1     ├┤0     ├──────────────────────────────■─────────────────\n",
       "     ┌───┐│      ││      │    ┌───┐    ┌────────────────┴────────────────┐\n",
       "q_1: ┤ H ├┤  Dcx ├┤  Ecr ├────┤ S ├────┤ U(3.4168,2.3054,0.68636,1.6934) ├\n",
       "     └───┘│      ││      │┌───┴───┴───┐└─────────────────────────────────┘\n",
       "q_2: ─────┤0     ├┤1     ├┤ P(5.0287) ├───────────────────────────────────\n",
       "          └──────┘└──────┘└───────────┘                                   </pre>"
      ],
      "text/plain": [
       "          ┌──────┐┌──────┐                                                \n",
       "q_0: ─────┤1     ├┤0     ├──────────────────────────────■─────────────────\n",
       "     ┌───┐│      ││      │    ┌───┐    ┌────────────────┴────────────────┐\n",
       "q_1: ┤ H ├┤  Dcx ├┤  Ecr ├────┤ S ├────┤ U(3.4168,2.3054,0.68636,1.6934) ├\n",
       "     └───┘│      ││      │┌───┴───┴───┐└─────────────────────────────────┘\n",
       "q_2: ─────┤0     ├┤1     ├┤ P(5.0287) ├───────────────────────────────────\n",
       "          └──────┘└──────┘└───────────┘                                   "
      ]
     },
     "execution_count": 3,
     "metadata": {},
     "output_type": "execute_result"
    }
   ],
   "source": [
    "n_qubit = 3\n",
    "n_cicuits = 5\n",
    "np.random.seed(10)\n",
    "seeds= np.random.randint(0,10000000,size=n_cicuits)\n",
    "qc_random = [random_circuit(num_qubits=n_qubit, depth = 3, measure=False, seed=seed) for seed in seeds]\n",
    "qc_random[0].draw()"
   ]
  },
  {
   "cell_type": "markdown",
   "metadata": {},
   "source": [
    "We also draw some random observables "
   ]
  },
  {
   "cell_type": "code",
   "execution_count": 4,
   "metadata": {},
   "outputs": [],
   "source": [
    "set_observables = [SparsePauliOp.from_operator(random_hermitian(2**n_qubit)) for _ in range(10)]"
   ]
  },
  {
   "cell_type": "markdown",
   "metadata": {},
   "source": [
    "For reference, we compute the true final state and the exact expectation values for the different observables."
   ]
  },
  {
   "cell_type": "code",
   "execution_count": 5,
   "metadata": {},
   "outputs": [],
   "source": [
    "exp_val = np.zeros((len(qc_random), len(set_observables)), dtype=complex)\n",
    "for i, qc in enumerate(qc_random):\n",
    "    exact_state = Statevector(np.array(Operator(qc).data[:,0]).squeeze())\n",
    "    exp_val[i] = np.array([exact_state.expectation_value(obs) for obs in set_observables])\n",
    "exp_val = np.real_if_close(exp_val)"
   ]
  },
  {
   "cell_type": "markdown",
   "metadata": {},
   "source": [
    "# Classical Shadows\n",
    "\n",
    "We now look at the implementation of Classical Shaodws measurement"
   ]
  },
  {
   "cell_type": "code",
   "execution_count": 6,
   "metadata": {},
   "outputs": [],
   "source": [
    "# By default, the Classical Shadows (CS) measurement uses X,Y,Z measurements with equal probability.\n",
    "cs_implementation = ClassicalShadows(n_qubit=n_qubit)\n",
    "# Define the default shot budget.\n",
    "cs_shots = 4096"
   ]
  },
  {
   "cell_type": "code",
   "execution_count": 7,
   "metadata": {},
   "outputs": [
    {
     "name": "stdout",
     "output_type": "stream",
     "text": [
      "[(<qiskit.circuit.quantumcircuit.QuantumCircuit object at 0x1757a58a0>, None, None, <povms.library.pm_sim_implementation.ClassicalShadows object at 0x1757a7fa0>), (<qiskit.circuit.quantumcircuit.QuantumCircuit object at 0x1757a6fb0>, None, 399741, <povms.library.pm_sim_implementation.ClassicalShadows object at 0x1757a7fa0>), (<qiskit.circuit.quantumcircuit.QuantumCircuit object at 0x1757a7dc0>, None, 208445, <povms.library.pm_sim_implementation.ClassicalShadows object at 0x1757a7fa0>), (<qiskit.circuit.quantumcircuit.QuantumCircuit object at 0x1757a5db0>, None, None, <povms.library.pm_sim_implementation.ClassicalShadows object at 0x1757a7fa0>), (<qiskit.circuit.quantumcircuit.QuantumCircuit object at 0x1757a7bb0>, None, 240296, <povms.library.pm_sim_implementation.ClassicalShadows object at 0x1757a7fa0>)]\n"
     ]
    }
   ],
   "source": [
    "pubs = []\n",
    "for qcr in qc_random:\n",
    "    pubs.append((qcr, None, np.random.randint(100000,1000000) if np.random.randint(2)==0 else None, cs_implementation))\n",
    "print(pubs)"
   ]
  },
  {
   "cell_type": "code",
   "execution_count": 8,
   "metadata": {},
   "outputs": [
    {
     "name": "stderr",
     "output_type": "stream",
     "text": [
      "/Users/dao/Documents/Internship/ic-povms/.venv/lib/python3.10/site-packages/qiskit_ibm_runtime/session.py:156: UserWarning: Session is not supported in local testing mode or when using a simulator.\n",
      "  warnings.warn(\n"
     ]
    }
   ],
   "source": [
    "# Run the sampler job locally using AerSimulator.\n",
    "# Session syntax is supported but ignored because local mode doesn't support sessions.\n",
    "backend = AerSimulator()\n",
    "with Session(backend=backend) as session:\n",
    "    # First define a standard sampler (that will be used under the hood).\n",
    "    runtime_sampler = Sampler(session=session)\n",
    "    # Then define the POVM sampler, which takes BaseSampler as an argument.\n",
    "    sampler = POVMSampler(runtime_sampler)\n",
    "    # Submit the job by specifying which POVM to use, which circuit(s) to measure and the shot budget.\n",
    "    cs_job = sampler.run(pubs, shots=cs_shots)"
   ]
  },
  {
   "cell_type": "markdown",
   "metadata": {},
   "source": [
    "## Results\n",
    "We retrieve the result object, which contains the POVM used and from which we can query the counts of each outcome."
   ]
  },
  {
   "cell_type": "code",
   "execution_count": 9,
   "metadata": {},
   "outputs": [
    {
     "name": "stdout",
     "output_type": "stream",
     "text": [
      "5 [27, 27, 27, 27, 27]\n",
      "5 [[(0, 2, 2), (0, 2, 0), (2, 1, 2), (2, 1, 1), (1, 1, 0), (2, 2, 1), (0, 0, 2), (2, 1, 0), (1, 0, 2), (0, 1, 2), (1, 0, 1), (2, 0, 1), (1, 1, 2), (0, 2, 1), (1, 0, 0), (1, 2, 2), (2, 2, 0), (1, 1, 1), (2, 0, 2), (0, 1, 0), (1, 2, 1), (0, 0, 1), (0, 0, 0), (0, 1, 1), (1, 2, 0), (2, 2, 2), (2, 0, 0)], [(1, 0, 2), (2, 0, 2), (0, 1, 1), (2, 1, 2), (2, 2, 2), (1, 1, 2), (0, 2, 0), (2, 0, 0), (1, 0, 0), (1, 2, 1), (0, 2, 1), (0, 1, 0), (1, 0, 1), (0, 2, 2), (1, 1, 0), (0, 0, 2), (1, 2, 2), (2, 1, 0), (2, 1, 1), (0, 0, 0), (1, 2, 0), (2, 2, 1), (1, 1, 1), (0, 0, 1), (0, 1, 2), (2, 0, 1), (2, 2, 0)], [(2, 0, 1), (1, 0, 1), (0, 1, 1), (1, 1, 2), (1, 2, 2), (2, 0, 2), (0, 0, 2), (0, 1, 2), (1, 0, 0), (1, 1, 1), (1, 2, 1), (2, 2, 2), (0, 2, 2), (0, 2, 1), (0, 1, 0), (1, 2, 0), (2, 2, 0), (1, 0, 2), (1, 1, 0), (2, 2, 1), (0, 2, 0), (2, 1, 1), (2, 1, 0), (0, 0, 1), (2, 0, 0), (2, 1, 2), (0, 0, 0)], [(2, 1, 0), (2, 1, 1), (2, 2, 2), (1, 0, 0), (1, 2, 1), (2, 2, 1), (0, 0, 2), (2, 1, 2), (1, 2, 0), (2, 0, 1), (0, 2, 2), (1, 1, 1), (1, 0, 2), (0, 1, 2), (0, 2, 0), (0, 2, 1), (2, 0, 0), (0, 0, 1), (1, 1, 2), (1, 1, 0), (0, 1, 1), (1, 2, 2), (2, 2, 0), (2, 0, 2), (0, 0, 0), (0, 1, 0), (1, 0, 1)], [(2, 1, 0), (0, 0, 2), (1, 1, 2), (0, 1, 1), (2, 2, 0), (1, 0, 2), (1, 2, 1), (0, 1, 0), (2, 0, 0), (2, 2, 1), (1, 1, 0), (2, 0, 2), (0, 2, 2), (0, 2, 0), (1, 2, 0), (2, 1, 2), (0, 0, 1), (1, 2, 2), (0, 2, 1), (1, 1, 1), (1, 0, 0), (2, 0, 1), (2, 2, 2), (2, 1, 1), (0, 0, 0), (1, 0, 1), (0, 1, 2)]]\n",
      "135\n",
      "27 [PubResult(data=DataBin<>(povm_meas=BitArray(<shape=(), num_shots=144, num_bits=3>))), PubResult(data=DataBin<>(povm_meas=BitArray(<shape=(), num_shots=140, num_bits=3>))), PubResult(data=DataBin<>(povm_meas=BitArray(<shape=(), num_shots=135, num_bits=3>))), PubResult(data=DataBin<>(povm_meas=BitArray(<shape=(), num_shots=141, num_bits=3>))), PubResult(data=DataBin<>(povm_meas=BitArray(<shape=(), num_shots=162, num_bits=3>))), PubResult(data=DataBin<>(povm_meas=BitArray(<shape=(), num_shots=148, num_bits=3>))), PubResult(data=DataBin<>(povm_meas=BitArray(<shape=(), num_shots=147, num_bits=3>))), PubResult(data=DataBin<>(povm_meas=BitArray(<shape=(), num_shots=149, num_bits=3>))), PubResult(data=DataBin<>(povm_meas=BitArray(<shape=(), num_shots=143, num_bits=3>))), PubResult(data=DataBin<>(povm_meas=BitArray(<shape=(), num_shots=134, num_bits=3>))), PubResult(data=DataBin<>(povm_meas=BitArray(<shape=(), num_shots=147, num_bits=3>))), PubResult(data=DataBin<>(povm_meas=BitArray(<shape=(), num_shots=156, num_bits=3>))), PubResult(data=DataBin<>(povm_meas=BitArray(<shape=(), num_shots=160, num_bits=3>))), PubResult(data=DataBin<>(povm_meas=BitArray(<shape=(), num_shots=150, num_bits=3>))), PubResult(data=DataBin<>(povm_meas=BitArray(<shape=(), num_shots=138, num_bits=3>))), PubResult(data=DataBin<>(povm_meas=BitArray(<shape=(), num_shots=179, num_bits=3>))), PubResult(data=DataBin<>(povm_meas=BitArray(<shape=(), num_shots=155, num_bits=3>))), PubResult(data=DataBin<>(povm_meas=BitArray(<shape=(), num_shots=145, num_bits=3>))), PubResult(data=DataBin<>(povm_meas=BitArray(<shape=(), num_shots=149, num_bits=3>))), PubResult(data=DataBin<>(povm_meas=BitArray(<shape=(), num_shots=167, num_bits=3>))), PubResult(data=DataBin<>(povm_meas=BitArray(<shape=(), num_shots=149, num_bits=3>))), PubResult(data=DataBin<>(povm_meas=BitArray(<shape=(), num_shots=165, num_bits=3>))), PubResult(data=DataBin<>(povm_meas=BitArray(<shape=(), num_shots=153, num_bits=3>))), PubResult(data=DataBin<>(povm_meas=BitArray(<shape=(), num_shots=160, num_bits=3>))), PubResult(data=DataBin<>(povm_meas=BitArray(<shape=(), num_shots=169, num_bits=3>))), PubResult(data=DataBin<>(povm_meas=BitArray(<shape=(), num_shots=165, num_bits=3>))), PubResult(data=DataBin<>(povm_meas=BitArray(<shape=(), num_shots=146, num_bits=3>)))]\n",
      "[(0, 2, 2), (0, 2, 0), (2, 1, 2), (2, 1, 1), (1, 1, 0), (2, 2, 1), (0, 0, 2), (2, 1, 0), (1, 0, 2), (0, 1, 2), (1, 0, 1), (2, 0, 1), (1, 1, 2), (0, 2, 1), (1, 0, 0), (1, 2, 2), (2, 2, 0), (1, 1, 1), (2, 0, 2), (0, 1, 0), (1, 2, 1), (0, 0, 1), (0, 0, 0), (0, 1, 1), (1, 2, 0), (2, 2, 2), (2, 0, 0)]\n",
      "27 [PubResult(data=DataBin<>(povm_meas=BitArray(<shape=(), num_shots=14896, num_bits=3>))), PubResult(data=DataBin<>(povm_meas=BitArray(<shape=(), num_shots=14627, num_bits=3>))), PubResult(data=DataBin<>(povm_meas=BitArray(<shape=(), num_shots=14886, num_bits=3>))), PubResult(data=DataBin<>(povm_meas=BitArray(<shape=(), num_shots=14789, num_bits=3>))), PubResult(data=DataBin<>(povm_meas=BitArray(<shape=(), num_shots=15096, num_bits=3>))), PubResult(data=DataBin<>(povm_meas=BitArray(<shape=(), num_shots=14920, num_bits=3>))), PubResult(data=DataBin<>(povm_meas=BitArray(<shape=(), num_shots=14834, num_bits=3>))), PubResult(data=DataBin<>(povm_meas=BitArray(<shape=(), num_shots=14664, num_bits=3>))), PubResult(data=DataBin<>(povm_meas=BitArray(<shape=(), num_shots=14806, num_bits=3>))), PubResult(data=DataBin<>(povm_meas=BitArray(<shape=(), num_shots=14814, num_bits=3>))), PubResult(data=DataBin<>(povm_meas=BitArray(<shape=(), num_shots=14802, num_bits=3>))), PubResult(data=DataBin<>(povm_meas=BitArray(<shape=(), num_shots=14800, num_bits=3>))), PubResult(data=DataBin<>(povm_meas=BitArray(<shape=(), num_shots=14885, num_bits=3>))), PubResult(data=DataBin<>(povm_meas=BitArray(<shape=(), num_shots=15029, num_bits=3>))), PubResult(data=DataBin<>(povm_meas=BitArray(<shape=(), num_shots=14820, num_bits=3>))), PubResult(data=DataBin<>(povm_meas=BitArray(<shape=(), num_shots=14667, num_bits=3>))), PubResult(data=DataBin<>(povm_meas=BitArray(<shape=(), num_shots=14630, num_bits=3>))), PubResult(data=DataBin<>(povm_meas=BitArray(<shape=(), num_shots=14881, num_bits=3>))), PubResult(data=DataBin<>(povm_meas=BitArray(<shape=(), num_shots=14665, num_bits=3>))), PubResult(data=DataBin<>(povm_meas=BitArray(<shape=(), num_shots=15022, num_bits=3>))), PubResult(data=DataBin<>(povm_meas=BitArray(<shape=(), num_shots=14537, num_bits=3>))), PubResult(data=DataBin<>(povm_meas=BitArray(<shape=(), num_shots=14828, num_bits=3>))), PubResult(data=DataBin<>(povm_meas=BitArray(<shape=(), num_shots=14866, num_bits=3>))), PubResult(data=DataBin<>(povm_meas=BitArray(<shape=(), num_shots=14817, num_bits=3>))), PubResult(data=DataBin<>(povm_meas=BitArray(<shape=(), num_shots=14768, num_bits=3>))), PubResult(data=DataBin<>(povm_meas=BitArray(<shape=(), num_shots=14622, num_bits=3>))), PubResult(data=DataBin<>(povm_meas=BitArray(<shape=(), num_shots=14770, num_bits=3>)))]\n",
      "[(1, 0, 2), (2, 0, 2), (0, 1, 1), (2, 1, 2), (2, 2, 2), (1, 1, 2), (0, 2, 0), (2, 0, 0), (1, 0, 0), (1, 2, 1), (0, 2, 1), (0, 1, 0), (1, 0, 1), (0, 2, 2), (1, 1, 0), (0, 0, 2), (1, 2, 2), (2, 1, 0), (2, 1, 1), (0, 0, 0), (1, 2, 0), (2, 2, 1), (1, 1, 1), (0, 0, 1), (0, 1, 2), (2, 0, 1), (2, 2, 0)]\n",
      "27 [PubResult(data=DataBin<>(povm_meas=BitArray(<shape=(), num_shots=7806, num_bits=3>))), PubResult(data=DataBin<>(povm_meas=BitArray(<shape=(), num_shots=7667, num_bits=3>))), PubResult(data=DataBin<>(povm_meas=BitArray(<shape=(), num_shots=7682, num_bits=3>))), PubResult(data=DataBin<>(povm_meas=BitArray(<shape=(), num_shots=7578, num_bits=3>))), PubResult(data=DataBin<>(povm_meas=BitArray(<shape=(), num_shots=7725, num_bits=3>))), PubResult(data=DataBin<>(povm_meas=BitArray(<shape=(), num_shots=7623, num_bits=3>))), PubResult(data=DataBin<>(povm_meas=BitArray(<shape=(), num_shots=7772, num_bits=3>))), PubResult(data=DataBin<>(povm_meas=BitArray(<shape=(), num_shots=7604, num_bits=3>))), PubResult(data=DataBin<>(povm_meas=BitArray(<shape=(), num_shots=7616, num_bits=3>))), PubResult(data=DataBin<>(povm_meas=BitArray(<shape=(), num_shots=7645, num_bits=3>))), PubResult(data=DataBin<>(povm_meas=BitArray(<shape=(), num_shots=7890, num_bits=3>))), PubResult(data=DataBin<>(povm_meas=BitArray(<shape=(), num_shots=7864, num_bits=3>))), PubResult(data=DataBin<>(povm_meas=BitArray(<shape=(), num_shots=7717, num_bits=3>))), PubResult(data=DataBin<>(povm_meas=BitArray(<shape=(), num_shots=7863, num_bits=3>))), PubResult(data=DataBin<>(povm_meas=BitArray(<shape=(), num_shots=7637, num_bits=3>))), PubResult(data=DataBin<>(povm_meas=BitArray(<shape=(), num_shots=7702, num_bits=3>))), PubResult(data=DataBin<>(povm_meas=BitArray(<shape=(), num_shots=7716, num_bits=3>))), PubResult(data=DataBin<>(povm_meas=BitArray(<shape=(), num_shots=7814, num_bits=3>))), PubResult(data=DataBin<>(povm_meas=BitArray(<shape=(), num_shots=7695, num_bits=3>))), PubResult(data=DataBin<>(povm_meas=BitArray(<shape=(), num_shots=7861, num_bits=3>))), PubResult(data=DataBin<>(povm_meas=BitArray(<shape=(), num_shots=7742, num_bits=3>))), PubResult(data=DataBin<>(povm_meas=BitArray(<shape=(), num_shots=7693, num_bits=3>))), PubResult(data=DataBin<>(povm_meas=BitArray(<shape=(), num_shots=7573, num_bits=3>))), PubResult(data=DataBin<>(povm_meas=BitArray(<shape=(), num_shots=7719, num_bits=3>))), PubResult(data=DataBin<>(povm_meas=BitArray(<shape=(), num_shots=7834, num_bits=3>))), PubResult(data=DataBin<>(povm_meas=BitArray(<shape=(), num_shots=7712, num_bits=3>))), PubResult(data=DataBin<>(povm_meas=BitArray(<shape=(), num_shots=7695, num_bits=3>)))]\n",
      "[(2, 0, 1), (1, 0, 1), (0, 1, 1), (1, 1, 2), (1, 2, 2), (2, 0, 2), (0, 0, 2), (0, 1, 2), (1, 0, 0), (1, 1, 1), (1, 2, 1), (2, 2, 2), (0, 2, 2), (0, 2, 1), (0, 1, 0), (1, 2, 0), (2, 2, 0), (1, 0, 2), (1, 1, 0), (2, 2, 1), (0, 2, 0), (2, 1, 1), (2, 1, 0), (0, 0, 1), (2, 0, 0), (2, 1, 2), (0, 0, 0)]\n",
      "27 [PubResult(data=DataBin<>(povm_meas=BitArray(<shape=(), num_shots=161, num_bits=3>))), PubResult(data=DataBin<>(povm_meas=BitArray(<shape=(), num_shots=131, num_bits=3>))), PubResult(data=DataBin<>(povm_meas=BitArray(<shape=(), num_shots=158, num_bits=3>))), PubResult(data=DataBin<>(povm_meas=BitArray(<shape=(), num_shots=173, num_bits=3>))), PubResult(data=DataBin<>(povm_meas=BitArray(<shape=(), num_shots=161, num_bits=3>))), PubResult(data=DataBin<>(povm_meas=BitArray(<shape=(), num_shots=169, num_bits=3>))), PubResult(data=DataBin<>(povm_meas=BitArray(<shape=(), num_shots=137, num_bits=3>))), PubResult(data=DataBin<>(povm_meas=BitArray(<shape=(), num_shots=157, num_bits=3>))), PubResult(data=DataBin<>(povm_meas=BitArray(<shape=(), num_shots=158, num_bits=3>))), PubResult(data=DataBin<>(povm_meas=BitArray(<shape=(), num_shots=149, num_bits=3>))), PubResult(data=DataBin<>(povm_meas=BitArray(<shape=(), num_shots=142, num_bits=3>))), PubResult(data=DataBin<>(povm_meas=BitArray(<shape=(), num_shots=150, num_bits=3>))), PubResult(data=DataBin<>(povm_meas=BitArray(<shape=(), num_shots=126, num_bits=3>))), PubResult(data=DataBin<>(povm_meas=BitArray(<shape=(), num_shots=166, num_bits=3>))), PubResult(data=DataBin<>(povm_meas=BitArray(<shape=(), num_shots=149, num_bits=3>))), PubResult(data=DataBin<>(povm_meas=BitArray(<shape=(), num_shots=159, num_bits=3>))), PubResult(data=DataBin<>(povm_meas=BitArray(<shape=(), num_shots=162, num_bits=3>))), PubResult(data=DataBin<>(povm_meas=BitArray(<shape=(), num_shots=166, num_bits=3>))), PubResult(data=DataBin<>(povm_meas=BitArray(<shape=(), num_shots=131, num_bits=3>))), PubResult(data=DataBin<>(povm_meas=BitArray(<shape=(), num_shots=154, num_bits=3>))), PubResult(data=DataBin<>(povm_meas=BitArray(<shape=(), num_shots=154, num_bits=3>))), PubResult(data=DataBin<>(povm_meas=BitArray(<shape=(), num_shots=170, num_bits=3>))), PubResult(data=DataBin<>(povm_meas=BitArray(<shape=(), num_shots=134, num_bits=3>))), PubResult(data=DataBin<>(povm_meas=BitArray(<shape=(), num_shots=141, num_bits=3>))), PubResult(data=DataBin<>(povm_meas=BitArray(<shape=(), num_shots=158, num_bits=3>))), PubResult(data=DataBin<>(povm_meas=BitArray(<shape=(), num_shots=137, num_bits=3>))), PubResult(data=DataBin<>(povm_meas=BitArray(<shape=(), num_shots=143, num_bits=3>)))]\n",
      "[(2, 1, 0), (2, 1, 1), (2, 2, 2), (1, 0, 0), (1, 2, 1), (2, 2, 1), (0, 0, 2), (2, 1, 2), (1, 2, 0), (2, 0, 1), (0, 2, 2), (1, 1, 1), (1, 0, 2), (0, 1, 2), (0, 2, 0), (0, 2, 1), (2, 0, 0), (0, 0, 1), (1, 1, 2), (1, 1, 0), (0, 1, 1), (1, 2, 2), (2, 2, 0), (2, 0, 2), (0, 0, 0), (0, 1, 0), (1, 0, 1)]\n",
      "27 [PubResult(data=DataBin<>(povm_meas=BitArray(<shape=(), num_shots=8933, num_bits=3>))), PubResult(data=DataBin<>(povm_meas=BitArray(<shape=(), num_shots=8821, num_bits=3>))), PubResult(data=DataBin<>(povm_meas=BitArray(<shape=(), num_shots=9050, num_bits=3>))), PubResult(data=DataBin<>(povm_meas=BitArray(<shape=(), num_shots=8915, num_bits=3>))), PubResult(data=DataBin<>(povm_meas=BitArray(<shape=(), num_shots=9008, num_bits=3>))), PubResult(data=DataBin<>(povm_meas=BitArray(<shape=(), num_shots=8810, num_bits=3>))), PubResult(data=DataBin<>(povm_meas=BitArray(<shape=(), num_shots=8844, num_bits=3>))), PubResult(data=DataBin<>(povm_meas=BitArray(<shape=(), num_shots=8850, num_bits=3>))), PubResult(data=DataBin<>(povm_meas=BitArray(<shape=(), num_shots=8969, num_bits=3>))), PubResult(data=DataBin<>(povm_meas=BitArray(<shape=(), num_shots=8886, num_bits=3>))), PubResult(data=DataBin<>(povm_meas=BitArray(<shape=(), num_shots=8944, num_bits=3>))), PubResult(data=DataBin<>(povm_meas=BitArray(<shape=(), num_shots=8753, num_bits=3>))), PubResult(data=DataBin<>(povm_meas=BitArray(<shape=(), num_shots=8874, num_bits=3>))), PubResult(data=DataBin<>(povm_meas=BitArray(<shape=(), num_shots=8786, num_bits=3>))), PubResult(data=DataBin<>(povm_meas=BitArray(<shape=(), num_shots=8683, num_bits=3>))), PubResult(data=DataBin<>(povm_meas=BitArray(<shape=(), num_shots=8987, num_bits=3>))), PubResult(data=DataBin<>(povm_meas=BitArray(<shape=(), num_shots=8773, num_bits=3>))), PubResult(data=DataBin<>(povm_meas=BitArray(<shape=(), num_shots=8910, num_bits=3>))), PubResult(data=DataBin<>(povm_meas=BitArray(<shape=(), num_shots=9043, num_bits=3>))), PubResult(data=DataBin<>(povm_meas=BitArray(<shape=(), num_shots=8723, num_bits=3>))), PubResult(data=DataBin<>(povm_meas=BitArray(<shape=(), num_shots=8902, num_bits=3>))), PubResult(data=DataBin<>(povm_meas=BitArray(<shape=(), num_shots=8882, num_bits=3>))), PubResult(data=DataBin<>(povm_meas=BitArray(<shape=(), num_shots=8993, num_bits=3>))), PubResult(data=DataBin<>(povm_meas=BitArray(<shape=(), num_shots=8928, num_bits=3>))), PubResult(data=DataBin<>(povm_meas=BitArray(<shape=(), num_shots=8938, num_bits=3>))), PubResult(data=DataBin<>(povm_meas=BitArray(<shape=(), num_shots=9097, num_bits=3>))), PubResult(data=DataBin<>(povm_meas=BitArray(<shape=(), num_shots=8994, num_bits=3>)))]\n",
      "[(2, 1, 0), (0, 0, 2), (1, 1, 2), (0, 1, 1), (2, 2, 0), (1, 0, 2), (1, 2, 1), (0, 1, 0), (2, 0, 0), (2, 2, 1), (1, 1, 0), (2, 0, 2), (0, 2, 2), (0, 2, 0), (1, 2, 0), (2, 1, 2), (0, 0, 1), (1, 2, 2), (0, 2, 1), (1, 1, 1), (1, 0, 0), (2, 0, 1), (2, 2, 2), (2, 1, 1), (0, 0, 0), (1, 0, 1), (0, 1, 2)]\n"
     ]
    }
   ],
   "source": [
    "cs_result = cs_job.result()\n",
    "sum(cs_result[1].get_counts().values())\n",
    "\n",
    "print(len(cs_job.book_keeping), cs_job.book_keeping)\n",
    "print(len(cs_job.pvm_keys),cs_job.pvm_keys)\n",
    "raw_result = cs_job.base_job.result()\n",
    "print(len(raw_result))\n",
    "slice_start = 0\n",
    "for i, slice_length in enumerate(cs_job.book_keeping):\n",
    "    pub_result = raw_result[slice_start : slice_start + slice_length]\n",
    "    print(len(pub_result), pub_result)\n",
    "    slice_start += slice_length\n",
    "    print(cs_job.pvm_keys[i])"
   ]
  },
  {
   "cell_type": "code",
   "execution_count": 10,
   "metadata": {},
   "outputs": [
    {
     "name": "stdout",
     "output_type": "stream",
     "text": [
      "POVM: <povms.library.pm_sim_implementation.ClassicalShadows object at 0x1757a7fa0>\n",
      "Counts: {(3, 1, 4): 1845, (2, 1, 5): 1869, (3, 0, 5): 1766, (2, 1, 4): 1914, (2, 0, 4): 1925, (3, 0, 4): 1876, (3, 1, 5): 1846, (2, 0, 5): 1855, (5, 0, 5): 1861, (4, 1, 5): 1774, (4, 0, 4): 1808, (4, 1, 4): 1802, (5, 0, 4): 1850, (5, 1, 4): 1840, (4, 0, 5): 1843, (5, 1, 5): 1849, (0, 2, 3): 3791, (0, 3, 3): 3612, (0, 3, 2): 3759, (0, 2, 2): 3724, (4, 2, 5): 1856, (4, 3, 4): 1862, (5, 3, 4): 1829, (5, 2, 5): 1854, (5, 3, 5): 1813, (4, 3, 5): 1917, (5, 2, 4): 1815, (4, 2, 4): 1843, (4, 4, 5): 3769, (5, 4, 4): 3756, (4, 4, 4): 3824, (5, 4, 5): 3747, (3, 2, 4): 1804, (2, 2, 5): 1912, (2, 3, 5): 1874, (2, 3, 4): 1781, (3, 2, 5): 1825, (2, 2, 4): 1950, (3, 3, 5): 1861, (3, 3, 4): 1913, (0, 4, 0): 14834, (5, 1, 0): 3674, (4, 0, 0): 3703, (5, 0, 0): 3637, (4, 1, 0): 3650, (2, 1, 0): 3742, (3, 1, 0): 3660, (3, 0, 0): 3717, (2, 0, 0): 3687, (3, 4, 3): 3679, (2, 4, 3): 3662, (3, 4, 2): 3664, (2, 4, 2): 3809, (0, 4, 3): 7421, (0, 4, 2): 7381, (0, 2, 0): 7309, (0, 3, 0): 7491, (3, 1, 3): 1882, (2, 0, 3): 1885, (3, 0, 3): 1850, (3, 1, 2): 1860, (2, 1, 3): 1754, (2, 0, 2): 1866, (3, 0, 2): 1946, (2, 1, 2): 1842, (0, 4, 4): 7544, (0, 4, 5): 7485, (3, 3, 0): 3725, (2, 3, 0): 3701, (2, 2, 0): 3663, (3, 2, 0): 3731, (0, 0, 5): 3649, (0, 1, 5): 3662, (0, 1, 4): 3773, (0, 0, 4): 3583, (3, 4, 4): 3660, (2, 4, 5): 3647, (2, 4, 4): 3687, (3, 4, 5): 3636, (5, 3, 0): 3710, (4, 2, 0): 3744, (5, 2, 0): 3721, (4, 3, 0): 3706, (4, 3, 3): 1844, (4, 2, 2): 1862, (5, 3, 3): 1855, (5, 3, 2): 1778, (4, 2, 3): 1848, (5, 2, 3): 1834, (4, 3, 2): 1801, (5, 2, 2): 1843, (0, 0, 0): 7488, (0, 1, 0): 7534, (2, 4, 0): 7366, (3, 4, 0): 7171, (4, 4, 3): 3735, (4, 4, 2): 3693, (5, 4, 3): 3679, (5, 4, 2): 3721, (3, 2, 3): 1873, (2, 3, 2): 1926, (2, 2, 3): 1858, (3, 2, 2): 1797, (2, 2, 2): 1875, (3, 3, 2): 1824, (2, 3, 3): 1868, (3, 3, 3): 1845, (0, 1, 3): 3656, (0, 0, 2): 3698, (0, 0, 3): 3766, (0, 1, 2): 3697, (0, 2, 4): 3701, (0, 3, 4): 3688, (0, 3, 5): 3789, (0, 2, 5): 3590, (4, 0, 2): 1814, (5, 1, 2): 1868, (5, 0, 3): 1876, (5, 1, 3): 1838, (4, 1, 2): 1805, (5, 0, 2): 1829, (4, 0, 3): 1772, (4, 1, 3): 1820, (4, 4, 0): 7476, (5, 4, 0): 7294}\n"
     ]
    }
   ],
   "source": [
    "cs_result = cs_job.result()\n",
    "print(f\"POVM: {cs_result[0].povm}\")\n",
    "print(f\"Counts: {cs_result[1].get_counts()}\")"
   ]
  },
  {
   "cell_type": "markdown",
   "metadata": {},
   "source": [
    "We now define our POVM post-processor, which will use the resukt object to estimate expectation values of some observables."
   ]
  },
  {
   "cell_type": "code",
   "execution_count": 11,
   "metadata": {},
   "outputs": [
    {
     "name": "stdout",
     "output_type": "stream",
     "text": [
      "Exact        CS\n",
      "             (4096 shots)\n",
      "-8.507e-01     -1.122e+00      31.9%\n",
      "-1.020e-01     -7.602e-02      25.5%\n",
      "-3.536e-01     -4.683e-01      32.4%\n",
      " 8.492e-01      9.775e-01      15.1%\n",
      " 1.152e+00      1.220e+00       5.9%\n",
      "-1.868e-02      5.103e-02     373.2%\n",
      "-1.307e-01     -2.504e-01      91.6%\n",
      " 4.855e-01      3.965e-01      18.3%\n",
      " 8.988e-01      9.627e-01       7.1%\n",
      "-1.147e+00     -1.244e+00       8.4%\n",
      "Exact        CS\n",
      "             (399741 shots)\n",
      " 8.480e-01        8.268e-01     2.5%\n",
      "-2.542e+00       -2.568e+00     1.1%\n",
      " 7.712e-02        7.810e-02     1.3%\n",
      "-8.587e-01       -8.569e-01     0.2%\n",
      "-1.164e+00       -1.167e+00     0.2%\n",
      "-6.345e-01       -6.221e-01     2.0%\n",
      "-1.015e+00       -1.012e+00     0.4%\n",
      "-6.353e-01       -6.103e-01     3.9%\n",
      " 1.555e+00        1.561e+00     0.4%\n",
      "-1.332e+00       -1.338e+00     0.5%\n",
      "Exact        CS\n",
      "             (208445 shots)\n",
      "-6.979e-01       -6.709e-01     3.9%\n",
      "-5.791e-02       -7.672e-02    32.5%\n",
      " 1.120e+00        1.126e+00     0.5%\n",
      "-3.685e-01       -3.587e-01     2.7%\n",
      "-3.949e-01       -4.524e-01    14.6%\n",
      "-3.907e-01       -3.970e-01     1.6%\n",
      "-1.142e+00       -1.159e+00     1.4%\n",
      " 3.522e-01        3.571e-01     1.4%\n",
      " 2.261e+00        2.228e+00     1.5%\n",
      " 6.786e-01        6.815e-01     0.4%\n",
      "Exact        CS\n",
      "             (4096 shots)\n",
      "-1.968e-01      1.353e-02     106.9%\n",
      " 5.277e-01      4.432e-01      16.0%\n",
      " 1.028e-01      7.694e-02      25.2%\n",
      " 2.831e-03      1.222e-01    4216.7%\n",
      "-1.752e+00     -1.837e+00       4.8%\n",
      "-2.495e-01     -2.342e-01       6.1%\n",
      " 1.258e-01      1.677e-01      33.3%\n",
      "-1.430e-01     -1.362e-02      90.5%\n",
      " 2.582e+00      2.528e+00       2.1%\n",
      "-5.229e-05      2.145e-01   410286.5%\n",
      "Exact        CS\n",
      "             (240296 shots)\n",
      "-9.332e-01       -9.160e-01     1.8%\n",
      " 1.534e+00        1.532e+00     0.2%\n",
      " 1.468e+00        1.468e+00     0.0%\n",
      " 4.529e-01        4.338e-01     4.2%\n",
      " 8.829e-01        8.735e-01     1.1%\n",
      "-2.410e-01       -2.198e-01     8.8%\n",
      "-9.631e-01       -9.613e-01     0.2%\n",
      "-9.743e-01       -9.550e-01     2.0%\n",
      " 1.497e+00        1.491e+00     0.4%\n",
      " 6.906e-01        7.030e-01     1.8%\n"
     ]
    }
   ],
   "source": [
    "for i_state in range(len(cs_result)):\n",
    "    cs_postprocessor = POVMPostprocessor(cs_result[i_state])\n",
    "    cs_est_exp_val = [cs_postprocessor.get_expectation_value(obs) for obs in set_observables]\n",
    "    cs_shots = sum(cs_postprocessor.counts.values())\n",
    "\n",
    "    n = int(np.ceil(np.log10(cs_shots)))\n",
    "    print('Exact        CS')\n",
    "    print(f'             ({cs_shots} shots)')\n",
    "    for i in range(len(set_observables)):\n",
    "        print(f'{np.real(exp_val[i_state,i]):>10.3e}   {cs_est_exp_val[i]:>{8+n}.3e}   {abs(cs_est_exp_val[i]-np.real(exp_val[i_state,i]))/abs(np.real(exp_val[i_state,i])):>{12-n}.1%}')"
   ]
  },
  {
   "cell_type": "markdown",
   "metadata": {},
   "source": [
    "## Multi_jobs"
   ]
  },
  {
   "cell_type": "code",
   "execution_count": 12,
   "metadata": {},
   "outputs": [],
   "source": [
    "cs_shots = 4096\n",
    "\n",
    "with Session(backend=backend) as session:\n",
    "    # First define a standard sampler (that will be used under the hood).\n",
    "    runtime_sampler = Sampler(session=session)\n",
    "    # Then define the POVM sampler, which takes BaseSampler as an argument.\n",
    "    sampler = POVMSampler(runtime_sampler)\n",
    "    # Submit the job by specifying which POVM to use, which circuit(s) to measure and the shot budget.\n",
    "    cs_jobs = sampler.run(pubs, povm=cs_implementation, shots=cs_shots, multi_job=True)"
   ]
  },
  {
   "cell_type": "code",
   "execution_count": 13,
   "metadata": {},
   "outputs": [
    {
     "name": "stdout",
     "output_type": "stream",
     "text": [
      "Exact        PM-sim\n",
      "             (4096 shots)\n",
      "-8.507e-01     -8.294e-01       2.5%\n",
      "-1.020e-01     -2.974e-01     191.4%\n",
      "-3.536e-01     -4.647e-01      31.4%\n",
      " 8.492e-01      7.545e-01      11.1%\n",
      " 1.152e+00      9.581e-01      16.8%\n",
      "-1.868e-02     -1.336e-02      28.4%\n",
      "-1.307e-01     -2.343e-01      79.3%\n",
      " 4.855e-01      3.949e-01      18.7%\n",
      " 8.988e-01      8.121e-01       9.6%\n",
      "-1.147e+00     -9.801e-01      14.6%\n",
      "Exact        PM-sim\n",
      "             (399741 shots)\n",
      " 8.480e-01        8.458e-01     0.3%\n",
      "-2.542e+00       -2.541e+00     0.0%\n",
      " 7.712e-02        6.093e-02    21.0%\n",
      "-8.587e-01       -8.431e-01     1.8%\n",
      "-1.164e+00       -1.164e+00     0.1%\n",
      "-6.345e-01       -6.233e-01     1.8%\n",
      "-1.015e+00       -1.003e+00     1.2%\n",
      "-6.353e-01       -6.101e-01     4.0%\n",
      " 1.555e+00        1.566e+00     0.7%\n",
      "-1.332e+00       -1.334e+00     0.2%\n",
      "Exact        PM-sim\n",
      "             (208445 shots)\n",
      "-6.979e-01       -6.590e-01     5.6%\n",
      "-5.791e-02       -9.199e-02    58.8%\n",
      " 1.120e+00        1.099e+00     1.9%\n",
      "-3.685e-01       -3.818e-01     3.6%\n",
      "-3.949e-01       -4.224e-01     7.0%\n",
      "-3.907e-01       -3.893e-01     0.3%\n",
      "-1.142e+00       -1.128e+00     1.3%\n",
      " 3.522e-01        3.667e-01     4.1%\n",
      " 2.261e+00        2.305e+00     2.0%\n",
      " 6.786e-01        6.764e-01     0.3%\n",
      "Exact        PM-sim\n",
      "             (4096 shots)\n",
      "-1.968e-01     -2.735e-01      39.0%\n",
      " 5.277e-01      7.013e-01      32.9%\n",
      " 1.028e-01     -4.837e-02     147.1%\n",
      " 2.831e-03      6.183e-02    2083.8%\n",
      "-1.752e+00     -1.793e+00       2.3%\n",
      "-2.495e-01     -2.563e-01       2.7%\n",
      " 1.258e-01      2.857e-02      77.3%\n",
      "-1.430e-01     -3.399e-01     137.7%\n",
      " 2.582e+00      2.601e+00       0.8%\n",
      "-5.229e-05      8.806e-02   168504.6%\n",
      "Exact        PM-sim\n",
      "             (240296 shots)\n",
      "-9.332e-01       -9.579e-01     2.6%\n",
      " 1.534e+00        1.549e+00     1.0%\n",
      " 1.468e+00        1.471e+00     0.2%\n",
      " 4.529e-01        4.321e-01     4.6%\n",
      " 8.829e-01        9.145e-01     3.6%\n",
      "-2.410e-01       -2.414e-01     0.2%\n",
      "-9.631e-01       -9.635e-01     0.0%\n",
      "-9.743e-01       -1.003e+00     2.9%\n",
      " 1.497e+00        1.513e+00     1.1%\n",
      " 6.906e-01        6.926e-01     0.3%\n"
     ]
    }
   ],
   "source": [
    "for i_state, cs_job in enumerate(cs_jobs):\n",
    "    cs_result = cs_job.result()[0]\n",
    "    cs_postprocessor = POVMPostprocessor(cs_result)\n",
    "    cs_est_exp_val = [cs_postprocessor.get_expectation_value(obs) for obs in set_observables]\n",
    "    cs_shots = sum(cs_postprocessor.counts.values())\n",
    "\n",
    "    n = int(np.ceil(np.log10(cs_shots)))\n",
    "    print('Exact        PM-sim')\n",
    "    print(f'             ({cs_shots} shots)')\n",
    "    for i in range(len(set_observables)):\n",
    "        print(f'{np.real(exp_val[i_state,i]):>10.3e}   {cs_est_exp_val[i]:>{8+n}.3e}   {abs(cs_est_exp_val[i]-np.real(exp_val[i_state,i]))/abs(np.real(exp_val[i_state,i])):>{12-n}.1%}')"
   ]
  },
  {
   "cell_type": "markdown",
   "metadata": {},
   "source": [
    "# PM-simulable POVM\n",
    "We now look at POVM that are simulable (through randomization) with only single-qubit projective measurements (PMs)."
   ]
  },
  {
   "cell_type": "code",
   "execution_count": 14,
   "metadata": {},
   "outputs": [],
   "source": [
    "pubs_pm = []\n",
    "for pub in pubs:\n",
    "    pubs_pm.append((pub[0], None, pub[2], None))\n",
    "\n",
    "# Define our projective measurements acting on each qubit.\n",
    "angles = np.array([[0.0, 0.0, 0.5 * np.pi, 0.0, 0.5 * np.pi, 0.5 * np.pi],[1.2,0.0, 0.1,3.14,0.7,0.3], [0.2,0.1, 1.2,3.14,-0.7,0.3]])\n",
    "# Set the distributions of the shots among the PMs.\n",
    "bias = np.array([[0.34, 0.33, 0.33], [0.7,0.15,0.15], [0.34,0.33,0.33]])\n",
    "\n",
    "# Define the PM-simulable POVM.\n",
    "pmsim_implementation = RandomizedPMs(n_qubit=n_qubit, bias=bias, angles=angles)"
   ]
  },
  {
   "cell_type": "code",
   "execution_count": 15,
   "metadata": {},
   "outputs": [],
   "source": [
    "pmsim_shots = 4096\n",
    "\n",
    "with Session(backend=backend) as session:\n",
    "    # First define a standard sampler (that will be used under the hood).\n",
    "    runtime_sampler = Sampler(session=session)\n",
    "    # Then define the POVM sampler, which takes BaseSampler as an argument.\n",
    "    sampler = POVMSampler(runtime_sampler)\n",
    "    # Submit the job by specifying which POVM to use, which circuit(s) to measure and the shot budget.\n",
    "    pmsim_job = sampler.run(pubs_pm, povm=pmsim_implementation, shots=pmsim_shots)"
   ]
  },
  {
   "cell_type": "markdown",
   "metadata": {},
   "source": [
    "## Results\n",
    "\n",
    "Retrieve the result of the sampling and use it to estiamte some expectation values via the post-processor"
   ]
  },
  {
   "cell_type": "code",
   "execution_count": 16,
   "metadata": {},
   "outputs": [
    {
     "name": "stdout",
     "output_type": "stream",
     "text": [
      "Exact        PM-sim\n",
      "             (4096 shots)\n",
      "-8.507e-01     -8.990e+00     956.8%\n",
      "-1.020e-01      2.740e+00    2785.6%\n",
      "-3.536e-01      2.457e+00     795.0%\n",
      " 8.492e-01      3.786e+00     345.8%\n",
      " 1.152e+00      2.520e+00     118.7%\n",
      "-1.868e-02     -1.282e+00    6765.1%\n",
      "-1.307e-01      2.896e-01     321.6%\n",
      " 4.855e-01      3.005e+00     518.9%\n",
      " 8.988e-01     -3.620e+00     502.8%\n",
      "-1.147e+00     -2.716e-01      76.3%\n",
      "Exact        PM-sim\n",
      "             (399741 shots)\n",
      " 8.480e-01        3.845e-01    54.7%\n",
      "-2.542e+00       -2.563e+00     0.8%\n",
      " 7.712e-02       -1.727e-01   324.0%\n",
      "-8.587e-01       -8.366e-01     2.6%\n",
      "-1.164e+00       -1.470e+00    26.2%\n",
      "-6.345e-01       -5.971e-01     5.9%\n",
      "-1.015e+00       -1.207e+00    18.9%\n",
      "-6.353e-01       -4.751e-01    25.2%\n",
      " 1.555e+00        5.835e-01    62.5%\n",
      "-1.332e+00       -1.504e+00    13.0%\n",
      "Exact        PM-sim\n",
      "             (208445 shots)\n",
      "-6.979e-01       -1.463e+00   109.7%\n",
      "-5.791e-02        3.672e-01   734.0%\n",
      " 1.120e+00        1.573e+00    40.4%\n",
      "-3.685e-01       -7.031e-01    90.8%\n",
      "-3.949e-01       -5.912e-02    85.0%\n",
      "-3.907e-01       -2.928e-01    25.1%\n",
      "-1.142e+00       -1.192e+00     4.3%\n",
      " 3.522e-01        5.612e-01    59.4%\n",
      " 2.261e+00        2.359e+00     4.3%\n",
      " 6.786e-01        9.795e-01    44.3%\n",
      "Exact        PM-sim\n",
      "             (4096 shots)\n",
      "-1.968e-01     -6.644e+00    3276.8%\n",
      " 5.277e-01      2.591e+00     391.1%\n",
      " 1.028e-01      2.139e+00    1980.2%\n",
      " 2.831e-03     -2.061e+00   72879.1%\n",
      "-1.752e+00     -1.490e+00      14.9%\n",
      "-2.495e-01      7.265e-01     391.2%\n",
      " 1.258e-01     -1.797e+00    1527.8%\n",
      "-1.430e-01      1.702e+00    1290.3%\n",
      " 2.582e+00      2.903e+00      12.4%\n",
      "-5.229e-05      2.644e+00   5056860.9%\n",
      "Exact        PM-sim\n",
      "             (240296 shots)\n",
      "-9.332e-01       -1.567e+00    68.0%\n",
      " 1.534e+00        1.812e+00    18.1%\n",
      " 1.468e+00        1.524e+00     3.8%\n",
      " 4.529e-01        1.133e+00   150.3%\n",
      " 8.829e-01        1.173e+00    32.9%\n",
      "-2.410e-01       -7.076e-01   193.7%\n",
      "-9.631e-01       -9.199e-01     4.5%\n",
      "-9.743e-01       -1.338e+00    37.3%\n",
      " 1.497e+00        7.620e-01    49.1%\n",
      " 6.906e-01        5.407e-01    21.7%\n"
     ]
    }
   ],
   "source": [
    "pmsim_result = pmsim_job.result()\n",
    "\n",
    "for i_state in range(len(pmsim_result)):\n",
    "    pmsim_postprocessor = POVMPostprocessor(pmsim_result[i_state])\n",
    "    pmsim_est_exp_val = [pmsim_postprocessor.get_expectation_value(obs) for obs in set_observables]\n",
    "    pmsim_shots = sum(pmsim_postprocessor.counts.values())\n",
    "\n",
    "    n = int(np.ceil(np.log10(pmsim_shots)))\n",
    "    print('Exact        PM-sim')\n",
    "    print(f'             ({pmsim_shots} shots)')\n",
    "    for i in range(len(set_observables)):\n",
    "        print(f'{np.real(exp_val[i_state,i]):>10.3e}   {pmsim_est_exp_val[i]:>{8+n}.3e}   {abs(pmsim_est_exp_val[i]-np.real(exp_val[i_state,i]))/abs(np.real(exp_val[i_state,i])):>{12-n}.1%}')"
   ]
  },
  {
   "cell_type": "code",
   "execution_count": null,
   "metadata": {},
   "outputs": [],
   "source": []
  }
 ],
 "metadata": {
  "kernelspec": {
   "display_name": ".venv",
   "language": "python",
   "name": "python3"
  },
  "language_info": {
   "codemirror_mode": {
    "name": "ipython",
    "version": 3
   },
   "file_extension": ".py",
   "mimetype": "text/x-python",
   "name": "python",
   "nbconvert_exporter": "python",
   "pygments_lexer": "ipython3",
   "version": "3.10.13"
  }
 },
 "nbformat": 4,
 "nbformat_minor": 2
}
